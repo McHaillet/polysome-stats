{
 "cells": [
  {
   "cell_type": "code",
   "execution_count": 4,
   "id": "3a806721",
   "metadata": {},
   "outputs": [],
   "source": [
    "import numpy as np\n",
    "import numpy.lib.recfunctions as rfn\n",
    "import matplotlib\n",
    "import matplotlib.pyplot as plt\n",
    "import starfile\n",
    "from mpl_toolkits.mplot3d.art3d import Poly3DCollection\n",
    "from scipy.ndimage import binary_dilation, binary_erosion"
   ]
  },
  {
   "cell_type": "code",
   "execution_count": 5,
   "id": "6dd627d7",
   "metadata": {},
   "outputs": [],
   "source": [
    "# import seaborn and set context for nicer plotting style\n",
    "import seaborn as sns\n",
    "sns.set_theme(context='poster', style='ticks', font='Helvetica')"
   ]
  },
  {
   "cell_type": "code",
   "execution_count": 33,
   "id": "d669f426",
   "metadata": {},
   "outputs": [],
   "source": [
    "df = starfile.read('../data/particles/HEKFWT_RiboStates_New.star')\n",
    "optics = df['optics']\n",
    "df_wt = df['particles']"
   ]
  },
  {
   "cell_type": "code",
   "execution_count": 11,
   "id": "e8b54ae6",
   "metadata": {},
   "outputs": [],
   "source": [
    "# are shifts zero?\n",
    "xshift = data_wt['rlnOriginXAngst']\n",
    "yshift = data_wt['rlnOriginYAngst']\n",
    "zshift = data_wt['rlnOriginZAngst']\n",
    "assert all([c == 0. for c in [xshift.min(), xshift.max(), yshift.min(), yshift.max(), zshift.min(), zshift.max()]])"
   ]
  },
  {
   "cell_type": "code",
   "execution_count": 14,
   "id": "a4c3a126",
   "metadata": {},
   "outputs": [],
   "source": [
    "# get the pixel size and check whether its equal over the list\n",
    "pixel_size = 1  # in A\n",
    "if np.all(data_wt['rlnPixelSize'] == data_wt['rlnPixelSize'][0]):\n",
    "    pixel_size = data_wt['rlnPixelSize'][0]\n",
    "else:\n",
    "    print('pixel size not identical over dataset')"
   ]
  },
  {
   "cell_type": "code",
   "execution_count": 63,
   "id": "a8c4d9c2",
   "metadata": {},
   "outputs": [],
   "source": [
    "# adjust coordinates to A\n",
    "df_wt['x_angst'], df_wt['y_angst'], df_wt['z_angst'] = df_wt['rlnCoordinateX'] * pixel_size, \\\n",
    "                                                       df_wt['rlnCoordinateY'] * pixel_size, \\\n",
    "                                                       df_wt['rlnCoordinateZ'] * pixel_size"
   ]
  },
  {
   "cell_type": "markdown",
   "id": "744e5165",
   "metadata": {},
   "source": [
    "In this dataset classification information was annotated in the rlnMicrographName columns (see below).\n",
    "\n",
    "First part of the name is the tomogram identifier, they also contain date information (the ones without date were also collected on the same date). The last three parts of the name indicate active/hibernating, membrane/soluble/uncertain (Mem/Sol/Unk), and if membrane bound also translocon state NCLN/OST/TRAP."
   ]
  },
  {
   "cell_type": "code",
   "execution_count": 24,
   "id": "29520ac4",
   "metadata": {},
   "outputs": [
    {
     "data": {
      "text/plain": [
       "0                 tomo1.mrc.tomostar.active.Mem.NCLN\n",
       "10000      tomo210602_11.mrc.tomostar.active.Mem.OST\n",
       "20000     tomo210821_294.mrc.tomostar.active.Mem.OST\n",
       "30000      tomo210813_11.mrc.tomostar.active.Mem.OST\n",
       "40000      tomo200528_72.mrc.tomostar.active.Mem.OST\n",
       "50000             tomo66.mrc.tomostar.active.Mem.OST\n",
       "60000     tomo210821_247.mrc.tomostar.active.Mem.OST\n",
       "70000          tomo210602_29.mrc.tomostar.active.Sol\n",
       "80000         tomo210624_120.mrc.tomostar.active.Sol\n",
       "90000          tomo210813_78.mrc.tomostar.active.Sol\n",
       "100000         tomo210813_21.mrc.tomostar.active.Unk\n",
       "110000        tomo210813_125.mrc.tomostar.active.Unk\n",
       "120000        tomo210730_140.mrc.tomostar.active.Unk\n",
       "130000         tomo210624_89.mrc.tomostar.active.Unk\n",
       "Name: rlnMicrographName, dtype: object"
      ]
     },
     "execution_count": 24,
     "metadata": {},
     "output_type": "execute_result"
    }
   ],
   "source": [
    "df_wt[::10000]['rlnMicrographName']"
   ]
  },
  {
   "cell_type": "markdown",
   "id": "47f48153",
   "metadata": {},
   "source": [
    "We need to split it to extract the information. After splitting, I added these classes as columns to the pandas dataframe."
   ]
  },
  {
   "cell_type": "code",
   "execution_count": 35,
   "id": "68302223",
   "metadata": {},
   "outputs": [],
   "source": [
    "# ribosome states\n",
    "df_wt['tomogram'] = [name.split('.')[0] for name in data_wt['rlnMicrographName']]  # first get the tomogram name\n",
    "df_wt['date'] = [n.split('_')[0] if len(n.split('_')) == 2 else 'tomo' for n in df_wt['tomogram']]\n",
    "df_wt['activity'] = [name.split('.')[3] for name in data_wt['rlnMicrographName']]\n",
    "df_wt['membrane'] = [name.split('.')[4] for name in data_wt['rlnMicrographName']]\n",
    "df_wt['translocon'] = [name.split('.')[5] if len(name.split('.')) == 6 \n",
    "                            else 'Unk' for name in data_wt['rlnMicrographName']]\n",
    "df_wt['state'] = [tl if ms == 'Mem' else ms for ms, tl in zip(df_wt['membrane'], df_wt['translocon'])]"
   ]
  },
  {
   "cell_type": "markdown",
   "id": "7a1a837e",
   "metadata": {},
   "source": [
    "Get some additional annotations from other particle lists. Particle identity between lists is matched based on subtomogram name or rotation angle similarity (both are not ideal, but we have to deal with it). This part of the code is a bit custom, but it will be very situational. So, I decided not to wrap it with functions.\n",
    "\n",
    "This will open lists that were classified based on elongations state and append the information as a new column to the dataframe."
   ]
  },
  {
   "cell_type": "code",
   "execution_count": 58,
   "id": "8e379c53",
   "metadata": {},
   "outputs": [
    {
     "name": "stdout",
     "output_type": "stream",
     "text": [
      "freq Dec :  0.20081875697804244\n",
      "freq Post :  0.10056568663937476\n",
      "freq Pre :  0.028909564570152587\n",
      "freq Pre+ :  0.2979903237811686\n",
      "freq Rot1 :  0.0394491998511351\n",
      "freq Rot1+ :  0.031231857089691107\n",
      "freq Rot2 :  0.15303312244138445\n",
      "freq RotIdle :  0.03387420915519166\n",
      "freq Translocation :  0.04308894678079643\n",
      "freq UnRotIdle :  0.05630815035355415\n"
     ]
    }
   ],
   "source": [
    "base = '../data/particles/HEKFWT_'\n",
    "names = ['Dec', 'Post', 'Pre', 'Pre+', 'Rot1', 'Rot1+', \n",
    "         'Rot2', 'RotIdle', 'Translocation', 'UnRotIdle']\n",
    "df_wt['elongation'] = ['Unk', ] * df_wt.shape[0]\n",
    "\n",
    "for n in names:\n",
    "    data_temp = starfile.read(base + n + '.star')['particles']\n",
    "    subt_temp = [name.split('/')[-1] for name in data_temp['rlnImageName']]\n",
    "    for i, subtomo in enumerate(df_wt['rlnImageName']):\n",
    "        if subtomo.split('/')[-1] in subt_temp:\n",
    "            df_wt.loc[i, 'elongation'] = n\n",
    "    print('freq ' + n + ' : ', len(subt_temp) / df_wt.shape[0])\n"
   ]
  },
  {
   "cell_type": "markdown",
   "id": "a7fb0714",
   "metadata": {},
   "source": [
    "Here we open annotations of presence of the trap and ccdc47 complexes in multipass (NCLN) translocons. I combine the data in a column at the end that has an overview of all different types of translocons and soluble and unassigned states. This is the classification we used for the main figures of the manuscript."
   ]
  },
  {
   "cell_type": "code",
   "execution_count": 65,
   "id": "780e9ccb",
   "metadata": {},
   "outputs": [
    {
     "name": "stdout",
     "output_type": "stream",
     "text": [
      "('a', 'a')\n",
      "('a', 'p')\n",
      "not unique\n",
      "not unique\n",
      "not unique\n",
      "not unique\n",
      "('p', 'a')\n",
      "not unique\n",
      "not unique\n",
      "('p', 'p')\n"
     ]
    }
   ],
   "source": [
    "base = '../data/particles/MP_TRAP{trap}CCDC47{ccd}.star'\n",
    "# a = absent, p = present\n",
    "names = [('a', 'a'), ('a', 'p'), ('p', 'a'), ('p', 'p')]\n",
    "df_wt['trapccdc'] = ['Unk', ] * df_wt.shape[0]\n",
    "\n",
    "for n in names:\n",
    "    print(n)\n",
    "    data_temp = starfile.read(base.format(trap=n[0], ccd=n[1]))['particles']\n",
    "    rot, tilt, psi = data_temp['rlnAngleRot'], data_temp['rlnAngleTilt'], data_temp['rlnAnglePsi']\n",
    "    for i, (r, t, p) in enumerate(zip(df_wt.rlnAngleRot, df_wt.rlnAngleTilt, df_wt.rlnAnglePsi)):\n",
    "        # try to find matches of the rotations\n",
    "        # might be better to do it on positions\n",
    "        present = np.logical_and(np.logical_and(r == rot, t == tilt), p == psi)\n",
    "        if np.sum(present) > 1:\n",
    "            print('not unique')\n",
    "        elif np.sum(present) == 1:\n",
    "            df_wt.loc[i, 'trapccdc'] = n[0] + n[1]\n",
    "#     print('freq ' + n + ' : ', len(subt_temp) / table_wt.shape[0])\n",
    "\n",
    "trapccdc_dict = {'aa': '', 'ap': 'CCDC47', 'pa': 'TRAP', 'pp': 'TRAPCCDC47'}\n",
    "comb_state = np.array(['NCLN' + trapccdc_dict[trapccdc] if (st == 'NCLN' and trapccdc != 'Unk') \n",
    "                       else st for st, trapccdc in zip(df_wt.state, df_wt.trapccdc)])\n",
    "df_wt['state_full'] = comb_state"
   ]
  },
  {
   "cell_type": "markdown",
   "id": "0c14a0e5",
   "metadata": {},
   "source": [
    "## Neighbour density"
   ]
  },
  {
   "cell_type": "code",
   "execution_count": 71,
   "id": "daeea519",
   "metadata": {},
   "outputs": [],
   "source": [
    "from neighbours import neighbour_position_3d"
   ]
  },
  {
   "cell_type": "code",
   "execution_count": 73,
   "id": "e2677428",
   "metadata": {},
   "outputs": [
    {
     "ename": "AttributeError",
     "evalue": "'DataFrame' object has no attribute 'x'",
     "output_type": "error",
     "traceback": [
      "\u001b[0;31m---------------------------------------------------------------------------\u001b[0m",
      "\u001b[0;31mAttributeError\u001b[0m                            Traceback (most recent call last)",
      "Input \u001b[0;32mIn [73]\u001b[0m, in \u001b[0;36m<cell line: 1>\u001b[0;34m()\u001b[0m\n\u001b[0;32m----> 1\u001b[0m relative_coords_mem, plane_norm \u001b[38;5;241m=\u001b[39m \u001b[43mneighbour_position_3d\u001b[49m\u001b[43m(\u001b[49m\u001b[43mdf_wt\u001b[49m\u001b[43m[\u001b[49m\u001b[43mdf_wt\u001b[49m\u001b[38;5;241;43m.\u001b[39;49m\u001b[43mactivity\u001b[49m\u001b[38;5;241;43m==\u001b[39;49m\u001b[38;5;124;43m'\u001b[39;49m\u001b[38;5;124;43mactive\u001b[39;49m\u001b[38;5;124;43m'\u001b[39;49m\u001b[43m]\u001b[49m\u001b[43m,\u001b[49m\u001b[43m \u001b[49m\u001b[43mclass_column_name\u001b[49m\u001b[38;5;241;43m=\u001b[39;49m\u001b[38;5;124;43m'\u001b[39;49m\u001b[38;5;124;43mstate\u001b[39;49m\u001b[38;5;124;43m'\u001b[39;49m\u001b[43m,\u001b[49m\n\u001b[1;32m      2\u001b[0m \u001b[43m                                                    \u001b[49m\u001b[43mcenter_classes\u001b[49m\u001b[38;5;241;43m=\u001b[39;49m\u001b[43m[\u001b[49m\u001b[38;5;124;43m'\u001b[39;49m\u001b[38;5;124;43mNCLN\u001b[39;49m\u001b[38;5;124;43m'\u001b[39;49m\u001b[43m,\u001b[49m\u001b[43m \u001b[49m\u001b[38;5;124;43m'\u001b[39;49m\u001b[38;5;124;43mNCLN+TRAP\u001b[39;49m\u001b[38;5;124;43m'\u001b[39;49m\u001b[43m,\u001b[49m\u001b[43m \u001b[49m\u001b[38;5;124;43m'\u001b[39;49m\u001b[38;5;124;43mOST\u001b[39;49m\u001b[38;5;124;43m'\u001b[39;49m\u001b[43m,\u001b[49m\u001b[43m \u001b[49m\u001b[38;5;124;43m'\u001b[39;49m\u001b[38;5;124;43mTRAP\u001b[39;49m\u001b[38;5;124;43m'\u001b[39;49m\u001b[43m]\u001b[49m\u001b[43m,\u001b[49m\n\u001b[1;32m      3\u001b[0m \u001b[43m                                                    \u001b[49m\u001b[43mneighbour_classes\u001b[49m\u001b[38;5;241;43m=\u001b[39;49m\u001b[43m[\u001b[49m\u001b[38;5;124;43m'\u001b[39;49m\u001b[38;5;124;43mNCLN\u001b[39;49m\u001b[38;5;124;43m'\u001b[39;49m\u001b[43m,\u001b[49m\u001b[43m \u001b[49m\u001b[38;5;124;43m'\u001b[39;49m\u001b[38;5;124;43mNCLN+TRAP\u001b[39;49m\u001b[38;5;124;43m'\u001b[39;49m\u001b[43m,\u001b[49m\u001b[43m \u001b[49m\u001b[38;5;124;43m'\u001b[39;49m\u001b[38;5;124;43mOST\u001b[39;49m\u001b[38;5;124;43m'\u001b[39;49m\u001b[43m,\u001b[49m\u001b[43m \u001b[49m\u001b[38;5;124;43m'\u001b[39;49m\u001b[38;5;124;43mTRAP\u001b[39;49m\u001b[38;5;124;43m'\u001b[39;49m\u001b[43m]\u001b[49m\u001b[43m,\u001b[49m\u001b[43m \u001b[49m\u001b[38;5;66;43;03m#, 'Unk'],\u001b[39;49;00m\n\u001b[1;32m      4\u001b[0m \u001b[43m                                                    \u001b[49m\u001b[43mplane_norm\u001b[49m\u001b[38;5;241;43m=\u001b[39;49m\u001b[43m[\u001b[49m\u001b[38;5;241;43m0.25\u001b[39;49m\u001b[43m,\u001b[49m\u001b[43m \u001b[49m\u001b[38;5;241;43m0.40\u001b[39;49m\u001b[43m,\u001b[49m\u001b[43m \u001b[49m\u001b[38;5;241;43m0.88\u001b[39;49m\u001b[43m]\u001b[49m\u001b[43m)\u001b[49m\n\u001b[1;32m      6\u001b[0m \u001b[38;5;66;03m# %matplotlib qt\u001b[39;00m\n\u001b[1;32m      7\u001b[0m \u001b[38;5;66;03m# fig, ax = plot_3d(relative_coords_mem, plane_norm)\u001b[39;00m\n\u001b[1;32m      8\u001b[0m \u001b[38;5;66;03m# plt.show()\u001b[39;00m\n\u001b[1;32m     10\u001b[0m get_ipython()\u001b[38;5;241m.\u001b[39mrun_line_magic(\u001b[38;5;124m'\u001b[39m\u001b[38;5;124mmatplotlib\u001b[39m\u001b[38;5;124m'\u001b[39m, \u001b[38;5;124m'\u001b[39m\u001b[38;5;124minline\u001b[39m\u001b[38;5;124m'\u001b[39m)\n",
      "File \u001b[0;32m~/projects/polysome-stats/polysomes/neighbours.py:30\u001b[0m, in \u001b[0;36mneighbour_position_3d\u001b[0;34m(dataframe, neighbourhood, plane_norm, reference, estimate_membrane_plane, class_column_name, center_classes, neighbour_classes)\u001b[0m\n\u001b[1;32m     27\u001b[0m \u001b[38;5;28;01mfor\u001b[39;00m tomo \u001b[38;5;129;01min\u001b[39;00m tomograms:\n\u001b[1;32m     28\u001b[0m     \u001b[38;5;66;03m# select tomogram from dataframe\u001b[39;00m\n\u001b[1;32m     29\u001b[0m     df_tomogram \u001b[38;5;241m=\u001b[39m dataframe[dataframe\u001b[38;5;241m.\u001b[39mtomogram \u001b[38;5;241m==\u001b[39m tomo]\n\u001b[0;32m---> 30\u001b[0m     coordinates \u001b[38;5;241m=\u001b[39m np\u001b[38;5;241m.\u001b[39marray([\u001b[43mdf_tomogram\u001b[49m\u001b[38;5;241;43m.\u001b[39;49m\u001b[43mx\u001b[49m, df_tomogram\u001b[38;5;241m.\u001b[39my, df_tomogram\u001b[38;5;241m.\u001b[39mz])\u001b[38;5;241m.\u001b[39mT\n\u001b[1;32m     31\u001b[0m     rotations \u001b[38;5;241m=\u001b[39m np\u001b[38;5;241m.\u001b[39marray([df_tomogram\u001b[38;5;241m.\u001b[39mrot, df_tomogram\u001b[38;5;241m.\u001b[39mtilt, df_tomogram\u001b[38;5;241m.\u001b[39mpsi])\u001b[38;5;241m.\u001b[39mT\n\u001b[1;32m     33\u001b[0m     n_part_in_tomo \u001b[38;5;241m=\u001b[39m df_tomogram\u001b[38;5;241m.\u001b[39mshape[\u001b[38;5;241m0\u001b[39m]\n",
      "File \u001b[0;32m~/miniconda3/envs/polysome-stats/lib/python3.8/site-packages/pandas/core/generic.py:5575\u001b[0m, in \u001b[0;36mNDFrame.__getattr__\u001b[0;34m(self, name)\u001b[0m\n\u001b[1;32m   5568\u001b[0m \u001b[38;5;28;01mif\u001b[39;00m (\n\u001b[1;32m   5569\u001b[0m     name \u001b[38;5;129;01mnot\u001b[39;00m \u001b[38;5;129;01min\u001b[39;00m \u001b[38;5;28mself\u001b[39m\u001b[38;5;241m.\u001b[39m_internal_names_set\n\u001b[1;32m   5570\u001b[0m     \u001b[38;5;129;01mand\u001b[39;00m name \u001b[38;5;129;01mnot\u001b[39;00m \u001b[38;5;129;01min\u001b[39;00m \u001b[38;5;28mself\u001b[39m\u001b[38;5;241m.\u001b[39m_metadata\n\u001b[1;32m   5571\u001b[0m     \u001b[38;5;129;01mand\u001b[39;00m name \u001b[38;5;129;01mnot\u001b[39;00m \u001b[38;5;129;01min\u001b[39;00m \u001b[38;5;28mself\u001b[39m\u001b[38;5;241m.\u001b[39m_accessors\n\u001b[1;32m   5572\u001b[0m     \u001b[38;5;129;01mand\u001b[39;00m \u001b[38;5;28mself\u001b[39m\u001b[38;5;241m.\u001b[39m_info_axis\u001b[38;5;241m.\u001b[39m_can_hold_identifiers_and_holds_name(name)\n\u001b[1;32m   5573\u001b[0m ):\n\u001b[1;32m   5574\u001b[0m     \u001b[38;5;28;01mreturn\u001b[39;00m \u001b[38;5;28mself\u001b[39m[name]\n\u001b[0;32m-> 5575\u001b[0m \u001b[38;5;28;01mreturn\u001b[39;00m \u001b[38;5;28;43mobject\u001b[39;49m\u001b[38;5;241;43m.\u001b[39;49m\u001b[38;5;21;43m__getattribute__\u001b[39;49m\u001b[43m(\u001b[49m\u001b[38;5;28;43mself\u001b[39;49m\u001b[43m,\u001b[49m\u001b[43m \u001b[49m\u001b[43mname\u001b[49m\u001b[43m)\u001b[49m\n",
      "\u001b[0;31mAttributeError\u001b[0m: 'DataFrame' object has no attribute 'x'"
     ]
    }
   ],
   "source": [
    "relative_coords_mem, plane_norm = neighbour_position_3d(df_wt[df_wt.activity=='active'], class_column_name='state',\n",
    "                                                    center_classes=['NCLN', 'NCLN+TRAP', 'OST', 'TRAP'],\n",
    "                                                    neighbour_classes=['NCLN', 'NCLN+TRAP', 'OST', 'TRAP'], #, 'Unk'],\n",
    "                                                    plane_norm=[0.25, 0.40, 0.88])\n",
    "\n",
    "# %matplotlib qt\n",
    "# fig, ax = plot_3d(relative_coords_mem, plane_norm)\n",
    "# plt.show()\n",
    "\n",
    "%matplotlib inline\n",
    "fig, ax, hist, edges = density_plot(relative_coords_mem, (-550, 550), 15, (6, 6), probability=True, \n",
    "                                    tick_labels=[-500, -250, 0, 250, 500], vrange=(0, 0.008))"
   ]
  }
 ],
 "metadata": {
  "kernelspec": {
   "display_name": "Python 3 (ipykernel)",
   "language": "python",
   "name": "python3"
  },
  "language_info": {
   "codemirror_mode": {
    "name": "ipython",
    "version": 3
   },
   "file_extension": ".py",
   "mimetype": "text/x-python",
   "name": "python",
   "nbconvert_exporter": "python",
   "pygments_lexer": "ipython3",
   "version": "3.8.13"
  }
 },
 "nbformat": 4,
 "nbformat_minor": 5
}
