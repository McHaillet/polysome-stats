{
 "cells": [
  {
   "cell_type": "markdown",
   "id": "b9509f3f",
   "metadata": {},
   "source": [
    "## mclogit installation\n",
    "\n",
    "We first install mclogit. Its not included in the env.yaml because it can only be installed from within R. Only run the cell below once in the environment to install it."
   ]
  },
  {
   "cell_type": "code",
   "execution_count": 1,
   "id": "94b71af2",
   "metadata": {},
   "outputs": [
    {
     "name": "stderr",
     "output_type": "stream",
     "text": [
      "also installing the dependencies ‘lattice’, ‘MASS’, ‘data.table’, ‘yaml’, ‘Matrix’, ‘memisc’\n",
      "\n",
      "Updating HTML index of packages in '.Library'\n",
      "Making 'packages.html' ... done\n"
     ]
    }
   ],
   "source": [
    "# only run this cell once in the R version of the conda environment\n",
    "install.packages(\"mclogit\")"
   ]
  },
  {
   "cell_type": "markdown",
   "id": "ad74750e",
   "metadata": {},
   "source": [
    "Now we still need to load the packages, same as import of python modules. This needs to be done each time for the notebook.\n",
    "\n",
    "We also need to import some functions for the analysis of the statistical models."
   ]
  },
  {
   "cell_type": "code",
   "execution_count": 4,
   "id": "eebd9d42",
   "metadata": {},
   "outputs": [],
   "source": [
    "library(\"mclogit\")\n",
    "source(\"mclogit-effects.r\")"
   ]
  },
  {
   "cell_type": "markdown",
   "id": "86de617c",
   "metadata": {},
   "source": [
    "## Importing the dataframe to R"
   ]
  },
  {
   "cell_type": "code",
   "execution_count": 6,
   "id": "c1145801",
   "metadata": {},
   "outputs": [],
   "source": [
    "# we can directly read the stored pandas dataframe to R\n",
    "df_wt <- read.csv(\"../data/results/dataframe.csv\")"
   ]
  },
  {
   "cell_type": "code",
   "execution_count": 7,
   "id": "c6a1eb26",
   "metadata": {},
   "outputs": [
    {
     "data": {
      "text/html": [
       "<table>\n",
       "<thead><tr><th scope=col>X</th><th scope=col>rlnCoordinateX</th><th scope=col>rlnCoordinateY</th><th scope=col>rlnCoordinateZ</th><th scope=col>rlnAngleRot</th><th scope=col>rlnAngleTilt</th><th scope=col>rlnAnglePsi</th><th scope=col>rlnImageName</th><th scope=col>rlnCtfImage</th><th scope=col>rlnRandomSubset</th><th scope=col>...</th><th scope=col>state</th><th scope=col>elongation</th><th scope=col>trapccdc</th><th scope=col>state_full</th><th scope=col>trailing_id</th><th scope=col>leading_id</th><th scope=col>tr_state_full</th><th scope=col>ld_state_full</th><th scope=col>tr_elongation</th><th scope=col>ld_elongation</th></tr></thead>\n",
       "<tbody>\n",
       "\t<tr><td>0                                                                                                              </td><td>872.7986                                                                                                       </td><td>529.7619                                                                                                       </td><td>286.2439                                                                                                       </td><td>  11.28056                                                                                                     </td><td> 82.88946                                                                                                      </td><td> 181.65190                                                                                                     </td><td>/data2/mgemmer/WARPM/HEKFWT/000_Subtomograms/001_TM_bin4/tomo1.mrc/tomo1.mrc_Particles_TM_0000082_6.90A.mrc    </td><td>/data2/mgemmer/WARPM/HEKFWT/000_Subtomograms/001_TM_bin4/tomo1.mrc/tomo1.mrc_Particles_TM_0000082_ctf_6.90A.mrc</td><td>1                                                                                                              </td><td>...                                                                                                            </td><td>NCLN                                                                                                           </td><td>Dec                                                                                                            </td><td>ap                                                                                                             </td><td>NCLNCCDC47                                                                                                     </td><td>   -1                                                                                                          </td><td>   -1                                                                                                          </td><td>non                                                                                                            </td><td>non                                                                                                            </td><td>non                                                                                                            </td><td>non                                                                                                            </td></tr>\n",
       "\t<tr><td>1                                                                                                              </td><td>401.9046                                                                                                       </td><td>214.0999                                                                                                       </td><td>138.9087                                                                                                       </td><td> -61.55985                                                                                                     </td><td>136.25310                                                                                                      </td><td>-135.14440                                                                                                     </td><td>/data2/mgemmer/WARPM/HEKFWT/000_Subtomograms/001_TM_bin4/tomo1.mrc/tomo1.mrc_Particles_TM_0000074_6.90A.mrc    </td><td>/data2/mgemmer/WARPM/HEKFWT/000_Subtomograms/001_TM_bin4/tomo1.mrc/tomo1.mrc_Particles_TM_0000074_ctf_6.90A.mrc</td><td>1                                                                                                              </td><td>...                                                                                                            </td><td>OST                                                                                                            </td><td>Dec                                                                                                            </td><td>Unk                                                                                                            </td><td>OST                                                                                                            </td><td>43744                                                                                                          </td><td>   -1                                                                                                          </td><td>OST                                                                                                            </td><td>non                                                                                                            </td><td>Rot1                                                                                                           </td><td>non                                                                                                            </td></tr>\n",
       "\t<tr><td>2                                                                                                              </td><td>824.8273                                                                                                       </td><td>699.2300                                                                                                       </td><td>245.7589                                                                                                       </td><td> -54.52035                                                                                                     </td><td> 85.32531                                                                                                      </td><td> 102.23010                                                                                                     </td><td>/data2/mgemmer/WARPM/HEKFWT/000_Subtomograms/001_TM_bin4/tomo1.mrc/tomo1.mrc_Particles_TM_0000066_6.90A.mrc    </td><td>/data2/mgemmer/WARPM/HEKFWT/000_Subtomograms/001_TM_bin4/tomo1.mrc/tomo1.mrc_Particles_TM_0000066_ctf_6.90A.mrc</td><td>1                                                                                                              </td><td>...                                                                                                            </td><td>OST                                                                                                            </td><td>Dec                                                                                                            </td><td>Unk                                                                                                            </td><td>OST                                                                                                            </td><td>22540                                                                                                          </td><td>   -1                                                                                                          </td><td>TRAP                                                                                                           </td><td>non                                                                                                            </td><td>Pre+                                                                                                           </td><td>non                                                                                                            </td></tr>\n",
       "\t<tr><td>3                                                                                                              </td><td>854.6401                                                                                                       </td><td>663.1552                                                                                                       </td><td>180.3849                                                                                                       </td><td> 135.56340                                                                                                     </td><td>108.82990                                                                                                      </td><td> 170.21040                                                                                                     </td><td>/data2/mgemmer/WARPM/HEKFWT/000_Subtomograms/001_TM_bin4/tomo1.mrc/tomo1.mrc_Particles_TM_0000131_6.90A.mrc    </td><td>/data2/mgemmer/WARPM/HEKFWT/000_Subtomograms/001_TM_bin4/tomo1.mrc/tomo1.mrc_Particles_TM_0000131_ctf_6.90A.mrc</td><td>2                                                                                                              </td><td>...                                                                                                            </td><td>OST                                                                                                            </td><td>Dec                                                                                                            </td><td>Unk                                                                                                            </td><td>OST                                                                                                            </td><td>   -1                                                                                                          </td><td>   -1                                                                                                          </td><td>non                                                                                                            </td><td>non                                                                                                            </td><td>non                                                                                                            </td><td>non                                                                                                            </td></tr>\n",
       "\t<tr><td>4                                                                                                              </td><td>365.4104                                                                                                       </td><td>783.4767                                                                                                       </td><td>171.0251                                                                                                       </td><td>-170.52960                                                                                                     </td><td> 96.45240                                                                                                      </td><td>  78.46428                                                                                                     </td><td>/data2/mgemmer/WARPM/HEKFWT/000_Subtomograms/001_TM_bin4/tomo1.mrc/tomo1.mrc_Particles_TM_0000084_6.90A.mrc    </td><td>/data2/mgemmer/WARPM/HEKFWT/000_Subtomograms/001_TM_bin4/tomo1.mrc/tomo1.mrc_Particles_TM_0000084_ctf_6.90A.mrc</td><td>1                                                                                                              </td><td>...                                                                                                            </td><td>TRAP                                                                                                           </td><td>Dec                                                                                                            </td><td>Unk                                                                                                            </td><td>TRAP                                                                                                           </td><td>93748                                                                                                          </td><td>77732                                                                                                          </td><td>Unk                                                                                                            </td><td>Sol                                                                                                            </td><td>Rot2                                                                                                           </td><td>Rot2                                                                                                           </td></tr>\n",
       "</tbody>\n",
       "</table>\n"
      ],
      "text/latex": [
       "\\begin{tabular}{r|llllllllllllllllllllllllllllllllllllllll}\n",
       " X & rlnCoordinateX & rlnCoordinateY & rlnCoordinateZ & rlnAngleRot & rlnAngleTilt & rlnAnglePsi & rlnImageName & rlnCtfImage & rlnRandomSubset & ... & state & elongation & trapccdc & state\\_full & trailing\\_id & leading\\_id & tr\\_state\\_full & ld\\_state\\_full & tr\\_elongation & ld\\_elongation\\\\\n",
       "\\hline\n",
       "\t 0                                                                                                                               & 872.7986                                                                                                                        & 529.7619                                                                                                                        & 286.2439                                                                                                                        &   11.28056                                                                                                                      &  82.88946                                                                                                                       &  181.65190                                                                                                                      & /data2/mgemmer/WARPM/HEKFWT/000\\_Subtomograms/001\\_TM\\_bin4/tomo1.mrc/tomo1.mrc\\_Particles\\_TM\\_0000082\\_6.90A.mrc       & /data2/mgemmer/WARPM/HEKFWT/000\\_Subtomograms/001\\_TM\\_bin4/tomo1.mrc/tomo1.mrc\\_Particles\\_TM\\_0000082\\_ctf\\_6.90A.mrc & 1                                                                                                                               & ...                                                                                                                             & NCLN                                                                                                                            & Dec                                                                                                                             & ap                                                                                                                              & NCLNCCDC47                                                                                                                      &    -1                                                                                                                           &    -1                                                                                                                           & non                                                                                                                             & non                                                                                                                             & non                                                                                                                             & non                                                                                                                            \\\\\n",
       "\t 1                                                                                                                               & 401.9046                                                                                                                        & 214.0999                                                                                                                        & 138.9087                                                                                                                        &  -61.55985                                                                                                                      & 136.25310                                                                                                                       & -135.14440                                                                                                                      & /data2/mgemmer/WARPM/HEKFWT/000\\_Subtomograms/001\\_TM\\_bin4/tomo1.mrc/tomo1.mrc\\_Particles\\_TM\\_0000074\\_6.90A.mrc       & /data2/mgemmer/WARPM/HEKFWT/000\\_Subtomograms/001\\_TM\\_bin4/tomo1.mrc/tomo1.mrc\\_Particles\\_TM\\_0000074\\_ctf\\_6.90A.mrc & 1                                                                                                                               & ...                                                                                                                             & OST                                                                                                                             & Dec                                                                                                                             & Unk                                                                                                                             & OST                                                                                                                             & 43744                                                                                                                           &    -1                                                                                                                           & OST                                                                                                                             & non                                                                                                                             & Rot1                                                                                                                            & non                                                                                                                            \\\\\n",
       "\t 2                                                                                                                               & 824.8273                                                                                                                        & 699.2300                                                                                                                        & 245.7589                                                                                                                        &  -54.52035                                                                                                                      &  85.32531                                                                                                                       &  102.23010                                                                                                                      & /data2/mgemmer/WARPM/HEKFWT/000\\_Subtomograms/001\\_TM\\_bin4/tomo1.mrc/tomo1.mrc\\_Particles\\_TM\\_0000066\\_6.90A.mrc       & /data2/mgemmer/WARPM/HEKFWT/000\\_Subtomograms/001\\_TM\\_bin4/tomo1.mrc/tomo1.mrc\\_Particles\\_TM\\_0000066\\_ctf\\_6.90A.mrc & 1                                                                                                                               & ...                                                                                                                             & OST                                                                                                                             & Dec                                                                                                                             & Unk                                                                                                                             & OST                                                                                                                             & 22540                                                                                                                           &    -1                                                                                                                           & TRAP                                                                                                                            & non                                                                                                                             & Pre+                                                                                                                            & non                                                                                                                            \\\\\n",
       "\t 3                                                                                                                               & 854.6401                                                                                                                        & 663.1552                                                                                                                        & 180.3849                                                                                                                        &  135.56340                                                                                                                      & 108.82990                                                                                                                       &  170.21040                                                                                                                      & /data2/mgemmer/WARPM/HEKFWT/000\\_Subtomograms/001\\_TM\\_bin4/tomo1.mrc/tomo1.mrc\\_Particles\\_TM\\_0000131\\_6.90A.mrc       & /data2/mgemmer/WARPM/HEKFWT/000\\_Subtomograms/001\\_TM\\_bin4/tomo1.mrc/tomo1.mrc\\_Particles\\_TM\\_0000131\\_ctf\\_6.90A.mrc & 2                                                                                                                               & ...                                                                                                                             & OST                                                                                                                             & Dec                                                                                                                             & Unk                                                                                                                             & OST                                                                                                                             &    -1                                                                                                                           &    -1                                                                                                                           & non                                                                                                                             & non                                                                                                                             & non                                                                                                                             & non                                                                                                                            \\\\\n",
       "\t 4                                                                                                                               & 365.4104                                                                                                                        & 783.4767                                                                                                                        & 171.0251                                                                                                                        & -170.52960                                                                                                                      &  96.45240                                                                                                                       &   78.46428                                                                                                                      & /data2/mgemmer/WARPM/HEKFWT/000\\_Subtomograms/001\\_TM\\_bin4/tomo1.mrc/tomo1.mrc\\_Particles\\_TM\\_0000084\\_6.90A.mrc       & /data2/mgemmer/WARPM/HEKFWT/000\\_Subtomograms/001\\_TM\\_bin4/tomo1.mrc/tomo1.mrc\\_Particles\\_TM\\_0000084\\_ctf\\_6.90A.mrc & 1                                                                                                                               & ...                                                                                                                             & TRAP                                                                                                                            & Dec                                                                                                                             & Unk                                                                                                                             & TRAP                                                                                                                            & 93748                                                                                                                           & 77732                                                                                                                           & Unk                                                                                                                             & Sol                                                                                                                             & Rot2                                                                                                                            & Rot2                                                                                                                           \\\\\n",
       "\\end{tabular}\n"
      ],
      "text/markdown": [
       "\n",
       "| X | rlnCoordinateX | rlnCoordinateY | rlnCoordinateZ | rlnAngleRot | rlnAngleTilt | rlnAnglePsi | rlnImageName | rlnCtfImage | rlnRandomSubset | ... | state | elongation | trapccdc | state_full | trailing_id | leading_id | tr_state_full | ld_state_full | tr_elongation | ld_elongation |\n",
       "|---|---|---|---|---|---|---|---|---|---|---|---|---|---|---|---|---|---|---|---|---|\n",
       "| 0                                                                                                               | 872.7986                                                                                                        | 529.7619                                                                                                        | 286.2439                                                                                                        |   11.28056                                                                                                      |  82.88946                                                                                                       |  181.65190                                                                                                      | /data2/mgemmer/WARPM/HEKFWT/000_Subtomograms/001_TM_bin4/tomo1.mrc/tomo1.mrc_Particles_TM_0000082_6.90A.mrc     | /data2/mgemmer/WARPM/HEKFWT/000_Subtomograms/001_TM_bin4/tomo1.mrc/tomo1.mrc_Particles_TM_0000082_ctf_6.90A.mrc | 1                                                                                                               | ...                                                                                                             | NCLN                                                                                                            | Dec                                                                                                             | ap                                                                                                              | NCLNCCDC47                                                                                                      |    -1                                                                                                           |    -1                                                                                                           | non                                                                                                             | non                                                                                                             | non                                                                                                             | non                                                                                                             |\n",
       "| 1                                                                                                               | 401.9046                                                                                                        | 214.0999                                                                                                        | 138.9087                                                                                                        |  -61.55985                                                                                                      | 136.25310                                                                                                       | -135.14440                                                                                                      | /data2/mgemmer/WARPM/HEKFWT/000_Subtomograms/001_TM_bin4/tomo1.mrc/tomo1.mrc_Particles_TM_0000074_6.90A.mrc     | /data2/mgemmer/WARPM/HEKFWT/000_Subtomograms/001_TM_bin4/tomo1.mrc/tomo1.mrc_Particles_TM_0000074_ctf_6.90A.mrc | 1                                                                                                               | ...                                                                                                             | OST                                                                                                             | Dec                                                                                                             | Unk                                                                                                             | OST                                                                                                             | 43744                                                                                                           |    -1                                                                                                           | OST                                                                                                             | non                                                                                                             | Rot1                                                                                                            | non                                                                                                             |\n",
       "| 2                                                                                                               | 824.8273                                                                                                        | 699.2300                                                                                                        | 245.7589                                                                                                        |  -54.52035                                                                                                      |  85.32531                                                                                                       |  102.23010                                                                                                      | /data2/mgemmer/WARPM/HEKFWT/000_Subtomograms/001_TM_bin4/tomo1.mrc/tomo1.mrc_Particles_TM_0000066_6.90A.mrc     | /data2/mgemmer/WARPM/HEKFWT/000_Subtomograms/001_TM_bin4/tomo1.mrc/tomo1.mrc_Particles_TM_0000066_ctf_6.90A.mrc | 1                                                                                                               | ...                                                                                                             | OST                                                                                                             | Dec                                                                                                             | Unk                                                                                                             | OST                                                                                                             | 22540                                                                                                           |    -1                                                                                                           | TRAP                                                                                                            | non                                                                                                             | Pre+                                                                                                            | non                                                                                                             |\n",
       "| 3                                                                                                               | 854.6401                                                                                                        | 663.1552                                                                                                        | 180.3849                                                                                                        |  135.56340                                                                                                      | 108.82990                                                                                                       |  170.21040                                                                                                      | /data2/mgemmer/WARPM/HEKFWT/000_Subtomograms/001_TM_bin4/tomo1.mrc/tomo1.mrc_Particles_TM_0000131_6.90A.mrc     | /data2/mgemmer/WARPM/HEKFWT/000_Subtomograms/001_TM_bin4/tomo1.mrc/tomo1.mrc_Particles_TM_0000131_ctf_6.90A.mrc | 2                                                                                                               | ...                                                                                                             | OST                                                                                                             | Dec                                                                                                             | Unk                                                                                                             | OST                                                                                                             |    -1                                                                                                           |    -1                                                                                                           | non                                                                                                             | non                                                                                                             | non                                                                                                             | non                                                                                                             |\n",
       "| 4                                                                                                               | 365.4104                                                                                                        | 783.4767                                                                                                        | 171.0251                                                                                                        | -170.52960                                                                                                      |  96.45240                                                                                                       |   78.46428                                                                                                      | /data2/mgemmer/WARPM/HEKFWT/000_Subtomograms/001_TM_bin4/tomo1.mrc/tomo1.mrc_Particles_TM_0000084_6.90A.mrc     | /data2/mgemmer/WARPM/HEKFWT/000_Subtomograms/001_TM_bin4/tomo1.mrc/tomo1.mrc_Particles_TM_0000084_ctf_6.90A.mrc | 1                                                                                                               | ...                                                                                                             | TRAP                                                                                                            | Dec                                                                                                             | Unk                                                                                                             | TRAP                                                                                                            | 93748                                                                                                           | 77732                                                                                                           | Unk                                                                                                             | Sol                                                                                                             | Rot2                                                                                                            | Rot2                                                                                                            |\n",
       "\n"
      ],
      "text/plain": [
       "  X rlnCoordinateX rlnCoordinateY rlnCoordinateZ rlnAngleRot rlnAngleTilt\n",
       "1 0 872.7986       529.7619       286.2439         11.28056   82.88946   \n",
       "2 1 401.9046       214.0999       138.9087        -61.55985  136.25310   \n",
       "3 2 824.8273       699.2300       245.7589        -54.52035   85.32531   \n",
       "4 3 854.6401       663.1552       180.3849        135.56340  108.82990   \n",
       "5 4 365.4104       783.4767       171.0251       -170.52960   96.45240   \n",
       "  rlnAnglePsi\n",
       "1  181.65190 \n",
       "2 -135.14440 \n",
       "3  102.23010 \n",
       "4  170.21040 \n",
       "5   78.46428 \n",
       "  rlnImageName                                                                                               \n",
       "1 /data2/mgemmer/WARPM/HEKFWT/000_Subtomograms/001_TM_bin4/tomo1.mrc/tomo1.mrc_Particles_TM_0000082_6.90A.mrc\n",
       "2 /data2/mgemmer/WARPM/HEKFWT/000_Subtomograms/001_TM_bin4/tomo1.mrc/tomo1.mrc_Particles_TM_0000074_6.90A.mrc\n",
       "3 /data2/mgemmer/WARPM/HEKFWT/000_Subtomograms/001_TM_bin4/tomo1.mrc/tomo1.mrc_Particles_TM_0000066_6.90A.mrc\n",
       "4 /data2/mgemmer/WARPM/HEKFWT/000_Subtomograms/001_TM_bin4/tomo1.mrc/tomo1.mrc_Particles_TM_0000131_6.90A.mrc\n",
       "5 /data2/mgemmer/WARPM/HEKFWT/000_Subtomograms/001_TM_bin4/tomo1.mrc/tomo1.mrc_Particles_TM_0000084_6.90A.mrc\n",
       "  rlnCtfImage                                                                                                    \n",
       "1 /data2/mgemmer/WARPM/HEKFWT/000_Subtomograms/001_TM_bin4/tomo1.mrc/tomo1.mrc_Particles_TM_0000082_ctf_6.90A.mrc\n",
       "2 /data2/mgemmer/WARPM/HEKFWT/000_Subtomograms/001_TM_bin4/tomo1.mrc/tomo1.mrc_Particles_TM_0000074_ctf_6.90A.mrc\n",
       "3 /data2/mgemmer/WARPM/HEKFWT/000_Subtomograms/001_TM_bin4/tomo1.mrc/tomo1.mrc_Particles_TM_0000066_ctf_6.90A.mrc\n",
       "4 /data2/mgemmer/WARPM/HEKFWT/000_Subtomograms/001_TM_bin4/tomo1.mrc/tomo1.mrc_Particles_TM_0000131_ctf_6.90A.mrc\n",
       "5 /data2/mgemmer/WARPM/HEKFWT/000_Subtomograms/001_TM_bin4/tomo1.mrc/tomo1.mrc_Particles_TM_0000084_ctf_6.90A.mrc\n",
       "  rlnRandomSubset ... state elongation trapccdc state_full trailing_id\n",
       "1 1               ... NCLN  Dec        ap       NCLNCCDC47    -1      \n",
       "2 1               ... OST   Dec        Unk      OST        43744      \n",
       "3 1               ... OST   Dec        Unk      OST        22540      \n",
       "4 2               ... OST   Dec        Unk      OST           -1      \n",
       "5 1               ... TRAP  Dec        Unk      TRAP       93748      \n",
       "  leading_id tr_state_full ld_state_full tr_elongation ld_elongation\n",
       "1    -1      non           non           non           non          \n",
       "2    -1      OST           non           Rot1          non          \n",
       "3    -1      TRAP          non           Pre+          non          \n",
       "4    -1      non           non           non           non          \n",
       "5 77732      Unk           Sol           Rot2          Rot2         "
      ]
     },
     "metadata": {},
     "output_type": "display_data"
    }
   ],
   "source": [
    "# inspect the R dataframe\n",
    "head(df_wt, n=5)"
   ]
  },
  {
   "cell_type": "code",
   "execution_count": 8,
   "id": "483e67bc",
   "metadata": {},
   "outputs": [],
   "source": [
    "# add some annotation => one for whether the ribosome has any polysome connections\n",
    "# this way we can test the probability of classes being present in a polysome chain\n",
    "df_wt$in_chain <- ((df_wt$trailing_id != -1) | (df_wt$leading_id != -1)) # has trailing or leading connection\n",
    "df_wt$in_chain <- factor(df_wt$in_chain)"
   ]
  },
  {
   "cell_type": "markdown",
   "id": "2e116924",
   "metadata": {},
   "source": [
    "## Fitting a multinomial logit model with mixed effects\n",
    "\n",
    "For the random parameter we first set (~1|date) meaning a random intercept per date, but fixed slope."
   ]
  },
  {
   "cell_type": "code",
   "execution_count": 28,
   "id": "62a48701",
   "metadata": {
    "scrolled": false
   },
   "outputs": [
    {
     "name": "stdout",
     "output_type": "stream",
     "text": [
      "\n",
      "Iteration 1 - deviance = 172531.6 - criterion = 1.861356\n",
      "Iteration 2 - deviance = 172286.4 - criterion = 0.02638476\n",
      "Iteration 3 - deviance = 172282 - criterion = 0.001012971\n",
      "Iteration 4 - deviance = 172282 - criterion = 3.173725e-06\n",
      "Iteration 5 - deviance = 172282 - criterion = 2.818981e-11\n",
      "converged\n"
     ]
    },
    {
     "data": {
      "text/plain": [
       "\n",
       "Call:\n",
       "mblogit(formula = in_chain ~ elongation, data = temp, random = ~1 | \n",
       "    date, control = mmclogit.control(epsilon = 1e-08, maxit = 100))\n",
       "\n",
       "Equation for TRUE vs FALSE:\n",
       "                        Estimate Std. Error z value Pr(>|z|)    \n",
       "(Intercept)             -0.01354    0.07759  -0.174 0.861522    \n",
       "elongationPost          -0.10493    0.02115  -4.961 7.01e-07 ***\n",
       "elongationPre            0.18662    0.03472   5.375 7.64e-08 ***\n",
       "elongationPre+           0.30819    0.01593  19.347  < 2e-16 ***\n",
       "elongationRot1           0.38052    0.03083  12.342  < 2e-16 ***\n",
       "elongationRot1+          0.80278    0.03614  22.212  < 2e-16 ***\n",
       "elongationRot2           0.33712    0.01883  17.904  < 2e-16 ***\n",
       "elongationRotIdle       -2.83749    0.06312 -44.956  < 2e-16 ***\n",
       "elongationTranslocation -0.10007    0.02903  -3.447 0.000567 ***\n",
       "elongationUnRotIdle     -1.46086    0.03109 -46.993  < 2e-16 ***\n",
       "---\n",
       "Signif. codes:  0 ‘***’ 0.001 ‘**’ 0.01 ‘*’ 0.05 ‘.’ 0.1 ‘ ’ 1\n",
       "\n",
       "(Co-)Variances:\n",
       "Grouping level: date \n",
       "       Estimate   Std.Err. \n",
       "TRUE~1 0.04089    2.584e-05\n",
       "\n",
       "Approximate residual deviance: 172300 \n",
       "Number of Fisher scoring iterations:  5\n",
       "Number of observations\n",
       "  Groups by date: 7\n",
       "  Individual observations:  132371"
      ]
     },
     "metadata": {},
     "output_type": "display_data"
    }
   ],
   "source": [
    "# create temporary dataframe with only ribosomes assigned to an elongation cycle intermediate\n",
    "temp <- df_wt[ df_wt$elongation %in% c('Dec', 'Post', 'Pre', 'Pre+', 'Rot1', 'Rot1+', \n",
    "         'Rot2', 'RotIdle', 'Translocation', 'UnRotIdle'), , drop=FALSE ]\n",
    "temp$elongation <- factor(temp$elongation)\n",
    "\n",
    "model_elongation_state_in_chain_1a <- mblogit(in_chain ~ elongation, data = temp, random = ~1|date,\n",
    "                       control=mmclogit.control(epsilon = 1e-08, maxit = 100))\n",
    "summary(model_elongation_state_in_chain_1a)"
   ]
  },
  {
   "cell_type": "code",
   "execution_count": 13,
   "id": "b97eeedb",
   "metadata": {},
   "outputs": [
    {
     "data": {
      "text/html": [
       "<style>\n",
       ".list-inline {list-style: none; margin:0; padding: 0}\n",
       ".list-inline>li {display: inline-block}\n",
       ".list-inline>li:not(:last-child)::after {content: \"\\00b7\"; padding: 0 .5ex}\n",
       "</style>\n",
       "<ol class=list-inline><li>'Dec'</li><li>'Post'</li><li>'Pre'</li><li>'Pre+'</li><li>'Rot1'</li><li>'Rot1+'</li><li>'Rot2'</li><li>'RotIdle'</li><li>'Translocation'</li><li>'UnRotIdle'</li></ol>\n"
      ],
      "text/latex": [
       "\\begin{enumerate*}\n",
       "\\item 'Dec'\n",
       "\\item 'Post'\n",
       "\\item 'Pre'\n",
       "\\item 'Pre+'\n",
       "\\item 'Rot1'\n",
       "\\item 'Rot1+'\n",
       "\\item 'Rot2'\n",
       "\\item 'RotIdle'\n",
       "\\item 'Translocation'\n",
       "\\item 'UnRotIdle'\n",
       "\\end{enumerate*}\n"
      ],
      "text/markdown": [
       "1. 'Dec'\n",
       "2. 'Post'\n",
       "3. 'Pre'\n",
       "4. 'Pre+'\n",
       "5. 'Rot1'\n",
       "6. 'Rot1+'\n",
       "7. 'Rot2'\n",
       "8. 'RotIdle'\n",
       "9. 'Translocation'\n",
       "10. 'UnRotIdle'\n",
       "\n",
       "\n"
      ],
      "text/plain": [
       " [1] \"Dec\"           \"Post\"          \"Pre\"           \"Pre+\"         \n",
       " [5] \"Rot1\"          \"Rot1+\"         \"Rot2\"          \"RotIdle\"      \n",
       " [9] \"Translocation\" \"UnRotIdle\"    "
      ]
     },
     "metadata": {},
     "output_type": "display_data"
    },
    {
     "data": {
      "text/html": [
       "<table class=\"dataframe\">\n",
       "<caption>A data.frame: 10 × 6</caption>\n",
       "<thead>\n",
       "\t<tr><th scope=col>prob.FALSE</th><th scope=col>prob.TRUE</th><th scope=col>L.prob.FALSE</th><th scope=col>L.prob.TRUE</th><th scope=col>U.prob.FALSE</th><th scope=col>U.prob.TRUE</th></tr>\n",
       "\t<tr><th scope=col>&lt;dbl&gt;</th><th scope=col>&lt;dbl&gt;</th><th scope=col>&lt;dbl&gt;</th><th scope=col>&lt;dbl&gt;</th><th scope=col>&lt;dbl&gt;</th><th scope=col>&lt;dbl&gt;</th></tr>\n",
       "</thead>\n",
       "<tbody>\n",
       "\t<tr><td>0.5033837</td><td>0.49661625</td><td>0.4654189</td><td>0.45869034</td><td>0.5413097</td><td>0.53458114</td></tr>\n",
       "\t<tr><td>0.5295805</td><td>0.47041949</td><td>0.4911488</td><td>0.43233532</td><td>0.5676647</td><td>0.50885124</td></tr>\n",
       "\t<tr><td>0.4568367</td><td>0.54316335</td><td>0.4167253</td><td>0.50248428</td><td>0.4975157</td><td>0.58327475</td></tr>\n",
       "\t<tr><td>0.4268644</td><td>0.57313556</td><td>0.3902731</td><td>0.53572584</td><td>0.4642742</td><td>0.60972686</td></tr>\n",
       "\t<tr><td>0.4092704</td><td>0.59072956</td><td>0.3712328</td><td>0.55157407</td><td>0.4484259</td><td>0.62876720</td></tr>\n",
       "\t<tr><td>0.3123298</td><td>0.68767019</td><td>0.2782021</td><td>0.65137804</td><td>0.3486220</td><td>0.72179787</td></tr>\n",
       "\t<tr><td>0.4198035</td><td>0.58019655</td><td>0.3831416</td><td>0.54262771</td><td>0.4573723</td><td>0.61685838</td></tr>\n",
       "\t<tr><td>0.9453716</td><td>0.05462841</td><td>0.9344957</td><td>0.04547044</td><td>0.9545296</td><td>0.06550426</td></tr>\n",
       "\t<tr><td>0.5283699</td><td>0.47163013</td><td>0.4886963</td><td>0.43231173</td><td>0.5676883</td><td>0.51130372</td></tr>\n",
       "\t<tr><td>0.8137246</td><td>0.18627537</td><td>0.7881965</td><td>0.16318702</td><td>0.8368130</td><td>0.21180354</td></tr>\n",
       "</tbody>\n",
       "</table>\n"
      ],
      "text/latex": [
       "A data.frame: 10 × 6\n",
       "\\begin{tabular}{llllll}\n",
       " prob.FALSE & prob.TRUE & L.prob.FALSE & L.prob.TRUE & U.prob.FALSE & U.prob.TRUE\\\\\n",
       " <dbl> & <dbl> & <dbl> & <dbl> & <dbl> & <dbl>\\\\\n",
       "\\hline\n",
       "\t 0.5033837 & 0.49661625 & 0.4654189 & 0.45869034 & 0.5413097 & 0.53458114\\\\\n",
       "\t 0.5295805 & 0.47041949 & 0.4911488 & 0.43233532 & 0.5676647 & 0.50885124\\\\\n",
       "\t 0.4568367 & 0.54316335 & 0.4167253 & 0.50248428 & 0.4975157 & 0.58327475\\\\\n",
       "\t 0.4268644 & 0.57313556 & 0.3902731 & 0.53572584 & 0.4642742 & 0.60972686\\\\\n",
       "\t 0.4092704 & 0.59072956 & 0.3712328 & 0.55157407 & 0.4484259 & 0.62876720\\\\\n",
       "\t 0.3123298 & 0.68767019 & 0.2782021 & 0.65137804 & 0.3486220 & 0.72179787\\\\\n",
       "\t 0.4198035 & 0.58019655 & 0.3831416 & 0.54262771 & 0.4573723 & 0.61685838\\\\\n",
       "\t 0.9453716 & 0.05462841 & 0.9344957 & 0.04547044 & 0.9545296 & 0.06550426\\\\\n",
       "\t 0.5283699 & 0.47163013 & 0.4886963 & 0.43231173 & 0.5676883 & 0.51130372\\\\\n",
       "\t 0.8137246 & 0.18627537 & 0.7881965 & 0.16318702 & 0.8368130 & 0.21180354\\\\\n",
       "\\end{tabular}\n"
      ],
      "text/markdown": [
       "\n",
       "A data.frame: 10 × 6\n",
       "\n",
       "| prob.FALSE &lt;dbl&gt; | prob.TRUE &lt;dbl&gt; | L.prob.FALSE &lt;dbl&gt; | L.prob.TRUE &lt;dbl&gt; | U.prob.FALSE &lt;dbl&gt; | U.prob.TRUE &lt;dbl&gt; |\n",
       "|---|---|---|---|---|---|\n",
       "| 0.5033837 | 0.49661625 | 0.4654189 | 0.45869034 | 0.5413097 | 0.53458114 |\n",
       "| 0.5295805 | 0.47041949 | 0.4911488 | 0.43233532 | 0.5676647 | 0.50885124 |\n",
       "| 0.4568367 | 0.54316335 | 0.4167253 | 0.50248428 | 0.4975157 | 0.58327475 |\n",
       "| 0.4268644 | 0.57313556 | 0.3902731 | 0.53572584 | 0.4642742 | 0.60972686 |\n",
       "| 0.4092704 | 0.59072956 | 0.3712328 | 0.55157407 | 0.4484259 | 0.62876720 |\n",
       "| 0.3123298 | 0.68767019 | 0.2782021 | 0.65137804 | 0.3486220 | 0.72179787 |\n",
       "| 0.4198035 | 0.58019655 | 0.3831416 | 0.54262771 | 0.4573723 | 0.61685838 |\n",
       "| 0.9453716 | 0.05462841 | 0.9344957 | 0.04547044 | 0.9545296 | 0.06550426 |\n",
       "| 0.5283699 | 0.47163013 | 0.4886963 | 0.43231173 | 0.5676883 | 0.51130372 |\n",
       "| 0.8137246 | 0.18627537 | 0.7881965 | 0.16318702 | 0.8368130 | 0.21180354 |\n",
       "\n"
      ],
      "text/plain": [
       "   prob.FALSE prob.TRUE  L.prob.FALSE L.prob.TRUE U.prob.FALSE U.prob.TRUE\n",
       "1  0.5033837  0.49661625 0.4654189    0.45869034  0.5413097    0.53458114 \n",
       "2  0.5295805  0.47041949 0.4911488    0.43233532  0.5676647    0.50885124 \n",
       "3  0.4568367  0.54316335 0.4167253    0.50248428  0.4975157    0.58327475 \n",
       "4  0.4268644  0.57313556 0.3902731    0.53572584  0.4642742    0.60972686 \n",
       "5  0.4092704  0.59072956 0.3712328    0.55157407  0.4484259    0.62876720 \n",
       "6  0.3123298  0.68767019 0.2782021    0.65137804  0.3486220    0.72179787 \n",
       "7  0.4198035  0.58019655 0.3831416    0.54262771  0.4573723    0.61685838 \n",
       "8  0.9453716  0.05462841 0.9344957    0.04547044  0.9545296    0.06550426 \n",
       "9  0.5283699  0.47163013 0.4886963    0.43231173  0.5676883    0.51130372 \n",
       "10 0.8137246  0.18627537 0.7881965    0.16318702  0.8368130    0.21180354 "
      ]
     },
     "metadata": {},
     "output_type": "display_data"
    }
   ],
   "source": [
    "fit.eff <- Effect.mblogit(model_elongation_state_in_chain_1a, 'elongation')\n",
    "fit.eff$predictors  # these are the row names\n",
    "data.frame(fit.eff$prob, fit.eff$lower.prob, fit.eff$upper.prob)  # of this table"
   ]
  },
  {
   "cell_type": "code",
   "execution_count": null,
   "id": "09b8c87f",
   "metadata": {},
   "outputs": [],
   "source": [
    "# we can right the results to a csv file as such:\n",
    "prediction <- data.frame(fit.eff$prob, fit.eff$lower.prob, fit.eff$upper.prob)\n",
    "write.csv(prediction, \"../data/results/mblogit_elongation-state-in-chain_rand-intercept.csv\", row.names=TRUE)"
   ]
  },
  {
   "cell_type": "markdown",
   "id": "65955a82",
   "metadata": {},
   "source": [
    "We can attempt to make the random effects more complex by making both the intercept and the slope random (~elongation|date). But for this we get convergence issues due to the large number of data points and logistic equations."
   ]
  },
  {
   "cell_type": "code",
   "execution_count": 29,
   "id": "2cdf0ad3",
   "metadata": {},
   "outputs": [
    {
     "name": "stderr",
     "output_type": "stream",
     "text": [
      "Warning message:\n",
      "“Inner iterations did not coverge - nlminb message: false convergence (8)”"
     ]
    },
    {
     "name": "stdout",
     "output_type": "stream",
     "text": [
      "\n",
      "Iteration 1 - deviance = 172491 - criterion = 1.847864"
     ]
    },
    {
     "name": "stderr",
     "output_type": "stream",
     "text": [
      "Warning message:\n",
      "“Inner iterations did not coverge - nlminb message: false convergence (8)”"
     ]
    },
    {
     "name": "stdout",
     "output_type": "stream",
     "text": [
      "\n",
      "Iteration 2 - deviance = 172236.2 - criterion = 0.0272795"
     ]
    },
    {
     "name": "stderr",
     "output_type": "stream",
     "text": [
      "Warning message:\n",
      "“Inner iterations did not coverge - nlminb message: false convergence (8)”"
     ]
    },
    {
     "name": "stdout",
     "output_type": "stream",
     "text": [
      "\n",
      "Iteration 3 - deviance = 172231.2 - criterion = 0.001070356"
     ]
    },
    {
     "name": "stderr",
     "output_type": "stream",
     "text": [
      "Warning message:\n",
      "“Inner iterations did not coverge - nlminb message: false convergence (8)”"
     ]
    },
    {
     "name": "stdout",
     "output_type": "stream",
     "text": [
      "\n",
      "Iteration 4 - deviance = 172230.9 - criterion = 3.526108e-06"
     ]
    },
    {
     "name": "stderr",
     "output_type": "stream",
     "text": [
      "Warning message:\n",
      "“Inner iterations did not coverge - nlminb message: false convergence (8)”"
     ]
    },
    {
     "name": "stdout",
     "output_type": "stream",
     "text": [
      "\n",
      "Iteration 5 - deviance = 172230.9 - criterion = 3.460444e-11\n",
      "converged\n"
     ]
    },
    {
     "data": {
      "text/plain": [
       "\n",
       "Call:\n",
       "mblogit(formula = in_chain ~ elongation, data = temp, random = list(~elongation | \n",
       "    date), control = mmclogit.control(epsilon = 1e-08, maxit = 100))\n",
       "\n",
       "Equation for TRUE vs FALSE:\n",
       "                        Estimate Std. Error z value Pr(>|z|)    \n",
       "(Intercept)              0.01124    0.06393   0.176 0.860398    \n",
       "elongationPost          -0.11312    0.03903  -2.898 0.003756 ** \n",
       "elongationPre            0.16721    0.05034   3.321 0.000896 ***\n",
       "elongationPre+           0.26079    0.05564   4.687 2.77e-06 ***\n",
       "elongationRot1           0.36188    0.05365   6.746 1.52e-11 ***\n",
       "elongationRot1+          0.76278    0.06040  12.630  < 2e-16 ***\n",
       "elongationRot2           0.29520    0.05213   5.663 1.49e-08 ***\n",
       "elongationRotIdle       -2.61256    0.18454 -14.157  < 2e-16 ***\n",
       "elongationTranslocation -0.12391    0.04305  -2.878 0.003998 ** \n",
       "elongationUnRotIdle     -1.34075    0.11036 -12.149  < 2e-16 ***\n",
       "---\n",
       "Signif. codes:  0 ‘***’ 0.001 ‘**’ 0.01 ‘*’ 0.05 ‘.’ 0.1 ‘ ’ 1\n",
       "\n",
       "(Co-)Variances:\n",
       "Grouping level: date \n",
       "                             Estimate                                                                                                        Std.Err.                                                                                           \n",
       "TRUE~1                        0.0272162                                                                                                      8.069e-04                                                                                          \n",
       "TRUE~elongationPost           0.0016041  0.0066888                                                                                           6.342e-05 5.216e-06                                                                                \n",
       "TRUE~elongationPre            0.0071080  0.0006560  0.0074595                                                                                2.296e-04 1.800e-05 6.536e-05                                                                      \n",
       "TRUE~elongationPre+           0.0131885 -0.0018206  0.0034237  0.0190881                                                                     6.675e-04 5.282e-05 1.898e-04 5.528e-04                                                            \n",
       "TRUE~elongationRot1           0.0064555 -0.0028519  0.0020841  0.0095964  0.0124284                                                          4.276e-04 3.398e-05 1.216e-04 3.544e-04 2.273e-04                                                  \n",
       "TRUE~elongationRot1+          0.0141055 -0.0004026  0.0044590  0.0111867  0.0059092  0.0152020                                               5.673e-04 4.470e-05 1.614e-04 4.695e-04 3.008e-04 3.989e-04                                        \n",
       "TRUE~elongationRot2           0.0117480 -0.0024941  0.0023912  0.0119620  0.0091239  0.0085140  0.0158719                                    5.833e-04 4.620e-05 1.658e-04 4.831e-04 3.098e-04 4.103e-04 4.223e-04                              \n",
       "TRUE~elongationRotIdle       -0.0628088  0.0040277 -0.0183939 -0.0499769 -0.0314822 -0.0434861 -0.0433505  0.2052527                         2.631e-03 2.076e-04 7.484e-04 2.178e-03 1.396e-03 1.850e-03 1.903e-03 8.583e-03                    \n",
       "TRUE~elongationTranslocation  0.0064204  0.0009889  0.0019948  0.0024797  0.0007807  0.0035533  0.0028054 -0.0145486  0.0057714              1.833e-04 1.434e-05 5.215e-05 1.515e-04 9.701e-05 1.288e-04 1.324e-04 5.973e-04 4.165e-05          \n",
       "TRUE~elongationUnRotIdle     -0.0338780  0.0047077 -0.0084914 -0.0315462 -0.0215050 -0.0245188 -0.0282259  0.1177605 -0.0067319  0.0764015   1.559e-03 1.233e-04 4.433e-04 1.291e-03 8.274e-04 1.096e-03 1.128e-03 5.086e-03 3.538e-04 3.014e-03\n",
       "\n",
       "Approximate residual deviance: 172200 \n",
       "Number of Fisher scoring iterations:  5\n",
       "Number of observations\n",
       "  Groups by date: 7\n",
       "  Individual observations:  132371"
      ]
     },
     "metadata": {},
     "output_type": "display_data"
    }
   ],
   "source": [
    "# create temporary dataframe with only ribosomes assigned to an elongation cycle intermediate\n",
    "temp <- df_wt[ df_wt$elongation %in% c('Dec', 'Post', 'Pre', 'Pre+', 'Rot1', 'Rot1+', \n",
    "         'Rot2', 'RotIdle', 'Translocation', 'UnRotIdle'), , drop=FALSE ]\n",
    "temp$elongation <- factor(temp$elongation)\n",
    "\n",
    "model_elongation_state_in_chain_1b <- mblogit(in_chain ~ elongation, data = temp, \n",
    "                                              random = list(~elongation|date),\n",
    "                       control=mmclogit.control(epsilon = 1e-08, maxit = 100))\n",
    "summary(model_elongation_state_in_chain_1b)"
   ]
  },
  {
   "cell_type": "markdown",
   "id": "5a2635c9",
   "metadata": {},
   "source": [
    "Instead we can also attempt to add a random intercept for both the date and tomogram id, by either putting `list(~1|date, ~1|tomogram)` or `~1|date/tomogram`. The latter works as these random effects are nested, i.e. a tomogram was always collected during a specific collection sessions (the date represents collection session)."
   ]
  },
  {
   "cell_type": "code",
   "execution_count": 11,
   "id": "7a7e5634",
   "metadata": {},
   "outputs": [
    {
     "name": "stdout",
     "output_type": "stream",
     "text": [
      "\n",
      "Iteration 1 - deviance = 170310.2 - criterion = 1.575212\n",
      "Iteration 2 - deviance = 170171.3 - criterion = 0.02305999\n",
      "Iteration 3 - deviance = 170173 - criterion = 0.001032284\n",
      "Iteration 4 - deviance = 170172 - criterion = 3.98744e-06\n",
      "Iteration 5 - deviance = 170172 - criterion = 5.753329e-11\n",
      "converged\n"
     ]
    },
    {
     "data": {
      "text/plain": [
       "\n",
       "Call:\n",
       "mblogit(formula = in_chain ~ elongation, data = temp, random = list(~1 | \n",
       "    date, ~1 | tomogram), control = mmclogit.control(epsilon = 1e-08, \n",
       "    maxit = 100))\n",
       "\n",
       "Equation for TRUE vs FALSE:\n",
       "                        Estimate Std. Error z value Pr(>|z|)    \n",
       "(Intercept)             -0.04566    0.08927  -0.512  0.60897    \n",
       "elongationPost          -0.09708    0.02148  -4.520 6.18e-06 ***\n",
       "elongationPre            0.18891    0.03523   5.362 8.24e-08 ***\n",
       "elongationPre+           0.31163    0.01616  19.280  < 2e-16 ***\n",
       "elongationRot1           0.37971    0.03131  12.128  < 2e-16 ***\n",
       "elongationRot1+          0.81705    0.03661  22.319  < 2e-16 ***\n",
       "elongationRot2           0.34359    0.01915  17.945  < 2e-16 ***\n",
       "elongationRotIdle       -2.83913    0.06356 -44.672  < 2e-16 ***\n",
       "elongationTranslocation -0.09209    0.02945  -3.127  0.00176 ** \n",
       "elongationUnRotIdle     -1.45999    0.03161 -46.188  < 2e-16 ***\n",
       "---\n",
       "Signif. codes:  0 ‘***’ 0.001 ‘**’ 0.01 ‘*’ 0.05 ‘.’ 0.1 ‘ ’ 1\n",
       "\n",
       "(Co-)Variances:\n",
       "Grouping level: date \n",
       "       Estimate   Std.Err. \n",
       "TRUE~1 0.05291    5.598e-05\n",
       "\n",
       "Grouping level: tomogram \n",
       "       Estimate   Std.Err. \n",
       "TRUE~1 0.1329     8.013e-05\n",
       "\n",
       "Approximate residual deviance: 170200 \n",
       "Number of Fisher scoring iterations:  5\n",
       "Number of observations\n",
       "  Groups by date: 7\n",
       "  Groups by tomogram: 866\n",
       "  Individual observations:  132371"
      ]
     },
     "metadata": {},
     "output_type": "display_data"
    }
   ],
   "source": [
    "# create temporary dataframe with only ribosomes assigned to an elongation cycle intermediate\n",
    "temp <- df_wt[ df_wt$elongation %in% c('Dec', 'Post', 'Pre', 'Pre+', 'Rot1', 'Rot1+', \n",
    "         'Rot2', 'RotIdle', 'Translocation', 'UnRotIdle'), , drop=FALSE ]\n",
    "temp$elongation <- factor(temp$elongation)\n",
    "\n",
    "model_elongation_state_in_chain_1b <- mblogit(in_chain ~ elongation, data = temp, random = list(~1|date, ~1|tomogram),\n",
    "                       control=mmclogit.control(epsilon = 1e-08, maxit = 100))\n",
    "summary(model_elongation_state_in_chain_1b)"
   ]
  },
  {
   "cell_type": "markdown",
   "id": "e8f89fc0",
   "metadata": {},
   "source": [
    "The variance-covariance matrix of the random effects (although now its just a single value), shows how much the output levels vary with the random variable. In this case we have one output level (true or false, but this can be condensed to a single value), and we see how much this varies with the random effect we included. In case of a matrix we dont want to see high values on the off-diagonals, higher values on the diagonals however just mean that the predictor varies with the date or tomogram number. This can also be a bad thing but depends on the variable and its abundance. In this case we see there is more variation per tomogram than there is per date. This is unsurprising as each date has many observations (approx. 20000 per date) while each tomogram has relatively little observations (approx. 100 per tomogram). The latter will inherently be more noisy. Its a good confirmation that there is no strange variance in the data though. "
   ]
  }
 ],
 "metadata": {
  "kernelspec": {
   "display_name": "R",
   "language": "R",
   "name": "ir"
  },
  "language_info": {
   "codemirror_mode": "r",
   "file_extension": ".r",
   "mimetype": "text/x-r-source",
   "name": "R",
   "pygments_lexer": "r",
   "version": "3.6.1"
  }
 },
 "nbformat": 4,
 "nbformat_minor": 5
}
