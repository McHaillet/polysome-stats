{
 "cells": [
  {
   "cell_type": "markdown",
   "id": "b9509f3f",
   "metadata": {},
   "source": [
    "## mclogit installation\n",
    "\n",
    "We first install mclogit. Its not included in the env.yaml because it can only be installed from within R. Only run the cell below once in the environment to install it."
   ]
  },
  {
   "cell_type": "code",
   "execution_count": 1,
   "id": "1ba20381",
   "metadata": {},
   "outputs": [
    {
     "name": "stderr",
     "output_type": "stream",
     "text": [
      "also installing the dependencies ‘data.table’, ‘memisc’\n",
      "\n",
      "Updating HTML index of packages in '.Library'\n",
      "Making 'packages.html' ... done\n"
     ]
    }
   ],
   "source": [
    "library(\"versions\")  # use versions library to install mclogit version 0.9.4.2 for consistency with paper\n",
    "install.versions(\"mclogit\", \"0.9.4.2\")"
   ]
  },
  {
   "cell_type": "markdown",
   "id": "ad74750e",
   "metadata": {},
   "source": [
    "Now we still need to load the packages, same as import of python modules. This needs to be done each time for the notebook.\n",
    "\n",
    "We also need to import some functions for the analysis of the statistical models."
   ]
  },
  {
   "cell_type": "code",
   "execution_count": 1,
   "id": "eebd9d42",
   "metadata": {},
   "outputs": [
    {
     "name": "stderr",
     "output_type": "stream",
     "text": [
      "Loading required package: Matrix\n"
     ]
    }
   ],
   "source": [
    "library(\"mclogit\")\n",
    "source(\"mclogit-effects.r\")"
   ]
  },
  {
   "cell_type": "markdown",
   "id": "86de617c",
   "metadata": {},
   "source": [
    "## Importing the dataframe to R"
   ]
  },
  {
   "cell_type": "code",
   "execution_count": 2,
   "id": "c1145801",
   "metadata": {},
   "outputs": [],
   "source": [
    "# we can directly read the stored pandas dataframe to R\n",
    "df_wt <- read.csv(\"../data/results/dataframe.csv\")"
   ]
  },
  {
   "cell_type": "code",
   "execution_count": 3,
   "id": "c6a1eb26",
   "metadata": {},
   "outputs": [
    {
     "data": {
      "text/html": [
       "<table>\n",
       "<thead><tr><th scope=col>X</th><th scope=col>rlnCoordinateX</th><th scope=col>rlnCoordinateY</th><th scope=col>rlnCoordinateZ</th><th scope=col>rlnAngleRot</th><th scope=col>rlnAngleTilt</th><th scope=col>rlnAnglePsi</th><th scope=col>rlnImageName</th><th scope=col>rlnCtfImage</th><th scope=col>rlnRandomSubset</th><th scope=col>...</th><th scope=col>state</th><th scope=col>elongation</th><th scope=col>trapccdc</th><th scope=col>state_full</th><th scope=col>trailing_id</th><th scope=col>leading_id</th><th scope=col>tr_state_full</th><th scope=col>ld_state_full</th><th scope=col>tr_elongation</th><th scope=col>ld_elongation</th></tr></thead>\n",
       "<tbody>\n",
       "\t<tr><td>0                                                                                                              </td><td>872.7986                                                                                                       </td><td>529.7619                                                                                                       </td><td>286.2439                                                                                                       </td><td>  11.28056                                                                                                     </td><td> 82.88946                                                                                                      </td><td> 181.65190                                                                                                     </td><td>/data2/mgemmer/WARPM/HEKFWT/000_Subtomograms/001_TM_bin4/tomo1.mrc/tomo1.mrc_Particles_TM_0000082_6.90A.mrc    </td><td>/data2/mgemmer/WARPM/HEKFWT/000_Subtomograms/001_TM_bin4/tomo1.mrc/tomo1.mrc_Particles_TM_0000082_ctf_6.90A.mrc</td><td>1                                                                                                              </td><td>...                                                                                                            </td><td>NCLN                                                                                                           </td><td>Dec                                                                                                            </td><td>ap                                                                                                             </td><td>NCLNCCDC47                                                                                                     </td><td>   -1                                                                                                          </td><td>   -1                                                                                                          </td><td>non                                                                                                            </td><td>non                                                                                                            </td><td>non                                                                                                            </td><td>non                                                                                                            </td></tr>\n",
       "\t<tr><td>1                                                                                                              </td><td>401.9046                                                                                                       </td><td>214.0999                                                                                                       </td><td>138.9087                                                                                                       </td><td> -61.55985                                                                                                     </td><td>136.25310                                                                                                      </td><td>-135.14440                                                                                                     </td><td>/data2/mgemmer/WARPM/HEKFWT/000_Subtomograms/001_TM_bin4/tomo1.mrc/tomo1.mrc_Particles_TM_0000074_6.90A.mrc    </td><td>/data2/mgemmer/WARPM/HEKFWT/000_Subtomograms/001_TM_bin4/tomo1.mrc/tomo1.mrc_Particles_TM_0000074_ctf_6.90A.mrc</td><td>1                                                                                                              </td><td>...                                                                                                            </td><td>OST                                                                                                            </td><td>Dec                                                                                                            </td><td>Unk                                                                                                            </td><td>OST                                                                                                            </td><td>43744                                                                                                          </td><td>   -1                                                                                                          </td><td>OST                                                                                                            </td><td>non                                                                                                            </td><td>Rot1                                                                                                           </td><td>non                                                                                                            </td></tr>\n",
       "\t<tr><td>2                                                                                                              </td><td>824.8273                                                                                                       </td><td>699.2300                                                                                                       </td><td>245.7589                                                                                                       </td><td> -54.52035                                                                                                     </td><td> 85.32531                                                                                                      </td><td> 102.23010                                                                                                     </td><td>/data2/mgemmer/WARPM/HEKFWT/000_Subtomograms/001_TM_bin4/tomo1.mrc/tomo1.mrc_Particles_TM_0000066_6.90A.mrc    </td><td>/data2/mgemmer/WARPM/HEKFWT/000_Subtomograms/001_TM_bin4/tomo1.mrc/tomo1.mrc_Particles_TM_0000066_ctf_6.90A.mrc</td><td>1                                                                                                              </td><td>...                                                                                                            </td><td>OST                                                                                                            </td><td>Dec                                                                                                            </td><td>Unk                                                                                                            </td><td>OST                                                                                                            </td><td>22540                                                                                                          </td><td>   -1                                                                                                          </td><td>TRAP                                                                                                           </td><td>non                                                                                                            </td><td>Pre+                                                                                                           </td><td>non                                                                                                            </td></tr>\n",
       "\t<tr><td>3                                                                                                              </td><td>854.6401                                                                                                       </td><td>663.1552                                                                                                       </td><td>180.3849                                                                                                       </td><td> 135.56340                                                                                                     </td><td>108.82990                                                                                                      </td><td> 170.21040                                                                                                     </td><td>/data2/mgemmer/WARPM/HEKFWT/000_Subtomograms/001_TM_bin4/tomo1.mrc/tomo1.mrc_Particles_TM_0000131_6.90A.mrc    </td><td>/data2/mgemmer/WARPM/HEKFWT/000_Subtomograms/001_TM_bin4/tomo1.mrc/tomo1.mrc_Particles_TM_0000131_ctf_6.90A.mrc</td><td>2                                                                                                              </td><td>...                                                                                                            </td><td>OST                                                                                                            </td><td>Dec                                                                                                            </td><td>Unk                                                                                                            </td><td>OST                                                                                                            </td><td>   -1                                                                                                          </td><td>   -1                                                                                                          </td><td>non                                                                                                            </td><td>non                                                                                                            </td><td>non                                                                                                            </td><td>non                                                                                                            </td></tr>\n",
       "\t<tr><td>4                                                                                                              </td><td>365.4104                                                                                                       </td><td>783.4767                                                                                                       </td><td>171.0251                                                                                                       </td><td>-170.52960                                                                                                     </td><td> 96.45240                                                                                                      </td><td>  78.46428                                                                                                     </td><td>/data2/mgemmer/WARPM/HEKFWT/000_Subtomograms/001_TM_bin4/tomo1.mrc/tomo1.mrc_Particles_TM_0000084_6.90A.mrc    </td><td>/data2/mgemmer/WARPM/HEKFWT/000_Subtomograms/001_TM_bin4/tomo1.mrc/tomo1.mrc_Particles_TM_0000084_ctf_6.90A.mrc</td><td>1                                                                                                              </td><td>...                                                                                                            </td><td>TRAP                                                                                                           </td><td>Dec                                                                                                            </td><td>Unk                                                                                                            </td><td>TRAP                                                                                                           </td><td>93748                                                                                                          </td><td>77732                                                                                                          </td><td>Unk                                                                                                            </td><td>Sol                                                                                                            </td><td>Rot2                                                                                                           </td><td>Rot2                                                                                                           </td></tr>\n",
       "</tbody>\n",
       "</table>\n"
      ],
      "text/latex": [
       "\\begin{tabular}{r|llllllllllllllllllllllllllllllllllllllll}\n",
       " X & rlnCoordinateX & rlnCoordinateY & rlnCoordinateZ & rlnAngleRot & rlnAngleTilt & rlnAnglePsi & rlnImageName & rlnCtfImage & rlnRandomSubset & ... & state & elongation & trapccdc & state\\_full & trailing\\_id & leading\\_id & tr\\_state\\_full & ld\\_state\\_full & tr\\_elongation & ld\\_elongation\\\\\n",
       "\\hline\n",
       "\t 0                                                                                                                               & 872.7986                                                                                                                        & 529.7619                                                                                                                        & 286.2439                                                                                                                        &   11.28056                                                                                                                      &  82.88946                                                                                                                       &  181.65190                                                                                                                      & /data2/mgemmer/WARPM/HEKFWT/000\\_Subtomograms/001\\_TM\\_bin4/tomo1.mrc/tomo1.mrc\\_Particles\\_TM\\_0000082\\_6.90A.mrc       & /data2/mgemmer/WARPM/HEKFWT/000\\_Subtomograms/001\\_TM\\_bin4/tomo1.mrc/tomo1.mrc\\_Particles\\_TM\\_0000082\\_ctf\\_6.90A.mrc & 1                                                                                                                               & ...                                                                                                                             & NCLN                                                                                                                            & Dec                                                                                                                             & ap                                                                                                                              & NCLNCCDC47                                                                                                                      &    -1                                                                                                                           &    -1                                                                                                                           & non                                                                                                                             & non                                                                                                                             & non                                                                                                                             & non                                                                                                                            \\\\\n",
       "\t 1                                                                                                                               & 401.9046                                                                                                                        & 214.0999                                                                                                                        & 138.9087                                                                                                                        &  -61.55985                                                                                                                      & 136.25310                                                                                                                       & -135.14440                                                                                                                      & /data2/mgemmer/WARPM/HEKFWT/000\\_Subtomograms/001\\_TM\\_bin4/tomo1.mrc/tomo1.mrc\\_Particles\\_TM\\_0000074\\_6.90A.mrc       & /data2/mgemmer/WARPM/HEKFWT/000\\_Subtomograms/001\\_TM\\_bin4/tomo1.mrc/tomo1.mrc\\_Particles\\_TM\\_0000074\\_ctf\\_6.90A.mrc & 1                                                                                                                               & ...                                                                                                                             & OST                                                                                                                             & Dec                                                                                                                             & Unk                                                                                                                             & OST                                                                                                                             & 43744                                                                                                                           &    -1                                                                                                                           & OST                                                                                                                             & non                                                                                                                             & Rot1                                                                                                                            & non                                                                                                                            \\\\\n",
       "\t 2                                                                                                                               & 824.8273                                                                                                                        & 699.2300                                                                                                                        & 245.7589                                                                                                                        &  -54.52035                                                                                                                      &  85.32531                                                                                                                       &  102.23010                                                                                                                      & /data2/mgemmer/WARPM/HEKFWT/000\\_Subtomograms/001\\_TM\\_bin4/tomo1.mrc/tomo1.mrc\\_Particles\\_TM\\_0000066\\_6.90A.mrc       & /data2/mgemmer/WARPM/HEKFWT/000\\_Subtomograms/001\\_TM\\_bin4/tomo1.mrc/tomo1.mrc\\_Particles\\_TM\\_0000066\\_ctf\\_6.90A.mrc & 1                                                                                                                               & ...                                                                                                                             & OST                                                                                                                             & Dec                                                                                                                             & Unk                                                                                                                             & OST                                                                                                                             & 22540                                                                                                                           &    -1                                                                                                                           & TRAP                                                                                                                            & non                                                                                                                             & Pre+                                                                                                                            & non                                                                                                                            \\\\\n",
       "\t 3                                                                                                                               & 854.6401                                                                                                                        & 663.1552                                                                                                                        & 180.3849                                                                                                                        &  135.56340                                                                                                                      & 108.82990                                                                                                                       &  170.21040                                                                                                                      & /data2/mgemmer/WARPM/HEKFWT/000\\_Subtomograms/001\\_TM\\_bin4/tomo1.mrc/tomo1.mrc\\_Particles\\_TM\\_0000131\\_6.90A.mrc       & /data2/mgemmer/WARPM/HEKFWT/000\\_Subtomograms/001\\_TM\\_bin4/tomo1.mrc/tomo1.mrc\\_Particles\\_TM\\_0000131\\_ctf\\_6.90A.mrc & 2                                                                                                                               & ...                                                                                                                             & OST                                                                                                                             & Dec                                                                                                                             & Unk                                                                                                                             & OST                                                                                                                             &    -1                                                                                                                           &    -1                                                                                                                           & non                                                                                                                             & non                                                                                                                             & non                                                                                                                             & non                                                                                                                            \\\\\n",
       "\t 4                                                                                                                               & 365.4104                                                                                                                        & 783.4767                                                                                                                        & 171.0251                                                                                                                        & -170.52960                                                                                                                      &  96.45240                                                                                                                       &   78.46428                                                                                                                      & /data2/mgemmer/WARPM/HEKFWT/000\\_Subtomograms/001\\_TM\\_bin4/tomo1.mrc/tomo1.mrc\\_Particles\\_TM\\_0000084\\_6.90A.mrc       & /data2/mgemmer/WARPM/HEKFWT/000\\_Subtomograms/001\\_TM\\_bin4/tomo1.mrc/tomo1.mrc\\_Particles\\_TM\\_0000084\\_ctf\\_6.90A.mrc & 1                                                                                                                               & ...                                                                                                                             & TRAP                                                                                                                            & Dec                                                                                                                             & Unk                                                                                                                             & TRAP                                                                                                                            & 93748                                                                                                                           & 77732                                                                                                                           & Unk                                                                                                                             & Sol                                                                                                                             & Rot2                                                                                                                            & Rot2                                                                                                                           \\\\\n",
       "\\end{tabular}\n"
      ],
      "text/markdown": [
       "\n",
       "| X | rlnCoordinateX | rlnCoordinateY | rlnCoordinateZ | rlnAngleRot | rlnAngleTilt | rlnAnglePsi | rlnImageName | rlnCtfImage | rlnRandomSubset | ... | state | elongation | trapccdc | state_full | trailing_id | leading_id | tr_state_full | ld_state_full | tr_elongation | ld_elongation |\n",
       "|---|---|---|---|---|---|---|---|---|---|---|---|---|---|---|---|---|---|---|---|---|\n",
       "| 0                                                                                                               | 872.7986                                                                                                        | 529.7619                                                                                                        | 286.2439                                                                                                        |   11.28056                                                                                                      |  82.88946                                                                                                       |  181.65190                                                                                                      | /data2/mgemmer/WARPM/HEKFWT/000_Subtomograms/001_TM_bin4/tomo1.mrc/tomo1.mrc_Particles_TM_0000082_6.90A.mrc     | /data2/mgemmer/WARPM/HEKFWT/000_Subtomograms/001_TM_bin4/tomo1.mrc/tomo1.mrc_Particles_TM_0000082_ctf_6.90A.mrc | 1                                                                                                               | ...                                                                                                             | NCLN                                                                                                            | Dec                                                                                                             | ap                                                                                                              | NCLNCCDC47                                                                                                      |    -1                                                                                                           |    -1                                                                                                           | non                                                                                                             | non                                                                                                             | non                                                                                                             | non                                                                                                             |\n",
       "| 1                                                                                                               | 401.9046                                                                                                        | 214.0999                                                                                                        | 138.9087                                                                                                        |  -61.55985                                                                                                      | 136.25310                                                                                                       | -135.14440                                                                                                      | /data2/mgemmer/WARPM/HEKFWT/000_Subtomograms/001_TM_bin4/tomo1.mrc/tomo1.mrc_Particles_TM_0000074_6.90A.mrc     | /data2/mgemmer/WARPM/HEKFWT/000_Subtomograms/001_TM_bin4/tomo1.mrc/tomo1.mrc_Particles_TM_0000074_ctf_6.90A.mrc | 1                                                                                                               | ...                                                                                                             | OST                                                                                                             | Dec                                                                                                             | Unk                                                                                                             | OST                                                                                                             | 43744                                                                                                           |    -1                                                                                                           | OST                                                                                                             | non                                                                                                             | Rot1                                                                                                            | non                                                                                                             |\n",
       "| 2                                                                                                               | 824.8273                                                                                                        | 699.2300                                                                                                        | 245.7589                                                                                                        |  -54.52035                                                                                                      |  85.32531                                                                                                       |  102.23010                                                                                                      | /data2/mgemmer/WARPM/HEKFWT/000_Subtomograms/001_TM_bin4/tomo1.mrc/tomo1.mrc_Particles_TM_0000066_6.90A.mrc     | /data2/mgemmer/WARPM/HEKFWT/000_Subtomograms/001_TM_bin4/tomo1.mrc/tomo1.mrc_Particles_TM_0000066_ctf_6.90A.mrc | 1                                                                                                               | ...                                                                                                             | OST                                                                                                             | Dec                                                                                                             | Unk                                                                                                             | OST                                                                                                             | 22540                                                                                                           |    -1                                                                                                           | TRAP                                                                                                            | non                                                                                                             | Pre+                                                                                                            | non                                                                                                             |\n",
       "| 3                                                                                                               | 854.6401                                                                                                        | 663.1552                                                                                                        | 180.3849                                                                                                        |  135.56340                                                                                                      | 108.82990                                                                                                       |  170.21040                                                                                                      | /data2/mgemmer/WARPM/HEKFWT/000_Subtomograms/001_TM_bin4/tomo1.mrc/tomo1.mrc_Particles_TM_0000131_6.90A.mrc     | /data2/mgemmer/WARPM/HEKFWT/000_Subtomograms/001_TM_bin4/tomo1.mrc/tomo1.mrc_Particles_TM_0000131_ctf_6.90A.mrc | 2                                                                                                               | ...                                                                                                             | OST                                                                                                             | Dec                                                                                                             | Unk                                                                                                             | OST                                                                                                             |    -1                                                                                                           |    -1                                                                                                           | non                                                                                                             | non                                                                                                             | non                                                                                                             | non                                                                                                             |\n",
       "| 4                                                                                                               | 365.4104                                                                                                        | 783.4767                                                                                                        | 171.0251                                                                                                        | -170.52960                                                                                                      |  96.45240                                                                                                       |   78.46428                                                                                                      | /data2/mgemmer/WARPM/HEKFWT/000_Subtomograms/001_TM_bin4/tomo1.mrc/tomo1.mrc_Particles_TM_0000084_6.90A.mrc     | /data2/mgemmer/WARPM/HEKFWT/000_Subtomograms/001_TM_bin4/tomo1.mrc/tomo1.mrc_Particles_TM_0000084_ctf_6.90A.mrc | 1                                                                                                               | ...                                                                                                             | TRAP                                                                                                            | Dec                                                                                                             | Unk                                                                                                             | TRAP                                                                                                            | 93748                                                                                                           | 77732                                                                                                           | Unk                                                                                                             | Sol                                                                                                             | Rot2                                                                                                            | Rot2                                                                                                            |\n",
       "\n"
      ],
      "text/plain": [
       "  X rlnCoordinateX rlnCoordinateY rlnCoordinateZ rlnAngleRot rlnAngleTilt\n",
       "1 0 872.7986       529.7619       286.2439         11.28056   82.88946   \n",
       "2 1 401.9046       214.0999       138.9087        -61.55985  136.25310   \n",
       "3 2 824.8273       699.2300       245.7589        -54.52035   85.32531   \n",
       "4 3 854.6401       663.1552       180.3849        135.56340  108.82990   \n",
       "5 4 365.4104       783.4767       171.0251       -170.52960   96.45240   \n",
       "  rlnAnglePsi\n",
       "1  181.65190 \n",
       "2 -135.14440 \n",
       "3  102.23010 \n",
       "4  170.21040 \n",
       "5   78.46428 \n",
       "  rlnImageName                                                                                               \n",
       "1 /data2/mgemmer/WARPM/HEKFWT/000_Subtomograms/001_TM_bin4/tomo1.mrc/tomo1.mrc_Particles_TM_0000082_6.90A.mrc\n",
       "2 /data2/mgemmer/WARPM/HEKFWT/000_Subtomograms/001_TM_bin4/tomo1.mrc/tomo1.mrc_Particles_TM_0000074_6.90A.mrc\n",
       "3 /data2/mgemmer/WARPM/HEKFWT/000_Subtomograms/001_TM_bin4/tomo1.mrc/tomo1.mrc_Particles_TM_0000066_6.90A.mrc\n",
       "4 /data2/mgemmer/WARPM/HEKFWT/000_Subtomograms/001_TM_bin4/tomo1.mrc/tomo1.mrc_Particles_TM_0000131_6.90A.mrc\n",
       "5 /data2/mgemmer/WARPM/HEKFWT/000_Subtomograms/001_TM_bin4/tomo1.mrc/tomo1.mrc_Particles_TM_0000084_6.90A.mrc\n",
       "  rlnCtfImage                                                                                                    \n",
       "1 /data2/mgemmer/WARPM/HEKFWT/000_Subtomograms/001_TM_bin4/tomo1.mrc/tomo1.mrc_Particles_TM_0000082_ctf_6.90A.mrc\n",
       "2 /data2/mgemmer/WARPM/HEKFWT/000_Subtomograms/001_TM_bin4/tomo1.mrc/tomo1.mrc_Particles_TM_0000074_ctf_6.90A.mrc\n",
       "3 /data2/mgemmer/WARPM/HEKFWT/000_Subtomograms/001_TM_bin4/tomo1.mrc/tomo1.mrc_Particles_TM_0000066_ctf_6.90A.mrc\n",
       "4 /data2/mgemmer/WARPM/HEKFWT/000_Subtomograms/001_TM_bin4/tomo1.mrc/tomo1.mrc_Particles_TM_0000131_ctf_6.90A.mrc\n",
       "5 /data2/mgemmer/WARPM/HEKFWT/000_Subtomograms/001_TM_bin4/tomo1.mrc/tomo1.mrc_Particles_TM_0000084_ctf_6.90A.mrc\n",
       "  rlnRandomSubset ... state elongation trapccdc state_full trailing_id\n",
       "1 1               ... NCLN  Dec        ap       NCLNCCDC47    -1      \n",
       "2 1               ... OST   Dec        Unk      OST        43744      \n",
       "3 1               ... OST   Dec        Unk      OST        22540      \n",
       "4 2               ... OST   Dec        Unk      OST           -1      \n",
       "5 1               ... TRAP  Dec        Unk      TRAP       93748      \n",
       "  leading_id tr_state_full ld_state_full tr_elongation ld_elongation\n",
       "1    -1      non           non           non           non          \n",
       "2    -1      OST           non           Rot1          non          \n",
       "3    -1      TRAP          non           Pre+          non          \n",
       "4    -1      non           non           non           non          \n",
       "5 77732      Unk           Sol           Rot2          Rot2         "
      ]
     },
     "metadata": {},
     "output_type": "display_data"
    }
   ],
   "source": [
    "# inspect the R dataframe\n",
    "head(df_wt, n=5)"
   ]
  },
  {
   "cell_type": "code",
   "execution_count": 4,
   "id": "483e67bc",
   "metadata": {},
   "outputs": [],
   "source": [
    "# add some annotation => one for whether the ribosome has any polysome connections\n",
    "# this way we can test the probability of classes being present in a polysome chain\n",
    "df_wt$in_chain <- ((df_wt$trailing_id != -1) | (df_wt$leading_id != -1)) # has trailing or leading connection\n",
    "df_wt$in_chain <- factor(df_wt$in_chain)"
   ]
  },
  {
   "cell_type": "markdown",
   "id": "2e116924",
   "metadata": {},
   "source": [
    "## Fitting a multinomial logit model with mixed effects\n",
    "\n",
    "For the random parameter we first set (~1|date) meaning a random intercept per date, but fixed slope."
   ]
  },
  {
   "cell_type": "code",
   "execution_count": 8,
   "id": "62a48701",
   "metadata": {
    "scrolled": false
   },
   "outputs": [
    {
     "name": "stdout",
     "output_type": "stream",
     "text": [
      "\n",
      "Iteration 1 - deviance = 172541.8 - criterion = 1.860693\n",
      "Iteration 2 - deviance = 172297 - criterion = 0.02642995\n",
      "Iteration 3 - deviance = 172292.8 - criterion = 0.001013018\n",
      "Iteration 4 - deviance = 172292.8 - criterion = 3.175223e-06\n",
      "Iteration 5 - deviance = 172292.8 - criterion = 3.386836e-11\n",
      "converged\n"
     ]
    },
    {
     "data": {
      "text/plain": [
       "\n",
       "Call:\n",
       "mblogit(formula = in_chain ~ elongation, data = temp, random = ~1 | \n",
       "    date, control = mmclogit.control(epsilon = 1e-08, maxit = 100))\n",
       "\n",
       "Equation for TRUE vs FALSE:\n",
       "                        Estimate Std. Error z value Pr(>|z|)    \n",
       "(Intercept)             -0.01374    0.08287  -0.166 0.868326    \n",
       "elongationPost          -0.10491    0.02115  -4.960 7.04e-07 ***\n",
       "elongationPre            0.18660    0.03472   5.375 7.66e-08 ***\n",
       "elongationPre+           0.30819    0.01593  19.347  < 2e-16 ***\n",
       "elongationRot1           0.38057    0.03083  12.344  < 2e-16 ***\n",
       "elongationRot1+          0.80285    0.03614  22.214  < 2e-16 ***\n",
       "elongationRot2           0.33715    0.01883  17.905  < 2e-16 ***\n",
       "elongationRotIdle       -2.83751    0.06312 -44.956  < 2e-16 ***\n",
       "elongationTranslocation -0.10007    0.02903  -3.447 0.000567 ***\n",
       "elongationUnRotIdle     -1.46087    0.03109 -46.993  < 2e-16 ***\n",
       "---\n",
       "Signif. codes:  0 ‘***’ 0.001 ‘**’ 0.01 ‘*’ 0.05 ‘.’ 0.1 ‘ ’ 1\n",
       "\n",
       "(Co-)Variances:\n",
       "Grouping level: date \n",
       "       Estimate   Std.Err. \n",
       "TRUE~1 0.04681    5.484e-05\n",
       "\n",
       "Null Deviance:     183500 \n",
       "Residual Deviance: 172300 \n",
       "Number of Fisher Scoring iterations:  5\n",
       "Number of observations\n",
       "  Groups by date: 7\n",
       "  Individual observations:  132371"
      ]
     },
     "metadata": {},
     "output_type": "display_data"
    }
   ],
   "source": [
    "# create temporary dataframe with only ribosomes assigned to an elongation cycle intermediate\n",
    "temp <- df_wt[ df_wt$elongation %in% c('Dec', 'Post', 'Pre', 'Pre+', 'Rot1', 'Rot1+', \n",
    "         'Rot2', 'RotIdle', 'Translocation', 'UnRotIdle'), , drop=FALSE ]\n",
    "temp$elongation <- factor(temp$elongation)\n",
    "\n",
    "model_elongation_state_in_chain_1a <- mblogit(in_chain ~ elongation, data = temp, random = ~1|date,\n",
    "                       control=mmclogit.control(epsilon = 1e-08, maxit = 100))\n",
    "summary(model_elongation_state_in_chain_1a)"
   ]
  },
  {
   "cell_type": "markdown",
   "id": "65955a82",
   "metadata": {},
   "source": [
    "We can attempt to make the random effects more complex by making both the intercept and the slope random (~elongation|date). Now we get a large variance-covariance matrix for the random effects because we get a different slope per date for each predictor, while we first we only had a different intercept per date. The variance is not very high, the RotIdle state has the highest variance. This state also has a low abundance value so, its no suprising that it will have more variation per date."
   ]
  },
  {
   "cell_type": "code",
   "execution_count": 26,
   "id": "2cdf0ad3",
   "metadata": {
    "scrolled": false
   },
   "outputs": [
    {
     "name": "stdout",
     "output_type": "stream",
     "text": [
      "\n",
      "Iteration 1 - deviance = 172659 - criterion = 1.847799\n",
      "Iteration 2 - deviance = 172401.8 - criterion = 0.02742811\n",
      "Iteration 3 - deviance = 172396.3 - criterion = 0.001408096\n",
      "Iteration 4 - deviance = 172395.6 - criterion = 1.595249e-05\n",
      "Iteration 5 - deviance = 172394.4 - criterion = 9.18747e-05\n",
      "Iteration 6 - deviance = 172394.4 - criterion = 1.708722e-06\n",
      "Iteration 7 - deviance = 172394.5 - criterion = 1.283868e-07\n",
      "Iteration 8 - deviance = 172394.4 - criterion = 3.04271e-08\n",
      "Iteration 9 - deviance = 172394.4 - criterion = 6.539824e-09\n",
      "converged\n"
     ]
    },
    {
     "data": {
      "text/plain": [
       "\n",
       "Call:\n",
       "mblogit(formula = in_chain ~ elongation, data = temp, random = list(~elongation | \n",
       "    date), control = mmclogit.control(epsilon = 1e-08, maxit = 100))\n",
       "\n",
       "Equation for TRUE vs FALSE:\n",
       "                        Estimate Std. Error z value Pr(>|z|)    \n",
       "(Intercept)              0.01024    0.06700   0.153  0.87857    \n",
       "elongationPost          -0.11225    0.04755  -2.360  0.01825 *  \n",
       "elongationPre            0.17648    0.05732   3.079  0.00208 ** \n",
       "elongationPre+           0.26177    0.05937   4.409 1.04e-05 ***\n",
       "elongationRot1           0.36381    0.05813   6.259 3.88e-10 ***\n",
       "elongationRot1+          0.76768    0.06528  11.760  < 2e-16 ***\n",
       "elongationRot2           0.29555    0.05553   5.323 1.02e-07 ***\n",
       "elongationRotIdle       -2.60051    0.21057 -12.350  < 2e-16 ***\n",
       "elongationTranslocation -0.12050    0.04474  -2.693  0.00707 ** \n",
       "elongationUnRotIdle     -1.34532    0.11064 -12.160  < 2e-16 ***\n",
       "---\n",
       "Signif. codes:  0 ‘***’ 0.001 ‘**’ 0.01 ‘*’ 0.05 ‘.’ 0.1 ‘ ’ 1\n",
       "\n",
       "(Co-)Variances:\n",
       "Grouping level: date \n",
       "                             Estimate                                                                                                        Std.Err.                                                                                           \n",
       "TRUE~1                        0.0299501                                                                                                      1.589e-03                                                                                          \n",
       "TRUE~elongationPost           0.0012634  0.0115205                                                                                           1.912e-04 2.376e-05                                                                                \n",
       "TRUE~elongationPre            0.0046581  0.0002752  0.0115360                                                                                3.133e-04 3.757e-05 6.219e-05                                                                      \n",
       "TRUE~elongationPre+           0.0134155 -0.0013811  0.0020569  0.0219591                                                                     1.287e-03 1.555e-04 2.534e-04 1.043e-03                                                            \n",
       "TRUE~elongationRot1           0.0061270 -0.0026922  0.0015451  0.0091023  0.0155846                                                          8.180e-04 9.922e-05 1.610e-04 6.635e-04 4.225e-04                                                  \n",
       "TRUE~elongationRot1+          0.0130872 -0.0006905  0.0039748  0.0102804  0.0047746  0.0188833                                               1.052e-03 1.267e-04 2.075e-04 8.519e-04 5.415e-04 6.967e-04                                        \n",
       "TRUE~elongationRot2           0.0118240 -0.0023942  0.0009088  0.0109265  0.0084753  0.0067572  0.0182845                                    1.075e-03 1.300e-04 2.115e-04 8.712e-04 5.544e-04 7.114e-04 7.280e-04                              \n",
       "TRUE~elongationRotIdle       -0.0715029  0.0082432 -0.0151325 -0.0558895 -0.0349657 -0.0476836 -0.0460581  0.2737751                         5.987e-03 7.226e-04 1.180e-03 4.850e-03 3.085e-03 3.964e-03 4.051e-03 2.256e-02                    \n",
       "TRUE~elongationTranslocation  0.0053364  0.0005776  0.0012809  0.0021677  0.0007795  0.0030307  0.0030364 -0.0139178  0.0065141              3.042e-04 3.652e-05 6.001e-05 2.461e-04 1.564e-04 2.013e-04 2.056e-04 1.146e-03 5.828e-05          \n",
       "TRUE~elongationUnRotIdle     -0.0326858  0.0059959 -0.0038851 -0.0303239 -0.0210623 -0.0203586 -0.0264190  0.1313066 -0.0051920  0.0763096   2.988e-03 3.613e-04 5.884e-04 2.422e-03 1.541e-03 1.978e-03 2.023e-03 1.126e-02 5.717e-04 5.625e-03\n",
       "\n",
       "Null Deviance:     183500 \n",
       "Residual Deviance: 172400 \n",
       "Number of Fisher Scoring iterations:  9\n",
       "Number of observations\n",
       "  Groups by date: 7\n",
       "  Individual observations:  132371"
      ]
     },
     "metadata": {},
     "output_type": "display_data"
    }
   ],
   "source": [
    "# create temporary dataframe with only ribosomes assigned to an elongation cycle intermediate\n",
    "temp <- df_wt[ df_wt$elongation %in% c('Dec', 'Post', 'Pre', 'Pre+', 'Rot1', 'Rot1+', \n",
    "         'Rot2', 'RotIdle', 'Translocation', 'UnRotIdle'), , drop=FALSE ]\n",
    "temp$elongation <- factor(temp$elongation)\n",
    "\n",
    "model_elongation_state_in_chain_1b <- mblogit(in_chain ~ elongation, data = temp, \n",
    "                                              random = list(~elongation|date),\n",
    "                       control=mmclogit.control(epsilon = 1e-08, maxit = 100))\n",
    "summary(model_elongation_state_in_chain_1b)"
   ]
  },
  {
   "cell_type": "markdown",
   "id": "267fc649",
   "metadata": {},
   "source": [
    "By reordering the levels of the factor elongation, it is possible to query specific differences in the dataset. The multinomial logit phrases the equations a bit counterintuitive and depending on the ordering of your predictor variable the nul hypothesis are ordered differently. See the following reference, specifically the section about **Independence of irrelevant alternatives**: https://bookdown.org/sarahwerth2024/CategoricalBook/multinomial-logit-regression-r.html"
   ]
  },
  {
   "cell_type": "code",
   "execution_count": 102,
   "id": "79d6e3fc",
   "metadata": {
    "scrolled": true
   },
   "outputs": [
    {
     "name": "stdout",
     "output_type": "stream",
     "text": [
      "\n",
      "Iteration 1 - deviance = 172661 - criterion = 1.847819\n",
      "Iteration 2 - deviance = 172403.9 - criterion = 0.02746066\n",
      "Iteration 3 - deviance = 172397 - criterion = 0.001183328\n",
      "Iteration 4 - deviance = 172396.4 - criterion = 6.433608e-06\n",
      "Iteration 5 - deviance = 172396.4 - criterion = 1.434121e-09\n",
      "converged\n"
     ]
    },
    {
     "data": {
      "text/plain": [
       "\n",
       "Call:\n",
       "mblogit(formula = in_chain ~ elongation, data = temp, random = list(~elongation | \n",
       "    date), control = mmclogit.control(epsilon = 1e-08, maxit = 100))\n",
       "\n",
       "Equation for TRUE vs FALSE:\n",
       "                        Estimate Std. Error z value Pr(>|z|)    \n",
       "(Intercept)              -1.3331     0.0884 -15.080   <2e-16 ***\n",
       "elongationRotIdle        -1.2664     0.1417  -8.939   <2e-16 ***\n",
       "elongationDec             1.3366     0.1254  10.658   <2e-16 ***\n",
       "elongationPost            1.2330     0.1147  10.750   <2e-16 ***\n",
       "elongationPre             1.5272     0.1260  12.119   <2e-16 ***\n",
       "elongationPre+            1.6044     0.1657   9.681   <2e-16 ***\n",
       "elongationRot1            1.7052     0.1498  11.380   <2e-16 ***\n",
       "elongationRot1+           2.1136     0.1549  13.646   <2e-16 ***\n",
       "elongationRot2            1.6406     0.1553  10.561   <2e-16 ***\n",
       "elongationTranslocation   1.2200     0.1364   8.944   <2e-16 ***\n",
       "---\n",
       "Signif. codes:  0 ‘***’ 0.001 ‘**’ 0.01 ‘*’ 0.05 ‘.’ 0.1 ‘ ’ 1\n",
       "\n",
       "(Co-)Variances:\n",
       "Grouping level: date \n",
       "                             Estimate                                                                                    Std.Err.                                                                       \n",
       "TRUE~1                        0.04657                                                                                    0.01553                                                                        \n",
       "TRUE~elongationRotIdle        0.04221  0.09993                                                                           0.02537 0.04146                                                                \n",
       "TRUE~elongationDec           -0.04431 -0.07001  0.10036                                                                  0.03018 0.04931 0.05867                                                        \n",
       "TRUE~elongationPost          -0.03692 -0.06252  0.08507  0.08153                                                         0.02680 0.04379 0.05210 0.04627                                                \n",
       "TRUE~elongationPre           -0.04217 -0.07199  0.09147  0.08166  0.09417                                                0.02921 0.04774 0.05680 0.05044 0.05499                                        \n",
       "TRUE~elongationPre+          -0.06535 -0.10200  0.12900  0.11425  0.12420  0.18247                                       0.04158 0.06794 0.08084 0.07179 0.07826 0.11139                                \n",
       "TRUE~elongationRot1          -0.05939 -0.08940  0.11252  0.09933  0.10813  0.15509  0.14209                              0.03646 0.05957 0.07088 0.06294 0.06862 0.09766 0.08562                        \n",
       "TRUE~elongationRot1+         -0.05822 -0.09971  0.11460  0.10219  0.11166  0.15812  0.13883  0.15035                     0.03765 0.06153 0.07320 0.06501 0.07087 0.10087 0.08843 0.09133                \n",
       "TRUE~elongationRot2          -0.06283 -0.09732  0.11847  0.10469  0.11369  0.16327  0.14337  0.14753  0.15863            0.03867 0.06319 0.07519 0.06677 0.07279 0.10360 0.09083 0.09381 0.09636        \n",
       "TRUE~elongationTranslocation -0.04942 -0.08617  0.09854  0.08800  0.09541  0.13578  0.11885  0.12444  0.12834  0.11557   0.03248 0.05308 0.06315 0.05608 0.06114 0.08702 0.07629 0.07879 0.08093 0.06798\n",
       "\n",
       "Null Deviance:     183500 \n",
       "Residual Deviance: 172400 \n",
       "Number of Fisher Scoring iterations:  5\n",
       "Number of observations\n",
       "  Groups by date: 7\n",
       "  Individual observations:  132371"
      ]
     },
     "metadata": {},
     "output_type": "display_data"
    }
   ],
   "source": [
    "# we will reorder the levels of the elongation factor in the dataframe\n",
    "# this we way can more easily read statistical significance between the idle states and the active states\n",
    "temp <- df_wt[ df_wt$elongation %in% c('Dec', 'Post', 'Pre', 'Pre+', 'Rot1', 'Rot1+', \n",
    "         'Rot2', 'RotIdle', 'Translocation', 'UnRotIdle'), , drop=FALSE ]\n",
    "temp$elongation <- factor(temp$elongation, \n",
    "                          levels = c('UnRotIdle', 'RotIdle', 'Dec', 'Post', 'Pre', \n",
    "                                     'Pre+', 'Rot1', 'Rot1+', 'Rot2', 'Translocation'))\n",
    "\n",
    "model_elongation_state_in_chain_1b2 <- mblogit(in_chain ~ elongation, data = temp, \n",
    "                                              random = list(~elongation|date),\n",
    "                       control=mmclogit.control(epsilon = 1e-08, maxit = 100))\n",
    "summary(model_elongation_state_in_chain_1b2)"
   ]
  },
  {
   "cell_type": "markdown",
   "id": "5a2635c9",
   "metadata": {},
   "source": [
    "Instead we can also attempt to add a random intercept for both the date and tomogram id, by either putting `list(~1|date, ~1|tomogram)` or `~1|date/tomogram`. The latter works as these random effects are nested, i.e. a tomogram was always collected during a specific collection sessions (the date represents collection session)."
   ]
  },
  {
   "cell_type": "code",
   "execution_count": 5,
   "id": "7a7e5634",
   "metadata": {},
   "outputs": [
    {
     "name": "stdout",
     "output_type": "stream",
     "text": [
      "\n",
      "Iteration 1 - deviance = 171012.2 - criterion = 1.540481\n",
      "Iteration 2 - deviance = 170988.7 - criterion = 0.02597973\n",
      "Iteration 3 - deviance = 171039.1 - criterion = 0.001108574\n",
      "Iteration 4 - deviance = 171045.7 - criterion = 5.874258e-06\n",
      "Iteration 5 - deviance = 171047 - criterion = 6.026613e-08\n",
      "Iteration 6 - deviance = 171047.3 - criterion = 2.319919e-09\n",
      "converged\n"
     ]
    },
    {
     "data": {
      "text/plain": [
       "\n",
       "Call:\n",
       "mblogit(formula = in_chain ~ elongation, data = temp, random = ~1 | \n",
       "    tomogram, control = mmclogit.control(epsilon = 1e-08, maxit = 100))\n",
       "\n",
       "Equation for FALSE vs TRUE:\n",
       "                        Estimate Std. Error z value Pr(>|z|)    \n",
       "(Intercept)             -0.05429    0.01929  -2.815  0.00488 ** \n",
       "elongationPost           0.09808    0.02149   4.565 5.00e-06 ***\n",
       "elongationPre           -0.19046    0.03525  -5.403 6.57e-08 ***\n",
       "elongationPre+          -0.31159    0.01617 -19.267  < 2e-16 ***\n",
       "elongationRot1          -0.37459    0.03131 -11.964  < 2e-16 ***\n",
       "elongationRot1+         -0.81143    0.03659 -22.174  < 2e-16 ***\n",
       "elongationRot2          -0.34002    0.01915 -17.756  < 2e-16 ***\n",
       "elongationRotIdle        2.83920    0.06358  44.654  < 2e-16 ***\n",
       "elongationTranslocation  0.09140    0.02946   3.102  0.00192 ** \n",
       "elongationUnRotIdle      1.46071    0.03164  46.172  < 2e-16 ***\n",
       "---\n",
       "Signif. codes:  0 ‘***’ 0.001 ‘**’ 0.01 ‘*’ 0.05 ‘.’ 0.1 ‘ ’ 1\n",
       "\n",
       "(Co-)Variances:\n",
       "Grouping level: tomogram \n",
       "        Estimate   Std.Err.\n",
       "FALSE~1 0.1787     0.000276\n",
       "\n",
       "Null Deviance:     183500 \n",
       "Residual Deviance: 171000 \n",
       "Number of Fisher Scoring iterations:  6\n",
       "Number of observations\n",
       "  Groups by tomogram: 866\n",
       "  Individual observations:  132371"
      ]
     },
     "metadata": {},
     "output_type": "display_data"
    }
   ],
   "source": [
    "# create temporary dataframe with only ribosomes assigned to an elongation cycle intermediate\n",
    "temp <- df_wt[ df_wt$elongation %in% c('Dec', 'Post', 'Pre', 'Pre+', 'Rot1', 'Rot1+', \n",
    "         'Rot2', 'RotIdle', 'Translocation', 'UnRotIdle'), , drop=FALSE ]\n",
    "temp$elongation <- factor(temp$elongation)\n",
    "temp$in_chain <- factor(temp$in_chain, levels=c('TRUE', 'FALSE'))\n",
    "\n",
    "model_elongation_state_in_chain_1c <- mblogit(in_chain ~ elongation, data=temp, random=~1|tomogram,\n",
    "                       control=mmclogit.control(epsilon=1e-08, maxit=100))\n",
    "summary(model_elongation_state_in_chain_1c)"
   ]
  },
  {
   "cell_type": "code",
   "execution_count": 15,
   "id": "f4236937",
   "metadata": {},
   "outputs": [
    {
     "data": {
      "text/html": [
       "<dl class=dl-horizontal>\n",
       "\t<dt>FALSE~(Intercept)</dt>\n",
       "\t\t<dd>0.00487982375283667</dd>\n",
       "\t<dt>FALSE~elongationPost</dt>\n",
       "\t\t<dd>6.24445056192151e-06</dd>\n",
       "\t<dt>FALSE~elongationPre</dt>\n",
       "\t\t<dd>9.38363110037902e-08</dd>\n",
       "\t<dt>FALSE~elongationPre+</dt>\n",
       "\t\t<dd>2.5177434128863e-82</dd>\n",
       "\t<dt>FALSE~elongationRot1</dt>\n",
       "\t\t<dd>9.11366445993331e-33</dd>\n",
       "\t<dt>FALSE~elongationRot1+</dt>\n",
       "\t\t<dd>2.02671276080045e-108</dd>\n",
       "\t<dt>FALSE~elongationRot2</dt>\n",
       "\t\t<dd>3.09095757547698e-70</dd>\n",
       "\t<dt>FALSE~elongationRotIdle</dt>\n",
       "\t\t<dd>0</dd>\n",
       "\t<dt>FALSE~elongationTranslocation</dt>\n",
       "\t\t<dd>0.00213523130781086</dd>\n",
       "\t<dt>FALSE~elongationUnRotIdle</dt>\n",
       "\t\t<dd>0</dd>\n",
       "</dl>\n"
      ],
      "text/latex": [
       "\\begin{description*}\n",
       "\\item[FALSE\\textbackslash{}textasciitilde\\{\\}(Intercept)] 0.00487982375283667\n",
       "\\item[FALSE\\textbackslash{}textasciitilde\\{\\}elongationPost] 6.24445056192151e-06\n",
       "\\item[FALSE\\textbackslash{}textasciitilde\\{\\}elongationPre] 9.38363110037902e-08\n",
       "\\item[FALSE\\textbackslash{}textasciitilde\\{\\}elongationPre+] 2.5177434128863e-82\n",
       "\\item[FALSE\\textbackslash{}textasciitilde\\{\\}elongationRot1] 9.11366445993331e-33\n",
       "\\item[FALSE\\textbackslash{}textasciitilde\\{\\}elongationRot1+] 2.02671276080045e-108\n",
       "\\item[FALSE\\textbackslash{}textasciitilde\\{\\}elongationRot2] 3.09095757547698e-70\n",
       "\\item[FALSE\\textbackslash{}textasciitilde\\{\\}elongationRotIdle] 0\n",
       "\\item[FALSE\\textbackslash{}textasciitilde\\{\\}elongationTranslocation] 0.00213523130781086\n",
       "\\item[FALSE\\textbackslash{}textasciitilde\\{\\}elongationUnRotIdle] 0\n",
       "\\end{description*}\n"
      ],
      "text/markdown": [
       "FALSE~(Intercept)\n",
       ":   0.00487982375283667FALSE~elongationPost\n",
       ":   6.24445056192151e-06FALSE~elongationPre\n",
       ":   9.38363110037902e-08FALSE~elongationPre+\n",
       ":   2.5177434128863e-82FALSE~elongationRot1\n",
       ":   9.11366445993331e-33FALSE~elongationRot1+\n",
       ":   2.02671276080045e-108FALSE~elongationRot2\n",
       ":   3.09095757547698e-70FALSE~elongationRotIdle\n",
       ":   0FALSE~elongationTranslocation\n",
       ":   0.00213523130781086FALSE~elongationUnRotIdle\n",
       ":   0\n",
       "\n"
      ],
      "text/plain": [
       "            FALSE~(Intercept)          FALSE~elongationPost \n",
       "                 4.879824e-03                  6.244451e-06 \n",
       "          FALSE~elongationPre          FALSE~elongationPre+ \n",
       "                 9.383631e-08                  2.517743e-82 \n",
       "         FALSE~elongationRot1         FALSE~elongationRot1+ \n",
       "                 9.113664e-33                 2.026713e-108 \n",
       "         FALSE~elongationRot2       FALSE~elongationRotIdle \n",
       "                 3.090958e-70                  0.000000e+00 \n",
       "FALSE~elongationTranslocation     FALSE~elongationUnRotIdle \n",
       "                 2.135231e-03                  0.000000e+00 "
      ]
     },
     "metadata": {},
     "output_type": "display_data"
    }
   ],
   "source": [
    "p.adjust(summary(model_elongation_state_in_chain_1c)$coefficients[,4], method='fdr')"
   ]
  },
  {
   "cell_type": "markdown",
   "id": "e8f89fc0",
   "metadata": {},
   "source": [
    "The variance-covariance matrix of the random effects (although now its just a single value), shows how much the output levels vary with the random variable. In this case we have one output level (true or false, but this can be condensed to a single value), and we see how much this varies with the random effect we included. In case of a matrix we dont want to see high values on the off-diagonals, higher values on the diagonals however just mean that the predictor varies with the date or tomogram number. This can also be a bad thing but depends on the variable and its abundance. In this case we see there is more variation per tomogram than there is per date. This is unsurprising as each date has many observations (approx. 20000 per date) while each tomogram has relatively little observations (approx. 100 per tomogram). The latter will inherently be more noisy. Its a good confirmation that there is no strange variance in the data though. \n",
    "\n",
    "In the most complex model we try to fit, we model a random effect for intercept and slope per tomogram."
   ]
  },
  {
   "cell_type": "code",
   "execution_count": 63,
   "id": "1f139ed6",
   "metadata": {},
   "outputs": [
    {
     "name": "stdout",
     "output_type": "stream",
     "text": [
      "\n",
      "Iteration 1 - deviance = 178011 - criterion = 1.46815\n",
      "Iteration 2 - deviance = 177487 - criterion = 0.02896193\n",
      "Iteration 3 - deviance = 177201.3 - criterion = 0.002467847\n",
      "Iteration 4 - deviance = 177099.8 - criterion = 0.0001228894\n",
      "Iteration 5 - deviance = 177088.3 - criterion = 3.92408e-06\n",
      "Iteration 6 - deviance = 177087.5 - criterion = 3.464916e-07\n",
      "Iteration 7 - deviance = 177087.8 - criterion = 4.299052e-08\n",
      "Iteration 8 - deviance = 177088 - criterion = 5.915139e-09\n",
      "converged\n"
     ]
    },
    {
     "data": {
      "text/plain": [
       "\n",
       "Call:\n",
       "mblogit(formula = in_chain ~ elongation, data = temp, random = list(~elongation | \n",
       "    tomogram), control = mmclogit.control(epsilon = 1e-08, maxit = 100))\n",
       "\n",
       "Equation for TRUE vs FALSE:\n",
       "                        Estimate Std. Error z value Pr(>|z|)    \n",
       "(Intercept)              0.05656    0.02136   2.649  0.00808 ** \n",
       "elongationPost          -0.10965    0.02748  -3.991 6.59e-05 ***\n",
       "elongationPre            0.19286    0.03992   4.831 1.36e-06 ***\n",
       "elongationPre+           0.30765    0.01997  15.409  < 2e-16 ***\n",
       "elongationRot1           0.37886    0.03628  10.442  < 2e-16 ***\n",
       "elongationRot1+          0.81095    0.03982  20.367  < 2e-16 ***\n",
       "elongationRot2           0.33534    0.02408  13.926  < 2e-16 ***\n",
       "elongationRotIdle       -2.91050    0.07513 -38.739  < 2e-16 ***\n",
       "elongationTranslocation -0.10257    0.03600  -2.849  0.00439 ** \n",
       "elongationUnRotIdle     -1.44192    0.04294 -33.583  < 2e-16 ***\n",
       "---\n",
       "Signif. codes:  0 ‘***’ 0.001 ‘**’ 0.01 ‘*’ 0.05 ‘.’ 0.1 ‘ ’ 1\n",
       "\n",
       "(Co-)Variances:\n",
       "Grouping level: tomogram \n",
       "                             Estimate                                                                                              Std.Err.                                                                                           \n",
       "TRUE~1                        0.245411                                                                                             0.0008188                                                                                          \n",
       "TRUE~elongationPost          -0.005129  0.208344                                                                                   0.0005209 0.0006620                                                                                \n",
       "TRUE~elongationPre            0.016039  0.002894  0.205652                                                                         0.0004516 0.0004060 0.0004861                                                                      \n",
       "TRUE~elongationPre+          -0.003386  0.025121  0.020356  0.098608                                                               0.0003146 0.0003447 0.0002602 0.0002416                                                            \n",
       "TRUE~elongationRot1          -0.019304  0.029982  0.006781  0.030694  0.215377                                                     0.0005600 0.0005734 0.0004339 0.0003707 0.0007496                                                  \n",
       "TRUE~elongationRot1+         -0.005330  0.011781  0.006227  0.020328  0.020290  0.143446                                           0.0003479 0.0003518 0.0002740 0.0002379 0.0003828 0.0002955                                        \n",
       "TRUE~elongationRot2          -0.007096  0.036491  0.016606  0.041920  0.028368  0.039161  0.153680                                 0.0004610 0.0005032 0.0003732 0.0003394 0.0005240 0.0003539 0.0005180                              \n",
       "TRUE~elongationRotIdle       -0.001576 -0.020136 -0.007042 -0.027463 -0.016285 -0.021736 -0.036708  0.609502                       0.0026503 0.0025234 0.0020565 0.0016820 0.0026487 0.0017678 0.0024269 0.0170693                    \n",
       "TRUE~elongationTranslocation  0.024252  0.026792  0.009960  0.020460  0.036574  0.015155  0.029628 -0.037985  0.269596             0.0007576 0.0007422 0.0005909 0.0004731 0.0008037 0.0004919 0.0006896 0.0036731 0.0013568          \n",
       "TRUE~elongationUnRotIdle     -0.028575 -0.013735  0.011630 -0.010333 -0.014378 -0.017147 -0.007615  0.041726  0.010377  0.545137   0.0021115 0.0018676 0.0015757 0.0011435 0.0019806 0.0012851 0.0016491 0.0095922 0.0026185 0.0100948\n",
       "\n",
       "Null Deviance:     183500 \n",
       "Residual Deviance: 177100 \n",
       "Number of Fisher Scoring iterations:  8\n",
       "Number of observations\n",
       "  Groups by tomogram: 866\n",
       "  Individual observations:  132371"
      ]
     },
     "metadata": {},
     "output_type": "display_data"
    }
   ],
   "source": [
    "# create temporary dataframe with only ribosomes assigned to an elongation cycle intermediate\n",
    "temp <- df_wt[ df_wt$elongation %in% c('Dec', 'Post', 'Pre', 'Pre+', 'Rot1', 'Rot1+', \n",
    "         'Rot2', 'RotIdle', 'Translocation', 'UnRotIdle'), , drop=FALSE ]\n",
    "temp$elongation <- factor(temp$elongation)\n",
    "\n",
    "model_elongation_state_in_chain_1d <- mblogit(in_chain ~ elongation, data = temp, random = list(~elongation|tomogram),\n",
    "                       control=mmclogit.control(epsilon = 1e-08, maxit = 100))\n",
    "summary(model_elongation_state_in_chain_1d)"
   ]
  },
  {
   "cell_type": "markdown",
   "id": "6cbd33e5",
   "metadata": {},
   "source": [
    "We run the custom made effects package implementation (see file `mclogit-effects.r`) to extract probabilities and 95% CI around them from the fitted model. We run it on model 1b with the random intercept + slope per date. This model showed us the collection date added some variance to the observations but no covariance could be observed."
   ]
  },
  {
   "cell_type": "code",
   "execution_count": null,
   "id": "b21356f6",
   "metadata": {},
   "outputs": [],
   "source": [
    "fit.eff <- Effect.mblogit(model_elongation_state_in_chain_1c, 'elongation')\n",
    "prediction <- data.frame(fit.eff$prob, fit.eff$lower.prob, fit.eff$upper.prob)\n",
    "row.names(prediction) <- fit.eff$predictors  # these are the row names of this table\n",
    "prediction"
   ]
  },
  {
   "cell_type": "code",
   "execution_count": 61,
   "id": "ca6b66ed",
   "metadata": {},
   "outputs": [],
   "source": [
    "# we can right the results to a csv file as such:\n",
    "write.csv(prediction, \"../data/results/mblogit_elongation-state-in-chain.csv\", row.names=TRUE)"
   ]
  },
  {
   "cell_type": "markdown",
   "id": "ca7a7ab5",
   "metadata": {},
   "source": [
    "## Probability of neighbour states in polysomes"
   ]
  },
  {
   "cell_type": "code",
   "execution_count": 6,
   "id": "c91e1b9e",
   "metadata": {
    "scrolled": false
   },
   "outputs": [
    {
     "name": "stdout",
     "output_type": "stream",
     "text": [
      "\n",
      "Iteration 1 - deviance = 202273.9 - criterion = 0.8196797\n",
      "Iteration 2 - deviance = 197118.9 - criterion = 0.05961137\n",
      "Iteration 3 - deviance = 197002.1 - criterion = 0.0064342\n",
      "Iteration 4 - deviance = 196933.8 - criterion = 0.0001385581\n",
      "Iteration 5 - deviance = 196941 - criterion = 7.433591e-05\n",
      "Iteration 6 - deviance = 196948.9 - criterion = 1.128022e-06\n",
      "Iteration 7 - deviance = 196949.8 - criterion = 3.50183e-08\n",
      "Iteration 8 - deviance = 196950 - criterion = 2.033859e-09\n",
      "converged\n"
     ]
    },
    {
     "data": {
      "text/plain": [
       "\n",
       "Call:\n",
       "mblogit(formula = n_state_full ~ state, data = temp, random = list(~1 | \n",
       "    tomogram), control = mmclogit.control(epsilon = 1e-08, maxit = 100))\n",
       "\n",
       "Equation for OST vs NCLN:\n",
       "            Estimate Std. Error z value Pr(>|z|)    \n",
       "(Intercept)  1.21885    0.04414  27.616  < 2e-16 ***\n",
       "stateOST     1.57670    0.04776  33.011  < 2e-16 ***\n",
       "stateNCLN   -2.47417    0.04915 -50.344  < 2e-16 ***\n",
       "stateSol    -0.27291    0.08520  -3.203  0.00136 ** \n",
       "stateUnk    -0.51461    0.04857 -10.595  < 2e-16 ***\n",
       "\n",
       "Equation for Sol vs NCLN:\n",
       "            Estimate Std. Error z value Pr(>|z|)    \n",
       "(Intercept) -0.98442    0.07325  -13.44   <2e-16 ***\n",
       "stateOST    -0.03422    0.08341   -0.41    0.682    \n",
       "stateNCLN   -2.24562    0.09506  -23.62   <2e-16 ***\n",
       "stateSol     3.87762    0.09522   40.72   <2e-16 ***\n",
       "stateUnk     1.55785    0.07450   20.91   <2e-16 ***\n",
       "\n",
       "Equation for TRAP vs NCLN:\n",
       "            Estimate Std. Error z value Pr(>|z|)    \n",
       "(Intercept) -0.42289    0.05848  -7.231 4.80e-13 ***\n",
       "stateOST     0.77363    0.06244  12.391  < 2e-16 ***\n",
       "stateNCLN   -1.71284    0.06644 -25.779  < 2e-16 ***\n",
       "stateSol     0.53156    0.10251   5.186 2.15e-07 ***\n",
       "stateUnk    -0.28245    0.06542  -4.317 1.58e-05 ***\n",
       "\n",
       "Equation for Unk vs NCLN:\n",
       "            Estimate Std. Error z value Pr(>|z|)    \n",
       "(Intercept)  0.40447    0.04916   8.228   <2e-16 ***\n",
       "stateOST     0.54116    0.05442   9.943   <2e-16 ***\n",
       "stateNCLN   -1.41656    0.05284 -26.809   <2e-16 ***\n",
       "stateSol     2.36596    0.08031  29.461   <2e-16 ***\n",
       "stateUnk     0.95627    0.05231  18.282   <2e-16 ***\n",
       "---\n",
       "Signif. codes:  0 ‘***’ 0.001 ‘**’ 0.01 ‘*’ 0.05 ‘.’ 0.1 ‘ ’ 1\n",
       "\n",
       "(Co-)Variances:\n",
       "Grouping level: tomogram \n",
       "       Estimate                                  Std.Err.                               \n",
       "OST~1   0.200210                                 0.0006019                              \n",
       "Sol~1   0.061672  0.407134                       0.0012490 0.0037038                    \n",
       "TRAP~1  0.028398 -0.010205  0.328272             0.0007715 0.0018453 0.0018354          \n",
       "Unk~1   0.016181  0.014282 -0.007897  0.182211   0.0003214 0.0007877 0.0005408 0.0003164\n",
       "\n",
       "Null Deviance:     294500 \n",
       "Residual Deviance: 197000 \n",
       "Number of Fisher Scoring iterations:  8\n",
       "Number of observations\n",
       "  Groups by tomogram: 862\n",
       "  Individual observations:  91502"
      ]
     },
     "metadata": {},
     "output_type": "display_data"
    }
   ],
   "source": [
    "# we create new column with neighbour state full\n",
    "temp1 <- df_wt[ df_wt$ld_state_full != 'non', , drop=FALSE ]\n",
    "temp1$n_state_full <- factor(temp1$ld_state_full)\n",
    "temp2 <- df_wt[ df_wt$tr_state_full != 'non', , drop=FALSE ]\n",
    "temp2$n_state_full <- factor(temp2$tr_state_full)\n",
    "\n",
    "# want to know here the probability of neighbour classes in a polysome without considering trailing/leading positions\n",
    "temp <- rbind(temp1, temp2)  # R automatically makes the rownames unique in the new dataframe\n",
    "\n",
    "# group all multipass translocons\n",
    "temp$n_state_full <- factor(ifelse(temp$n_state_full %in% c('NCLN', 'NCLNCCDC47', 'NCLNTRAP', 'NCLNTRAPCCDC47'), \n",
    "                                   'NCLN', as.character(temp$n_state_full)))\n",
    "\n",
    "temp$state <- factor(temp$state, levels = c('TRAP', 'OST', 'NCLN', 'Sol', 'Unk'))\n",
    "\n",
    "# fit a model for this\n",
    "model_polysome_neighbour_state <- mblogit(n_state_full ~ state, data = temp, random = list(~1|tomogram),\n",
    "                       control=mmclogit.control(epsilon = 1e-08, maxit = 100))\n",
    "summary(model_polysome_neighbour_state)\n",
    "\n",
    "# write this temp dataframe as we need it for plotting in python latter to calculate raw freqs per tomogram\n",
    "write.csv(temp[, c('date', 'tomogram', 'state', 'n_state_full')], \n",
    "          \"../data/results/mblogit_overall-polysome-neighbour-probability_raw-data.csv\", row.names=TRUE)"
   ]
  },
  {
   "cell_type": "markdown",
   "id": "dab4a9cf",
   "metadata": {},
   "source": [
    "Good, no high co-variances with tomogram id."
   ]
  },
  {
   "cell_type": "code",
   "execution_count": 7,
   "id": "daa167a1",
   "metadata": {},
   "outputs": [
    {
     "data": {
      "text/html": [
       "<table>\n",
       "<thead><tr><th></th><th scope=col>prob.NCLN</th><th scope=col>prob.OST</th><th scope=col>prob.Sol</th><th scope=col>prob.TRAP</th><th scope=col>prob.Unk</th><th scope=col>L.prob.NCLN</th><th scope=col>L.prob.OST</th><th scope=col>L.prob.Sol</th><th scope=col>L.prob.TRAP</th><th scope=col>L.prob.Unk</th><th scope=col>U.prob.NCLN</th><th scope=col>U.prob.OST</th><th scope=col>U.prob.Sol</th><th scope=col>U.prob.TRAP</th><th scope=col>U.prob.Unk</th></tr></thead>\n",
       "<tbody>\n",
       "\t<tr><th scope=row>TRAP</th><td>0.14470466</td><td>0.4895808 </td><td>0.05406981</td><td>0.09480365</td><td>0.2168411 </td><td>0.13515203</td><td>0.47390729</td><td>0.04787922</td><td>0.08686356</td><td>0.2044275 </td><td>0.15481162</td><td>0.50527477</td><td>0.06100954</td><td>0.10338735</td><td>0.2297908 </td></tr>\n",
       "\t<tr><th scope=row>OST</th><td>0.04602487</td><td>0.7535071 </td><td>0.01661889</td><td>0.06536125</td><td>0.1184879 </td><td>0.04368723</td><td>0.74585320</td><td>0.01519860</td><td>0.06170995</td><td>0.1133810 </td><td>0.04848125</td><td>0.76100427</td><td>0.01816945</td><td>0.06921266</td><td>0.1237928 </td></tr>\n",
       "\t<tr><th scope=row>NCLN</th><td>0.55366143</td><td>0.1577859 </td><td>0.02190058</td><td>0.06541987</td><td>0.2012322 </td><td>0.54311120</td><td>0.14999086</td><td>0.01921697</td><td>0.06043103</td><td>0.1924166 </td><td>0.56416354</td><td>0.16590697</td><td>0.02494940</td><td>0.07078953</td><td>0.2103466 </td></tr>\n",
       "\t<tr><th scope=row>Sol</th><td>0.02583548</td><td>0.0665325 </td><td>0.46635456</td><td>0.02880141</td><td>0.4124761 </td><td>0.02279084</td><td>0.06128344</td><td>0.45067645</td><td>0.02542453</td><td>0.3977458 </td><td>0.02927467</td><td>0.07219657</td><td>0.48209942</td><td>0.03261179</td><td>0.4273647 </td></tr>\n",
       "\t<tr><th scope=row>Unk</th><td>0.10881795</td><td>0.2200635 </td><td>0.19308042</td><td>0.05374977</td><td>0.4242883 </td><td>0.10417536</td><td>0.21206772</td><td>0.18424360</td><td>0.05005910</td><td>0.4133868 </td><td>0.11364119</td><td>0.22827349</td><td>0.20223600</td><td>0.05769602</td><td>0.4352641 </td></tr>\n",
       "</tbody>\n",
       "</table>\n"
      ],
      "text/latex": [
       "\\begin{tabular}{r|lllllllllllllll}\n",
       "  & prob.NCLN & prob.OST & prob.Sol & prob.TRAP & prob.Unk & L.prob.NCLN & L.prob.OST & L.prob.Sol & L.prob.TRAP & L.prob.Unk & U.prob.NCLN & U.prob.OST & U.prob.Sol & U.prob.TRAP & U.prob.Unk\\\\\n",
       "\\hline\n",
       "\tTRAP & 0.14470466 & 0.4895808  & 0.05406981 & 0.09480365 & 0.2168411  & 0.13515203 & 0.47390729 & 0.04787922 & 0.08686356 & 0.2044275  & 0.15481162 & 0.50527477 & 0.06100954 & 0.10338735 & 0.2297908 \\\\\n",
       "\tOST & 0.04602487 & 0.7535071  & 0.01661889 & 0.06536125 & 0.1184879  & 0.04368723 & 0.74585320 & 0.01519860 & 0.06170995 & 0.1133810  & 0.04848125 & 0.76100427 & 0.01816945 & 0.06921266 & 0.1237928 \\\\\n",
       "\tNCLN & 0.55366143 & 0.1577859  & 0.02190058 & 0.06541987 & 0.2012322  & 0.54311120 & 0.14999086 & 0.01921697 & 0.06043103 & 0.1924166  & 0.56416354 & 0.16590697 & 0.02494940 & 0.07078953 & 0.2103466 \\\\\n",
       "\tSol & 0.02583548 & 0.0665325  & 0.46635456 & 0.02880141 & 0.4124761  & 0.02279084 & 0.06128344 & 0.45067645 & 0.02542453 & 0.3977458  & 0.02927467 & 0.07219657 & 0.48209942 & 0.03261179 & 0.4273647 \\\\\n",
       "\tUnk & 0.10881795 & 0.2200635  & 0.19308042 & 0.05374977 & 0.4242883  & 0.10417536 & 0.21206772 & 0.18424360 & 0.05005910 & 0.4133868  & 0.11364119 & 0.22827349 & 0.20223600 & 0.05769602 & 0.4352641 \\\\\n",
       "\\end{tabular}\n"
      ],
      "text/markdown": [
       "\n",
       "| <!--/--> | prob.NCLN | prob.OST | prob.Sol | prob.TRAP | prob.Unk | L.prob.NCLN | L.prob.OST | L.prob.Sol | L.prob.TRAP | L.prob.Unk | U.prob.NCLN | U.prob.OST | U.prob.Sol | U.prob.TRAP | U.prob.Unk |\n",
       "|---|---|---|---|---|---|---|---|---|---|---|---|---|---|---|---|\n",
       "| TRAP | 0.14470466 | 0.4895808  | 0.05406981 | 0.09480365 | 0.2168411  | 0.13515203 | 0.47390729 | 0.04787922 | 0.08686356 | 0.2044275  | 0.15481162 | 0.50527477 | 0.06100954 | 0.10338735 | 0.2297908  |\n",
       "| OST | 0.04602487 | 0.7535071  | 0.01661889 | 0.06536125 | 0.1184879  | 0.04368723 | 0.74585320 | 0.01519860 | 0.06170995 | 0.1133810  | 0.04848125 | 0.76100427 | 0.01816945 | 0.06921266 | 0.1237928  |\n",
       "| NCLN | 0.55366143 | 0.1577859  | 0.02190058 | 0.06541987 | 0.2012322  | 0.54311120 | 0.14999086 | 0.01921697 | 0.06043103 | 0.1924166  | 0.56416354 | 0.16590697 | 0.02494940 | 0.07078953 | 0.2103466  |\n",
       "| Sol | 0.02583548 | 0.0665325  | 0.46635456 | 0.02880141 | 0.4124761  | 0.02279084 | 0.06128344 | 0.45067645 | 0.02542453 | 0.3977458  | 0.02927467 | 0.07219657 | 0.48209942 | 0.03261179 | 0.4273647  |\n",
       "| Unk | 0.10881795 | 0.2200635  | 0.19308042 | 0.05374977 | 0.4242883  | 0.10417536 | 0.21206772 | 0.18424360 | 0.05005910 | 0.4133868  | 0.11364119 | 0.22827349 | 0.20223600 | 0.05769602 | 0.4352641  |\n",
       "\n"
      ],
      "text/plain": [
       "     prob.NCLN  prob.OST  prob.Sol   prob.TRAP  prob.Unk  L.prob.NCLN\n",
       "TRAP 0.14470466 0.4895808 0.05406981 0.09480365 0.2168411 0.13515203 \n",
       "OST  0.04602487 0.7535071 0.01661889 0.06536125 0.1184879 0.04368723 \n",
       "NCLN 0.55366143 0.1577859 0.02190058 0.06541987 0.2012322 0.54311120 \n",
       "Sol  0.02583548 0.0665325 0.46635456 0.02880141 0.4124761 0.02279084 \n",
       "Unk  0.10881795 0.2200635 0.19308042 0.05374977 0.4242883 0.10417536 \n",
       "     L.prob.OST L.prob.Sol L.prob.TRAP L.prob.Unk U.prob.NCLN U.prob.OST\n",
       "TRAP 0.47390729 0.04787922 0.08686356  0.2044275  0.15481162  0.50527477\n",
       "OST  0.74585320 0.01519860 0.06170995  0.1133810  0.04848125  0.76100427\n",
       "NCLN 0.14999086 0.01921697 0.06043103  0.1924166  0.56416354  0.16590697\n",
       "Sol  0.06128344 0.45067645 0.02542453  0.3977458  0.02927467  0.07219657\n",
       "Unk  0.21206772 0.18424360 0.05005910  0.4133868  0.11364119  0.22827349\n",
       "     U.prob.Sol U.prob.TRAP U.prob.Unk\n",
       "TRAP 0.06100954 0.10338735  0.2297908 \n",
       "OST  0.01816945 0.06921266  0.1237928 \n",
       "NCLN 0.02494940 0.07078953  0.2103466 \n",
       "Sol  0.48209942 0.03261179  0.4273647 \n",
       "Unk  0.20223600 0.05769602  0.4352641 "
      ]
     },
     "metadata": {},
     "output_type": "display_data"
    }
   ],
   "source": [
    "# print the calculated probailities from the model\n",
    "fit.eff <- Effect.mblogit(model_polysome_neighbour_state, 'state')\n",
    "prediction <- data.frame(fit.eff$prob, fit.eff$lower.prob, fit.eff$upper.prob)\n",
    "row.names(prediction) <- fit.eff$predictors\n",
    "prediction\n",
    "\n",
    "# and write to csv file\n",
    "write.csv(prediction, \"../data/results/mblogit_overall-polysome-neighbour-probability.csv\", row.names=TRUE)"
   ]
  },
  {
   "cell_type": "markdown",
   "id": "7ee527c7",
   "metadata": {},
   "source": [
    "## Fit models for the leading/trailing states in polysomes"
   ]
  },
  {
   "cell_type": "code",
   "execution_count": 24,
   "id": "03a645fb",
   "metadata": {},
   "outputs": [
    {
     "name": "stdout",
     "output_type": "stream",
     "text": [
      "\n",
      "Iteration 1 - deviance = 101014.5 - criterion = 0.8094286\n",
      "Iteration 2 - deviance = 97955.7 - criterion = 0.07111355\n",
      "Iteration 3 - deviance = 97782.67 - criterion = 0.01488656\n",
      "Iteration 4 - deviance = 97688.12 - criterion = 0.001490879\n",
      "Iteration 5 - deviance = 97681.31 - criterion = 0.0001041553\n",
      "Iteration 6 - deviance = 97682.16 - criterion = 1.769941e-06\n",
      "Iteration 7 - deviance = 97680.22 - criterion = 1.669827e-07\n",
      "Iteration 8 - deviance = 97679.23 - criterion = 2.539702e-08\n",
      "Iteration 9 - deviance = 97678.79 - criterion = 4.345814e-09\n",
      "converged\n"
     ]
    },
    {
     "data": {
      "text/plain": [
       "\n",
       "Call:\n",
       "mblogit(formula = ld_state_full ~ state, data = temp, random = ~1 | \n",
       "    tomogram, control = mmclogit.control(epsilon = 1e-08, maxit = 100))\n",
       "\n",
       "Equation for OST vs NCLN:\n",
       "            Estimate Std. Error z value Pr(>|z|)    \n",
       "(Intercept) -1.44523    0.04436  -32.58   <2e-16 ***\n",
       "stateOST     4.13370    0.05200   79.49   <2e-16 ***\n",
       "stateSol     2.52288    0.10141   24.88   <2e-16 ***\n",
       "stateTRAP    2.55291    0.06570   38.86   <2e-16 ***\n",
       "stateUnk     2.15250    0.05349   40.24   <2e-16 ***\n",
       "\n",
       "Equation for Sol vs NCLN:\n",
       "            Estimate Std. Error z value Pr(>|z|)    \n",
       "(Intercept)  -3.5819     0.1089  -32.90   <2e-16 ***\n",
       "stateOST      1.8185     0.1323   13.74   <2e-16 ***\n",
       "stateSol      6.2849     0.1337   46.99   <2e-16 ***\n",
       "stateTRAP     1.8605     0.1540   12.08   <2e-16 ***\n",
       "stateUnk      3.9532     0.1111   35.59   <2e-16 ***\n",
       "\n",
       "Equation for TRAP vs NCLN:\n",
       "            Estimate Std. Error z value Pr(>|z|)    \n",
       "(Intercept) -2.51697    0.06811  -36.95   <2e-16 ***\n",
       "stateOST     2.55695    0.07715   33.14   <2e-16 ***\n",
       "stateSol     2.69378    0.12567   21.44   <2e-16 ***\n",
       "stateTRAP    1.89570    0.09659   19.63   <2e-16 ***\n",
       "stateUnk     1.65120    0.08180   20.19   <2e-16 ***\n",
       "\n",
       "Equation for Unk vs NCLN:\n",
       "            Estimate Std. Error z value Pr(>|z|)    \n",
       "(Intercept) -1.16352    0.04060  -28.66   <2e-16 ***\n",
       "stateOST     1.85571    0.05327   34.84   <2e-16 ***\n",
       "stateSol     3.77687    0.09104   41.49   <2e-16 ***\n",
       "stateTRAP    1.34351    0.07088   18.95   <2e-16 ***\n",
       "stateUnk     2.44471    0.04864   50.26   <2e-16 ***\n",
       "---\n",
       "Signif. codes:  0 ‘***’ 0.001 ‘**’ 0.01 ‘*’ 0.05 ‘.’ 0.1 ‘ ’ 1\n",
       "\n",
       "(Co-)Variances:\n",
       "Grouping level: tomogram \n",
       "       Estimate                                  Std.Err.                               \n",
       "OST~1   0.245864                                 0.0008663                              \n",
       "Sol~1   0.018867  0.676517                       0.0028752 0.0183080                    \n",
       "TRAP~1  0.039881 -0.006454  0.455024             0.0016258 0.0069424 0.0052516          \n",
       "Unk~1  -0.015793  0.021934 -0.016518  0.236553   0.0005646 0.0026428 0.0013933 0.0007151\n",
       "\n",
       "Null Deviance:     147300 \n",
       "Residual Deviance: 97680 \n",
       "Number of Fisher Scoring iterations:  9\n",
       "Number of observations\n",
       "  Groups by tomogram: 862\n",
       "  Individual observations:  45751"
      ]
     },
     "metadata": {},
     "output_type": "display_data"
    }
   ],
   "source": [
    "temp <- data.frame(df_wt)\n",
    "temp$ld_state_full <- factor(ifelse(temp$ld_state_full %in% c('NCLN', 'NCLNCCDC47', 'NCLNTRAP', 'NCLNTRAPCCDC47'), \n",
    "                                   'NCLN', as.character(temp$ld_state_full)))\n",
    "temp <- temp[temp$ld_state_full %in% c('NCLN', 'OST', 'TRAP', 'Sol', 'Unk'), , drop=FALSE]\n",
    "temp$ld_state_full <- factor(temp$ld_state_full)\n",
    "\n",
    "model_lead_state <- mblogit(ld_state_full ~ state, data = temp, random = ~1|tomogram,\n",
    "                       control=mmclogit.control(epsilon = 1e-08, maxit = 100))\n",
    "summary(model_lead_state)"
   ]
  },
  {
   "cell_type": "code",
   "execution_count": 26,
   "id": "67b029c4",
   "metadata": {},
   "outputs": [
    {
     "data": {
      "text/html": [
       "<table>\n",
       "<thead><tr><th></th><th scope=col>prob.NCLN</th><th scope=col>prob.OST</th><th scope=col>prob.Sol</th><th scope=col>prob.TRAP</th><th scope=col>prob.Unk</th><th scope=col>L.prob.NCLN</th><th scope=col>L.prob.OST</th><th scope=col>L.prob.Sol</th><th scope=col>L.prob.TRAP</th><th scope=col>L.prob.Unk</th><th scope=col>U.prob.NCLN</th><th scope=col>U.prob.OST</th><th scope=col>U.prob.Sol</th><th scope=col>U.prob.TRAP</th><th scope=col>U.prob.Unk</th></tr></thead>\n",
       "<tbody>\n",
       "\t<tr><th scope=row>NCLN</th><td>0.60364548 </td><td>0.14227366 </td><td>0.016794817</td><td>0.04871664 </td><td>0.1885694  </td><td>0.58936077 </td><td>0.13219252 </td><td>0.013626961</td><td>0.04295195 </td><td>0.17691704 </td><td>0.61775555 </td><td>0.15298805 </td><td>0.02068366 </td><td>0.05521039 </td><td>0.2008020  </td></tr>\n",
       "\t<tr><th scope=row>OST</th><td>0.05285589 </td><td>0.77745962 </td><td>0.009062523</td><td>0.05501194 </td><td>0.1056100  </td><td>0.04944917 </td><td>0.76819619 </td><td>0.007734302</td><td>0.05088481 </td><td>0.09947285 </td><td>0.05648337 </td><td>0.78645576 </td><td>0.01061640 </td><td>0.05945285 </td><td>0.1120787  </td></tr>\n",
       "\t<tr><th scope=row>Sol</th><td>0.02967336 </td><td>0.08717274 </td><td>0.442856719</td><td>0.03541244 </td><td>0.4048847  </td><td>0.02532005 </td><td>0.07902589 </td><td>0.422463328</td><td>0.03042917 </td><td>0.38624430 </td><td>0.03474846 </td><td>0.09607185 </td><td>0.46344459 </td><td>0.04117713 </td><td>0.4238036  </td></tr>\n",
       "\t<tr><th scope=row>TRAP</th><td>0.16833299 </td><td>0.50959787 </td><td>0.030100997</td><td>0.09043882 </td><td>0.2015293  </td><td>0.15489835 </td><td>0.48912988 </td><td>0.024409612</td><td>0.08025648 </td><td>0.18592008 </td><td>0.18268097 </td><td>0.53003374 </td><td>0.03706897 </td><td>0.10177007 </td><td>0.2180980  </td></tr>\n",
       "\t<tr><th scope=row>Unk</th><td>0.11765085 </td><td>0.23864656 </td><td>0.170554319</td><td>0.04949913 </td><td>0.4236491  </td><td>0.11119289 </td><td>0.22757017 </td><td>0.159684960</td><td>0.04492033 </td><td>0.40981249 </td><td>0.12443137 </td><td>0.25008752 </td><td>0.18200329 </td><td>0.05451802 </td><td>0.4376066  </td></tr>\n",
       "</tbody>\n",
       "</table>\n"
      ],
      "text/latex": [
       "\\begin{tabular}{r|lllllllllllllll}\n",
       "  & prob.NCLN & prob.OST & prob.Sol & prob.TRAP & prob.Unk & L.prob.NCLN & L.prob.OST & L.prob.Sol & L.prob.TRAP & L.prob.Unk & U.prob.NCLN & U.prob.OST & U.prob.Sol & U.prob.TRAP & U.prob.Unk\\\\\n",
       "\\hline\n",
       "\tNCLN & 0.60364548  & 0.14227366  & 0.016794817 & 0.04871664  & 0.1885694   & 0.58936077  & 0.13219252  & 0.013626961 & 0.04295195  & 0.17691704  & 0.61775555  & 0.15298805  & 0.02068366  & 0.05521039  & 0.2008020  \\\\\n",
       "\tOST & 0.05285589  & 0.77745962  & 0.009062523 & 0.05501194  & 0.1056100   & 0.04944917  & 0.76819619  & 0.007734302 & 0.05088481  & 0.09947285  & 0.05648337  & 0.78645576  & 0.01061640  & 0.05945285  & 0.1120787  \\\\\n",
       "\tSol & 0.02967336  & 0.08717274  & 0.442856719 & 0.03541244  & 0.4048847   & 0.02532005  & 0.07902589  & 0.422463328 & 0.03042917  & 0.38624430  & 0.03474846  & 0.09607185  & 0.46344459  & 0.04117713  & 0.4238036  \\\\\n",
       "\tTRAP & 0.16833299  & 0.50959787  & 0.030100997 & 0.09043882  & 0.2015293   & 0.15489835  & 0.48912988  & 0.024409612 & 0.08025648  & 0.18592008  & 0.18268097  & 0.53003374  & 0.03706897  & 0.10177007  & 0.2180980  \\\\\n",
       "\tUnk & 0.11765085  & 0.23864656  & 0.170554319 & 0.04949913  & 0.4236491   & 0.11119289  & 0.22757017  & 0.159684960 & 0.04492033  & 0.40981249  & 0.12443137  & 0.25008752  & 0.18200329  & 0.05451802  & 0.4376066  \\\\\n",
       "\\end{tabular}\n"
      ],
      "text/markdown": [
       "\n",
       "| <!--/--> | prob.NCLN | prob.OST | prob.Sol | prob.TRAP | prob.Unk | L.prob.NCLN | L.prob.OST | L.prob.Sol | L.prob.TRAP | L.prob.Unk | U.prob.NCLN | U.prob.OST | U.prob.Sol | U.prob.TRAP | U.prob.Unk |\n",
       "|---|---|---|---|---|---|---|---|---|---|---|---|---|---|---|---|\n",
       "| NCLN | 0.60364548  | 0.14227366  | 0.016794817 | 0.04871664  | 0.1885694   | 0.58936077  | 0.13219252  | 0.013626961 | 0.04295195  | 0.17691704  | 0.61775555  | 0.15298805  | 0.02068366  | 0.05521039  | 0.2008020   |\n",
       "| OST | 0.05285589  | 0.77745962  | 0.009062523 | 0.05501194  | 0.1056100   | 0.04944917  | 0.76819619  | 0.007734302 | 0.05088481  | 0.09947285  | 0.05648337  | 0.78645576  | 0.01061640  | 0.05945285  | 0.1120787   |\n",
       "| Sol | 0.02967336  | 0.08717274  | 0.442856719 | 0.03541244  | 0.4048847   | 0.02532005  | 0.07902589  | 0.422463328 | 0.03042917  | 0.38624430  | 0.03474846  | 0.09607185  | 0.46344459  | 0.04117713  | 0.4238036   |\n",
       "| TRAP | 0.16833299  | 0.50959787  | 0.030100997 | 0.09043882  | 0.2015293   | 0.15489835  | 0.48912988  | 0.024409612 | 0.08025648  | 0.18592008  | 0.18268097  | 0.53003374  | 0.03706897  | 0.10177007  | 0.2180980   |\n",
       "| Unk | 0.11765085  | 0.23864656  | 0.170554319 | 0.04949913  | 0.4236491   | 0.11119289  | 0.22757017  | 0.159684960 | 0.04492033  | 0.40981249  | 0.12443137  | 0.25008752  | 0.18200329  | 0.05451802  | 0.4376066   |\n",
       "\n"
      ],
      "text/plain": [
       "     prob.NCLN  prob.OST   prob.Sol    prob.TRAP  prob.Unk  L.prob.NCLN\n",
       "NCLN 0.60364548 0.14227366 0.016794817 0.04871664 0.1885694 0.58936077 \n",
       "OST  0.05285589 0.77745962 0.009062523 0.05501194 0.1056100 0.04944917 \n",
       "Sol  0.02967336 0.08717274 0.442856719 0.03541244 0.4048847 0.02532005 \n",
       "TRAP 0.16833299 0.50959787 0.030100997 0.09043882 0.2015293 0.15489835 \n",
       "Unk  0.11765085 0.23864656 0.170554319 0.04949913 0.4236491 0.11119289 \n",
       "     L.prob.OST L.prob.Sol  L.prob.TRAP L.prob.Unk U.prob.NCLN U.prob.OST\n",
       "NCLN 0.13219252 0.013626961 0.04295195  0.17691704 0.61775555  0.15298805\n",
       "OST  0.76819619 0.007734302 0.05088481  0.09947285 0.05648337  0.78645576\n",
       "Sol  0.07902589 0.422463328 0.03042917  0.38624430 0.03474846  0.09607185\n",
       "TRAP 0.48912988 0.024409612 0.08025648  0.18592008 0.18268097  0.53003374\n",
       "Unk  0.22757017 0.159684960 0.04492033  0.40981249 0.12443137  0.25008752\n",
       "     U.prob.Sol U.prob.TRAP U.prob.Unk\n",
       "NCLN 0.02068366 0.05521039  0.2008020 \n",
       "OST  0.01061640 0.05945285  0.1120787 \n",
       "Sol  0.46344459 0.04117713  0.4238036 \n",
       "TRAP 0.03706897 0.10177007  0.2180980 \n",
       "Unk  0.18200329 0.05451802  0.4376066 "
      ]
     },
     "metadata": {},
     "output_type": "display_data"
    }
   ],
   "source": [
    "# print the calculated probailities from the model\n",
    "fit.eff <- Effect.mblogit(model_lead_state, 'state')\n",
    "prediction <- data.frame(fit.eff$prob, fit.eff$lower.prob, fit.eff$upper.prob)\n",
    "row.names(prediction) <- fit.eff$predictors\n",
    "prediction\n",
    "\n",
    "# and write to csv file\n",
    "write.csv(prediction, \"../data/results/mblogit_leading-polysome-translocon.csv\", row.names=TRUE)"
   ]
  },
  {
   "cell_type": "code",
   "execution_count": 27,
   "id": "1e4a36ee",
   "metadata": {},
   "outputs": [
    {
     "name": "stdout",
     "output_type": "stream",
     "text": [
      "\n",
      "Iteration 1 - deviance = 104068.4 - criterion = 0.8267962\n",
      "Iteration 2 - deviance = 101091.7 - criterion = 0.05891502\n",
      "Iteration 3 - deviance = 101159.2 - criterion = 0.004288555\n",
      "Iteration 4 - deviance = 101127.7 - criterion = 0.0002802274\n",
      "Iteration 5 - deviance = 101136.3 - criterion = 2.461749e-05\n",
      "Iteration 6 - deviance = 101143.5 - criterion = 3.171344e-06\n",
      "Iteration 7 - deviance = 101147.2 - criterion = 5.005074e-07\n",
      "Iteration 8 - deviance = 101148.8 - criterion = 8.263676e-08\n",
      "Iteration 9 - deviance = 101149.4 - criterion = 1.364449e-08\n",
      "Iteration 10 - deviance = 101149.7 - criterion = 2.237801e-09\n",
      "converged\n"
     ]
    },
    {
     "data": {
      "text/plain": [
       "\n",
       "Call:\n",
       "mblogit(formula = tr_state_full ~ state, data = temp, random = ~1 | \n",
       "    tomogram, control = mmclogit.control(epsilon = 1e-08, maxit = 100))\n",
       "\n",
       "Equation for OST vs NCLN:\n",
       "            Estimate Std. Error z value Pr(>|z|)    \n",
       "(Intercept) -1.17433    0.04091  -28.70   <2e-16 ***\n",
       "stateOST     4.13667    0.05196   79.61   <2e-16 ***\n",
       "stateSol     1.80665    0.13201   13.69   <2e-16 ***\n",
       "stateTRAP    2.54730    0.07683   33.15   <2e-16 ***\n",
       "stateUnk     1.86364    0.05324   35.01   <2e-16 ***\n",
       "\n",
       "Equation for Sol vs NCLN:\n",
       "            Estimate Std. Error z value Pr(>|z|)    \n",
       "(Intercept) -3.07491    0.08887  -34.60   <2e-16 ***\n",
       "stateOST     2.54299    0.10173   25.00   <2e-16 ***\n",
       "stateSol     6.30061    0.13375   47.11   <2e-16 ***\n",
       "stateTRAP    2.70271    0.12589   21.47   <2e-16 ***\n",
       "stateUnk     3.81397    0.09146   41.70   <2e-16 ***\n",
       "\n",
       "Equation for TRAP vs NCLN:\n",
       "            Estimate Std. Error z value Pr(>|z|)    \n",
       "(Intercept) -1.92679    0.05640  -34.16   <2e-16 ***\n",
       "stateOST     2.56896    0.06611   38.86   <2e-16 ***\n",
       "stateSol     1.86331    0.15394   12.10   <2e-16 ***\n",
       "stateTRAP    1.88017    0.09672   19.44   <2e-16 ***\n",
       "stateUnk     1.36542    0.07128   19.16   <2e-16 ***\n",
       "\n",
       "Equation for Unk vs NCLN:\n",
       "            Estimate Std. Error z value Pr(>|z|)    \n",
       "(Intercept) -0.96337    0.03697  -26.06   <2e-16 ***\n",
       "stateOST     2.15894    0.05332   40.49   <2e-16 ***\n",
       "stateSol     3.94466    0.11060   35.67   <2e-16 ***\n",
       "stateTRAP    1.64331    0.08137   20.20   <2e-16 ***\n",
       "stateUnk     2.46164    0.04849   50.77   <2e-16 ***\n",
       "---\n",
       "Signif. codes:  0 ‘***’ 0.001 ‘**’ 0.01 ‘*’ 0.05 ‘.’ 0.1 ‘ ’ 1\n",
       "\n",
       "(Co-)Variances:\n",
       "Grouping level: tomogram \n",
       "       Estimate                                  Std.Err.                               \n",
       "OST~1   0.261927                                 0.0009426                              \n",
       "Sol~1   0.016938  0.810265                       0.0040011 0.0325767                    \n",
       "TRAP~1  0.014951 -0.019183  0.597659             0.0024383 0.0142195 0.0122993          \n",
       "Unk~1  -0.004363  0.015488 -0.039304  0.171316   0.0004068 0.0024683 0.0016624 0.0003490\n",
       "\n",
       "Null Deviance:     147300 \n",
       "Residual Deviance: 101100 \n",
       "Number of Fisher Scoring iterations:  10\n",
       "Number of observations\n",
       "  Groups by tomogram: 862\n",
       "  Individual observations:  45751"
      ]
     },
     "metadata": {},
     "output_type": "display_data"
    }
   ],
   "source": [
    "temp <- data.frame(df_wt)\n",
    "temp$tr_state_full <- factor(ifelse(temp$tr_state_full %in% c('NCLN', 'NCLNCCDC47', 'NCLNTRAP', 'NCLNTRAPCCDC47'), \n",
    "                                   'NCLN', as.character(temp$tr_state_full)))\n",
    "temp <- temp[temp$tr_state_full %in% c('NCLN', 'OST', 'TRAP', 'Sol', 'Unk'), , drop=FALSE]\n",
    "temp$tr_state_full <- factor(temp$tr_state_full)\n",
    "\n",
    "model_trail_state <- mblogit(tr_state_full ~ state, data = temp, random = ~1|tomogram,\n",
    "                       control=mmclogit.control(epsilon = 1e-08, maxit = 100))\n",
    "summary(model_trail_state)"
   ]
  },
  {
   "cell_type": "code",
   "execution_count": 28,
   "id": "68978a9c",
   "metadata": {},
   "outputs": [
    {
     "data": {
      "text/html": [
       "<table>\n",
       "<thead><tr><th></th><th scope=col>prob.NCLN</th><th scope=col>prob.OST</th><th scope=col>prob.Sol</th><th scope=col>prob.TRAP</th><th scope=col>prob.Unk</th><th scope=col>L.prob.NCLN</th><th scope=col>L.prob.OST</th><th scope=col>L.prob.Sol</th><th scope=col>L.prob.TRAP</th><th scope=col>L.prob.Unk</th><th scope=col>U.prob.NCLN</th><th scope=col>U.prob.OST</th><th scope=col>U.prob.Sol</th><th scope=col>U.prob.TRAP</th><th scope=col>U.prob.Unk</th></tr></thead>\n",
       "<tbody>\n",
       "\t<tr><th scope=row>NCLN</th><td>0.53122601</td><td>0.16416186</td><td>0.02453927</td><td>0.07735463</td><td>0.2027182 </td><td>0.51762564</td><td>0.15377831</td><td>0.02072909</td><td>0.06993321</td><td>0.1915625 </td><td>0.54478016</td><td>0.17510145</td><td>0.02902903</td><td>0.08549123</td><td>0.2143513 </td></tr>\n",
       "\t<tr><th scope=row>OST</th><td>0.03826064</td><td>0.74007621</td><td>0.02247714</td><td>0.07271818</td><td>0.1264678 </td><td>0.03549847</td><td>0.72992281</td><td>0.02008389</td><td>0.06738859</td><td>0.1199125 </td><td>0.04122855</td><td>0.74997864</td><td>0.02514825</td><td>0.07843383</td><td>0.1333273 </td></tr>\n",
       "\t<tr><th scope=row>Sol</th><td>0.02053183</td><td>0.03863999</td><td>0.51681055</td><td>0.01926910</td><td>0.4047485 </td><td>0.01676131</td><td>0.03319828</td><td>0.49448652</td><td>0.01557617</td><td>0.3842417 </td><td>0.02512885</td><td>0.04493222</td><td>0.53906769</td><td>0.02381638</td><td>0.4255933 </td></tr>\n",
       "\t<tr><th scope=row>TRAP</th><td>0.11676147</td><td>0.46086267</td><td>0.08047359</td><td>0.11144288</td><td>0.2304594 </td><td>0.10422871</td><td>0.43835999</td><td>0.06918132</td><td>0.09866013</td><td>0.2124971 </td><td>0.13058153</td><td>0.48352601</td><td>0.09342407</td><td>0.12565092</td><td>0.2494591 </td></tr>\n",
       "\t<tr><th scope=row>Unk</th><td>0.09870988</td><td>0.19666353</td><td>0.20669558</td><td>0.05630684</td><td>0.4416242 </td><td>0.09273392</td><td>0.18659439</td><td>0.19371423</td><td>0.05107120</td><td>0.4278283 </td><td>0.10502637</td><td>0.20713765</td><td>0.22030916</td><td>0.06204414</td><td>0.4555107 </td></tr>\n",
       "</tbody>\n",
       "</table>\n"
      ],
      "text/latex": [
       "\\begin{tabular}{r|lllllllllllllll}\n",
       "  & prob.NCLN & prob.OST & prob.Sol & prob.TRAP & prob.Unk & L.prob.NCLN & L.prob.OST & L.prob.Sol & L.prob.TRAP & L.prob.Unk & U.prob.NCLN & U.prob.OST & U.prob.Sol & U.prob.TRAP & U.prob.Unk\\\\\n",
       "\\hline\n",
       "\tNCLN & 0.53122601 & 0.16416186 & 0.02453927 & 0.07735463 & 0.2027182  & 0.51762564 & 0.15377831 & 0.02072909 & 0.06993321 & 0.1915625  & 0.54478016 & 0.17510145 & 0.02902903 & 0.08549123 & 0.2143513 \\\\\n",
       "\tOST & 0.03826064 & 0.74007621 & 0.02247714 & 0.07271818 & 0.1264678  & 0.03549847 & 0.72992281 & 0.02008389 & 0.06738859 & 0.1199125  & 0.04122855 & 0.74997864 & 0.02514825 & 0.07843383 & 0.1333273 \\\\\n",
       "\tSol & 0.02053183 & 0.03863999 & 0.51681055 & 0.01926910 & 0.4047485  & 0.01676131 & 0.03319828 & 0.49448652 & 0.01557617 & 0.3842417  & 0.02512885 & 0.04493222 & 0.53906769 & 0.02381638 & 0.4255933 \\\\\n",
       "\tTRAP & 0.11676147 & 0.46086267 & 0.08047359 & 0.11144288 & 0.2304594  & 0.10422871 & 0.43835999 & 0.06918132 & 0.09866013 & 0.2124971  & 0.13058153 & 0.48352601 & 0.09342407 & 0.12565092 & 0.2494591 \\\\\n",
       "\tUnk & 0.09870988 & 0.19666353 & 0.20669558 & 0.05630684 & 0.4416242  & 0.09273392 & 0.18659439 & 0.19371423 & 0.05107120 & 0.4278283  & 0.10502637 & 0.20713765 & 0.22030916 & 0.06204414 & 0.4555107 \\\\\n",
       "\\end{tabular}\n"
      ],
      "text/markdown": [
       "\n",
       "| <!--/--> | prob.NCLN | prob.OST | prob.Sol | prob.TRAP | prob.Unk | L.prob.NCLN | L.prob.OST | L.prob.Sol | L.prob.TRAP | L.prob.Unk | U.prob.NCLN | U.prob.OST | U.prob.Sol | U.prob.TRAP | U.prob.Unk |\n",
       "|---|---|---|---|---|---|---|---|---|---|---|---|---|---|---|---|\n",
       "| NCLN | 0.53122601 | 0.16416186 | 0.02453927 | 0.07735463 | 0.2027182  | 0.51762564 | 0.15377831 | 0.02072909 | 0.06993321 | 0.1915625  | 0.54478016 | 0.17510145 | 0.02902903 | 0.08549123 | 0.2143513  |\n",
       "| OST | 0.03826064 | 0.74007621 | 0.02247714 | 0.07271818 | 0.1264678  | 0.03549847 | 0.72992281 | 0.02008389 | 0.06738859 | 0.1199125  | 0.04122855 | 0.74997864 | 0.02514825 | 0.07843383 | 0.1333273  |\n",
       "| Sol | 0.02053183 | 0.03863999 | 0.51681055 | 0.01926910 | 0.4047485  | 0.01676131 | 0.03319828 | 0.49448652 | 0.01557617 | 0.3842417  | 0.02512885 | 0.04493222 | 0.53906769 | 0.02381638 | 0.4255933  |\n",
       "| TRAP | 0.11676147 | 0.46086267 | 0.08047359 | 0.11144288 | 0.2304594  | 0.10422871 | 0.43835999 | 0.06918132 | 0.09866013 | 0.2124971  | 0.13058153 | 0.48352601 | 0.09342407 | 0.12565092 | 0.2494591  |\n",
       "| Unk | 0.09870988 | 0.19666353 | 0.20669558 | 0.05630684 | 0.4416242  | 0.09273392 | 0.18659439 | 0.19371423 | 0.05107120 | 0.4278283  | 0.10502637 | 0.20713765 | 0.22030916 | 0.06204414 | 0.4555107  |\n",
       "\n"
      ],
      "text/plain": [
       "     prob.NCLN  prob.OST   prob.Sol   prob.TRAP  prob.Unk  L.prob.NCLN\n",
       "NCLN 0.53122601 0.16416186 0.02453927 0.07735463 0.2027182 0.51762564 \n",
       "OST  0.03826064 0.74007621 0.02247714 0.07271818 0.1264678 0.03549847 \n",
       "Sol  0.02053183 0.03863999 0.51681055 0.01926910 0.4047485 0.01676131 \n",
       "TRAP 0.11676147 0.46086267 0.08047359 0.11144288 0.2304594 0.10422871 \n",
       "Unk  0.09870988 0.19666353 0.20669558 0.05630684 0.4416242 0.09273392 \n",
       "     L.prob.OST L.prob.Sol L.prob.TRAP L.prob.Unk U.prob.NCLN U.prob.OST\n",
       "NCLN 0.15377831 0.02072909 0.06993321  0.1915625  0.54478016  0.17510145\n",
       "OST  0.72992281 0.02008389 0.06738859  0.1199125  0.04122855  0.74997864\n",
       "Sol  0.03319828 0.49448652 0.01557617  0.3842417  0.02512885  0.04493222\n",
       "TRAP 0.43835999 0.06918132 0.09866013  0.2124971  0.13058153  0.48352601\n",
       "Unk  0.18659439 0.19371423 0.05107120  0.4278283  0.10502637  0.20713765\n",
       "     U.prob.Sol U.prob.TRAP U.prob.Unk\n",
       "NCLN 0.02902903 0.08549123  0.2143513 \n",
       "OST  0.02514825 0.07843383  0.1333273 \n",
       "Sol  0.53906769 0.02381638  0.4255933 \n",
       "TRAP 0.09342407 0.12565092  0.2494591 \n",
       "Unk  0.22030916 0.06204414  0.4555107 "
      ]
     },
     "metadata": {},
     "output_type": "display_data"
    }
   ],
   "source": [
    "# print the calculated probailities from the model\n",
    "fit.eff <- Effect.mblogit(model_trail_state, 'state')\n",
    "prediction <- data.frame(fit.eff$prob, fit.eff$lower.prob, fit.eff$upper.prob)\n",
    "row.names(prediction) <- fit.eff$predictors\n",
    "prediction\n",
    "\n",
    "# and write to csv file\n",
    "write.csv(prediction, \"../data/results/mblogit_trailing-polysome-translocon.csv\", row.names=TRUE)"
   ]
  },
  {
   "cell_type": "markdown",
   "id": "4a22c3a1",
   "metadata": {},
   "source": [
    "## Leading/trailing state extended"
   ]
  },
  {
   "cell_type": "code",
   "execution_count": 30,
   "id": "1a4fc7aa",
   "metadata": {},
   "outputs": [
    {
     "name": "stdout",
     "output_type": "stream",
     "text": [
      "\n",
      "Iteration 1 - deviance = 293406 - criterion = 0.7800511\n",
      "Iteration 2 - deviance = 276018.8 - criterion = 0.1559336\n",
      "Iteration 3 - deviance = 274296.1 - criterion = 0.01640992\n",
      "Iteration 4 - deviance = 274177 - criterion = 0.002924627\n",
      "Iteration 5 - deviance = 274414.1 - criterion = 0.0006417718\n",
      "Iteration 6 - deviance = 274704.5 - criterion = 0.0001012667\n",
      "Iteration 7 - deviance = 274917.9 - criterion = 2.713744e-05\n",
      "Iteration 8 - deviance = 275050.2 - criterion = 1.43921e-05\n",
      "Iteration 9 - deviance = 275129 - criterion = 9.646623e-06\n",
      "Iteration 10 - deviance = 275176.1 - criterion = 4.144139e-06\n",
      "Iteration 11 - deviance = 275204.2 - criterion = 1.578939e-06\n",
      "Iteration 12 - deviance = 275220.9 - criterion = 5.729397e-07\n",
      "Iteration 13 - deviance = 275230.8 - criterion = 2.035648e-07\n",
      "Iteration 14 - deviance = 275236.6 - criterion = 7.163148e-08\n",
      "Iteration 15 - deviance = 275240 - criterion = 2.509537e-08\n",
      "Iteration 16 - deviance = 275242.1 - criterion = 8.774939e-09\n",
      "converged\n"
     ]
    },
    {
     "data": {
      "text/plain": [
       "\n",
       "Call:\n",
       "mblogit(formula = ld_state_full ~ state_full, data = temp, random = ~1 | \n",
       "    tomogram, control = mmclogit.control(epsilon = 1e-08, maxit = 100))\n",
       "\n",
       "Equation for NCLNTRAP vs NCLN:\n",
       "                   Estimate Std. Error z value Pr(>|z|)    \n",
       "(Intercept)        -1.07921    0.05930 -18.198  < 2e-16 ***\n",
       "state_fullNCLNTRAP  0.12531    0.07971   1.572    0.116    \n",
       "state_fullOST       1.08753    0.07946  13.686  < 2e-16 ***\n",
       "state_fullSol       0.70394    0.16935   4.157 3.23e-05 ***\n",
       "state_fullTRAP      0.64146    0.10251   6.257 3.92e-10 ***\n",
       "state_fullUnk       0.30226    0.07717   3.917 8.98e-05 ***\n",
       "\n",
       "Equation for non vs NCLN:\n",
       "                   Estimate Std. Error z value Pr(>|z|)    \n",
       "(Intercept)         1.13281    0.02883   39.29   <2e-16 ***\n",
       "state_fullNCLNTRAP  0.57630    0.04886   11.79   <2e-16 ***\n",
       "state_fullOST       2.91564    0.05434   53.65   <2e-16 ***\n",
       "state_fullSol       4.24245    0.11064   38.34   <2e-16 ***\n",
       "state_fullTRAP      1.39484    0.06726   20.74   <2e-16 ***\n",
       "state_fullUnk       2.44273    0.04544   53.76   <2e-16 ***\n",
       "\n",
       "Equation for OST vs NCLN:\n",
       "                   Estimate Std. Error z value Pr(>|z|)    \n",
       "(Intercept)        -1.50376    0.06124 -24.555   <2e-16 ***\n",
       "state_fullNCLNTRAP  0.73147    0.08468   8.638   <2e-16 ***\n",
       "state_fullOST       4.86524    0.07316  66.503   <2e-16 ***\n",
       "state_fullSol       3.10611    0.12928  24.027   <2e-16 ***\n",
       "state_fullTRAP      3.08661    0.08532  36.177   <2e-16 ***\n",
       "state_fullUnk       2.57186    0.06927  37.126   <2e-16 ***\n",
       "\n",
       "Equation for Sol vs NCLN:\n",
       "                   Estimate Std. Error z value Pr(>|z|)    \n",
       "(Intercept)         -3.5095     0.1433 -24.485   <2e-16 ***\n",
       "state_fullNCLNTRAP   0.5146     0.2115   2.433    0.015 *  \n",
       "state_fullOST        2.4541     0.1649  14.882   <2e-16 ***\n",
       "state_fullSol        6.7349     0.1771  38.025   <2e-16 ***\n",
       "state_fullTRAP       2.2826     0.1835  12.436   <2e-16 ***\n",
       "state_fullUnk        4.2595     0.1461  29.162   <2e-16 ***\n",
       "\n",
       "Equation for TRAP vs NCLN:\n",
       "                       Estimate Std. Error z value Pr(>|z|)    \n",
       "NCLN(Intercept)        -1.07921    0.05930 -18.198  < 2e-16 ***\n",
       "(Intercept)            -2.34340    0.08559 -27.380  < 2e-16 ***\n",
       "NCLNstate_fullNCLNTRAP  0.12531    0.07971   1.572   0.1159    \n",
       "state_fullNCLNTRAP      0.26644    0.13186   2.021   0.0433 *  \n",
       "NCLNstate_fullOST       1.08753    0.07946  13.686  < 2e-16 ***\n",
       "state_fullOST           3.07238    0.09770  31.449  < 2e-16 ***\n",
       "NCLNstate_fullSol       0.70394    0.16935   4.157 3.23e-05 ***\n",
       "state_fullSol           3.05697    0.15222  20.083  < 2e-16 ***\n",
       "NCLNstate_fullTRAP      0.64146    0.10251   6.257 3.92e-10 ***\n",
       "state_fullTRAP          2.21929    0.11503  19.294  < 2e-16 ***\n",
       "NCLNstate_fullUnk       0.30226    0.07717   3.917 8.98e-05 ***\n",
       "state_fullUnk           1.85539    0.09794  18.945  < 2e-16 ***\n",
       "\n",
       "Equation for Unk vs NCLN:\n",
       "                   Estimate Std. Error z value Pr(>|z|)    \n",
       "(Intercept)        -0.97090    0.05022 -19.334  < 2e-16 ***\n",
       "state_fullNCLNTRAP  0.22355    0.07877   2.838  0.00454 ** \n",
       "state_fullOST       2.36529    0.06935  34.104  < 2e-16 ***\n",
       "state_fullSol       4.12181    0.11857  34.763  < 2e-16 ***\n",
       "state_fullTRAP      1.64147    0.08551  19.195  < 2e-16 ***\n",
       "state_fullUnk       2.63930    0.06039  43.704  < 2e-16 ***\n",
       "---\n",
       "Signif. codes:  0 ‘***’ 0.001 ‘**’ 0.01 ‘*’ 0.05 ‘.’ 0.1 ‘ ’ 1\n",
       "\n",
       "(Co-)Variances:\n",
       "Grouping level: tomogram \n",
       "           Estimate                                                      Std.Err.                                                   \n",
       "NCLNTRAP~1  0.906926                                                     5.770e-02                                                  \n",
       "non~1      -0.016854  0.006011                                           1.989e-03 8.669e-05                                        \n",
       "OST~1       0.088691 -0.019569  0.459537                                 1.964e-02 8.896e-04 1.011e-02                              \n",
       "Sol~1       0.063307 -0.002685  0.073831  0.766544                       3.042e-02 1.211e-03 1.337e-02 2.877e-02                    \n",
       "TRAP~1      0.109551 -0.022084  0.158426  0.056520  0.617926             2.771e-02 1.275e-03 1.315e-02 1.841e-02 2.060e-02          \n",
       "Unk~1       0.060741 -0.020597  0.057907  0.052472  0.089256  0.244419   1.003e-02 4.461e-04 4.503e-03 6.784e-03 6.497e-03 2.466e-03\n",
       "\n",
       "Null Deviance:     522900 \n",
       "Residual Deviance: 275200 \n",
       "Number of Fisher Scoring iterations:  16\n",
       "Number of observations\n",
       "  Groups by tomogram: 866\n",
       "  Individual observations:  134350"
      ]
     },
     "metadata": {},
     "output_type": "display_data"
    }
   ],
   "source": [
    "temp <- data.frame(df_wt)\n",
    "temp$state_full <- factor(ifelse(temp$state_full %in% c('NCLN', 'NCLNCCDC47'), \n",
    "                                   'NCLN', as.character(temp$state_full)))\n",
    "temp$state_full <- factor(ifelse(temp$state_full %in% c('NCLNTRAP', 'NCLNTRAPCCDC47'), \n",
    "                                   'NCLNTRAP', as.character(temp$state_full)))\n",
    "temp$ld_state_full <- factor(ifelse(temp$ld_state_full %in% c('NCLN', 'NCLNCCDC47'), \n",
    "                                   'NCLN', as.character(temp$ld_state_full)))\n",
    "temp$ld_state_full <- factor(ifelse(temp$ld_state_full %in% c('NCLNTRAP', 'NCLNTRAPCCDC47'), \n",
    "                                   'NCLNTRAP', as.character(temp$ld_state_full)))\n",
    "\n",
    "model_lead_state_extended <- mblogit(ld_state_full ~ state_full, data = temp, random = ~1|tomogram,\n",
    "                       control=mmclogit.control(epsilon = 1e-08, maxit = 100))\n",
    "summary(model_lead_state_extended)"
   ]
  },
  {
   "cell_type": "code",
   "execution_count": 31,
   "id": "e979639a",
   "metadata": {},
   "outputs": [
    {
     "data": {
      "text/html": [
       "<table>\n",
       "<thead><tr><th></th><th scope=col>prob.NCLN</th><th scope=col>prob.NCLNTRAP</th><th scope=col>prob.non</th><th scope=col>prob.OST</th><th scope=col>prob.Sol</th><th scope=col>prob.TRAP</th><th scope=col>prob.Unk</th><th scope=col>L.prob.NCLN</th><th scope=col>L.prob.NCLNTRAP</th><th scope=col>L.prob.non</th><th scope=col>...</th><th scope=col>L.prob.Sol</th><th scope=col>L.prob.TRAP</th><th scope=col>L.prob.Unk</th><th scope=col>U.prob.NCLN</th><th scope=col>U.prob.NCLNTRAP</th><th scope=col>U.prob.non</th><th scope=col>U.prob.OST</th><th scope=col>U.prob.Sol</th><th scope=col>U.prob.TRAP</th><th scope=col>U.prob.Unk</th></tr></thead>\n",
       "<tbody>\n",
       "\t<tr><th scope=row>NCLN</th><td>0.193379214</td><td>0.065722898</td><td>0.6003216  </td><td>0.04298666 </td><td>0.005784345</td><td>0.018564485</td><td>0.07324082 </td><td>0.184975774</td><td>0.059404469</td><td>0.5887923  </td><td>...        </td><td>0.004389541</td><td>0.015835213</td><td>0.06744157 </td><td>0.202069771</td><td>0.072661458</td><td>0.6117407  </td><td>0.04783042 </td><td>0.007618964</td><td>0.021753763</td><td>0.07949625 </td></tr>\n",
       "\t<tr><th scope=row>NCLNTRAP</th><td>0.124684563</td><td>0.048033376</td><td>0.6887669  </td><td>0.05759843 </td><td>0.006239612</td><td>0.015624248</td><td>0.05905287 </td><td>0.116589506</td><td>0.042520748</td><td>0.6762566  </td><td>...        </td><td>0.004584355</td><td>0.012806012</td><td>0.05319749 </td><td>0.133256895</td><td>0.054220220</td><td>0.7010075  </td><td>0.06414770 </td><td>0.008487433</td><td>0.019050728</td><td>0.06550816 </td></tr>\n",
       "\t<tr><th scope=row>OST</th><td>0.010570555</td><td>0.010658896</td><td>0.6057870  </td><td>0.30476646 </td><td>0.003679033</td><td>0.021912257</td><td>0.04262584 </td><td>0.009657688</td><td>0.009563402</td><td>0.5949893  </td><td>...        </td><td>0.003142665</td><td>0.020228538</td><td>0.04033215 </td><td>0.011568700</td><td>0.011878374</td><td>0.6164822  </td><td>0.31578436 </td><td>0.004306550</td><td>0.023732726</td><td>0.04504386 </td></tr>\n",
       "\t<tr><th scope=row>Sol</th><td>0.003660177</td><td>0.002514921</td><td>0.7905844  </td><td>0.01817163 </td><td>0.092105531</td><td>0.007471344</td><td>0.08549195 </td><td>0.002970614</td><td>0.001960236</td><td>0.7827277  </td><td>...        </td><td>0.086058601</td><td>0.006414237</td><td>0.08108610 </td><td>0.004509083</td><td>0.003226058</td><td>0.7982303  </td><td>0.02010942 </td><td>0.098531544</td><td>0.008701143</td><td>0.09011372 </td></tr>\n",
       "\t<tr><th scope=row>TRAP</th><td>0.045105590</td><td>0.029115230</td><td>0.5649061  </td><td>0.21961047 </td><td>0.013224787</td><td>0.039840945</td><td>0.08819688 </td><td>0.040290260</td><td>0.025078898</td><td>0.5505390  </td><td>...        </td><td>0.010716111</td><td>0.035226372</td><td>0.08113534 </td><td>0.050466166</td><td>0.033778682</td><td>0.5791650  </td><td>0.23252546 </td><td>0.016311070</td><td>0.045031802</td><td>0.09580892 </td></tr>\n",
       "\t<tr><th scope=row>Unk</th><td>0.020782139</td><td>0.009555784</td><td>0.7422129  </td><td>0.06047281 </td><td>0.043997700</td><td>0.012757047</td><td>0.11022162 </td><td>0.019422799</td><td>0.008497857</td><td>0.7352384  </td><td>...        </td><td>0.040885496</td><td>0.011537366</td><td>0.10563670 </td><td>0.022234458</td><td>0.010743989</td><td>0.7490663  </td><td>0.06409285 </td><td>0.047335113</td><td>0.014103827</td><td>0.11497996 </td></tr>\n",
       "</tbody>\n",
       "</table>\n"
      ],
      "text/latex": [
       "\\begin{tabular}{r|lllllllllllllllllllll}\n",
       "  & prob.NCLN & prob.NCLNTRAP & prob.non & prob.OST & prob.Sol & prob.TRAP & prob.Unk & L.prob.NCLN & L.prob.NCLNTRAP & L.prob.non & ... & L.prob.Sol & L.prob.TRAP & L.prob.Unk & U.prob.NCLN & U.prob.NCLNTRAP & U.prob.non & U.prob.OST & U.prob.Sol & U.prob.TRAP & U.prob.Unk\\\\\n",
       "\\hline\n",
       "\tNCLN & 0.193379214 & 0.065722898 & 0.6003216   & 0.04298666  & 0.005784345 & 0.018564485 & 0.07324082  & 0.184975774 & 0.059404469 & 0.5887923   & ...         & 0.004389541 & 0.015835213 & 0.06744157  & 0.202069771 & 0.072661458 & 0.6117407   & 0.04783042  & 0.007618964 & 0.021753763 & 0.07949625 \\\\\n",
       "\tNCLNTRAP & 0.124684563 & 0.048033376 & 0.6887669   & 0.05759843  & 0.006239612 & 0.015624248 & 0.05905287  & 0.116589506 & 0.042520748 & 0.6762566   & ...         & 0.004584355 & 0.012806012 & 0.05319749  & 0.133256895 & 0.054220220 & 0.7010075   & 0.06414770  & 0.008487433 & 0.019050728 & 0.06550816 \\\\\n",
       "\tOST & 0.010570555 & 0.010658896 & 0.6057870   & 0.30476646  & 0.003679033 & 0.021912257 & 0.04262584  & 0.009657688 & 0.009563402 & 0.5949893   & ...         & 0.003142665 & 0.020228538 & 0.04033215  & 0.011568700 & 0.011878374 & 0.6164822   & 0.31578436  & 0.004306550 & 0.023732726 & 0.04504386 \\\\\n",
       "\tSol & 0.003660177 & 0.002514921 & 0.7905844   & 0.01817163  & 0.092105531 & 0.007471344 & 0.08549195  & 0.002970614 & 0.001960236 & 0.7827277   & ...         & 0.086058601 & 0.006414237 & 0.08108610  & 0.004509083 & 0.003226058 & 0.7982303   & 0.02010942  & 0.098531544 & 0.008701143 & 0.09011372 \\\\\n",
       "\tTRAP & 0.045105590 & 0.029115230 & 0.5649061   & 0.21961047  & 0.013224787 & 0.039840945 & 0.08819688  & 0.040290260 & 0.025078898 & 0.5505390   & ...         & 0.010716111 & 0.035226372 & 0.08113534  & 0.050466166 & 0.033778682 & 0.5791650   & 0.23252546  & 0.016311070 & 0.045031802 & 0.09580892 \\\\\n",
       "\tUnk & 0.020782139 & 0.009555784 & 0.7422129   & 0.06047281  & 0.043997700 & 0.012757047 & 0.11022162  & 0.019422799 & 0.008497857 & 0.7352384   & ...         & 0.040885496 & 0.011537366 & 0.10563670  & 0.022234458 & 0.010743989 & 0.7490663   & 0.06409285  & 0.047335113 & 0.014103827 & 0.11497996 \\\\\n",
       "\\end{tabular}\n"
      ],
      "text/markdown": [
       "\n",
       "| <!--/--> | prob.NCLN | prob.NCLNTRAP | prob.non | prob.OST | prob.Sol | prob.TRAP | prob.Unk | L.prob.NCLN | L.prob.NCLNTRAP | L.prob.non | ... | L.prob.Sol | L.prob.TRAP | L.prob.Unk | U.prob.NCLN | U.prob.NCLNTRAP | U.prob.non | U.prob.OST | U.prob.Sol | U.prob.TRAP | U.prob.Unk |\n",
       "|---|---|---|---|---|---|---|---|---|---|---|---|---|---|---|---|---|---|---|---|---|---|\n",
       "| NCLN | 0.193379214 | 0.065722898 | 0.6003216   | 0.04298666  | 0.005784345 | 0.018564485 | 0.07324082  | 0.184975774 | 0.059404469 | 0.5887923   | ...         | 0.004389541 | 0.015835213 | 0.06744157  | 0.202069771 | 0.072661458 | 0.6117407   | 0.04783042  | 0.007618964 | 0.021753763 | 0.07949625  |\n",
       "| NCLNTRAP | 0.124684563 | 0.048033376 | 0.6887669   | 0.05759843  | 0.006239612 | 0.015624248 | 0.05905287  | 0.116589506 | 0.042520748 | 0.6762566   | ...         | 0.004584355 | 0.012806012 | 0.05319749  | 0.133256895 | 0.054220220 | 0.7010075   | 0.06414770  | 0.008487433 | 0.019050728 | 0.06550816  |\n",
       "| OST | 0.010570555 | 0.010658896 | 0.6057870   | 0.30476646  | 0.003679033 | 0.021912257 | 0.04262584  | 0.009657688 | 0.009563402 | 0.5949893   | ...         | 0.003142665 | 0.020228538 | 0.04033215  | 0.011568700 | 0.011878374 | 0.6164822   | 0.31578436  | 0.004306550 | 0.023732726 | 0.04504386  |\n",
       "| Sol | 0.003660177 | 0.002514921 | 0.7905844   | 0.01817163  | 0.092105531 | 0.007471344 | 0.08549195  | 0.002970614 | 0.001960236 | 0.7827277   | ...         | 0.086058601 | 0.006414237 | 0.08108610  | 0.004509083 | 0.003226058 | 0.7982303   | 0.02010942  | 0.098531544 | 0.008701143 | 0.09011372  |\n",
       "| TRAP | 0.045105590 | 0.029115230 | 0.5649061   | 0.21961047  | 0.013224787 | 0.039840945 | 0.08819688  | 0.040290260 | 0.025078898 | 0.5505390   | ...         | 0.010716111 | 0.035226372 | 0.08113534  | 0.050466166 | 0.033778682 | 0.5791650   | 0.23252546  | 0.016311070 | 0.045031802 | 0.09580892  |\n",
       "| Unk | 0.020782139 | 0.009555784 | 0.7422129   | 0.06047281  | 0.043997700 | 0.012757047 | 0.11022162  | 0.019422799 | 0.008497857 | 0.7352384   | ...         | 0.040885496 | 0.011537366 | 0.10563670  | 0.022234458 | 0.010743989 | 0.7490663   | 0.06409285  | 0.047335113 | 0.014103827 | 0.11497996  |\n",
       "\n"
      ],
      "text/plain": [
       "         prob.NCLN   prob.NCLNTRAP prob.non  prob.OST   prob.Sol    prob.TRAP  \n",
       "NCLN     0.193379214 0.065722898   0.6003216 0.04298666 0.005784345 0.018564485\n",
       "NCLNTRAP 0.124684563 0.048033376   0.6887669 0.05759843 0.006239612 0.015624248\n",
       "OST      0.010570555 0.010658896   0.6057870 0.30476646 0.003679033 0.021912257\n",
       "Sol      0.003660177 0.002514921   0.7905844 0.01817163 0.092105531 0.007471344\n",
       "TRAP     0.045105590 0.029115230   0.5649061 0.21961047 0.013224787 0.039840945\n",
       "Unk      0.020782139 0.009555784   0.7422129 0.06047281 0.043997700 0.012757047\n",
       "         prob.Unk   L.prob.NCLN L.prob.NCLNTRAP L.prob.non ... L.prob.Sol \n",
       "NCLN     0.07324082 0.184975774 0.059404469     0.5887923  ... 0.004389541\n",
       "NCLNTRAP 0.05905287 0.116589506 0.042520748     0.6762566  ... 0.004584355\n",
       "OST      0.04262584 0.009657688 0.009563402     0.5949893  ... 0.003142665\n",
       "Sol      0.08549195 0.002970614 0.001960236     0.7827277  ... 0.086058601\n",
       "TRAP     0.08819688 0.040290260 0.025078898     0.5505390  ... 0.010716111\n",
       "Unk      0.11022162 0.019422799 0.008497857     0.7352384  ... 0.040885496\n",
       "         L.prob.TRAP L.prob.Unk U.prob.NCLN U.prob.NCLNTRAP U.prob.non\n",
       "NCLN     0.015835213 0.06744157 0.202069771 0.072661458     0.6117407 \n",
       "NCLNTRAP 0.012806012 0.05319749 0.133256895 0.054220220     0.7010075 \n",
       "OST      0.020228538 0.04033215 0.011568700 0.011878374     0.6164822 \n",
       "Sol      0.006414237 0.08108610 0.004509083 0.003226058     0.7982303 \n",
       "TRAP     0.035226372 0.08113534 0.050466166 0.033778682     0.5791650 \n",
       "Unk      0.011537366 0.10563670 0.022234458 0.010743989     0.7490663 \n",
       "         U.prob.OST U.prob.Sol  U.prob.TRAP U.prob.Unk\n",
       "NCLN     0.04783042 0.007618964 0.021753763 0.07949625\n",
       "NCLNTRAP 0.06414770 0.008487433 0.019050728 0.06550816\n",
       "OST      0.31578436 0.004306550 0.023732726 0.04504386\n",
       "Sol      0.02010942 0.098531544 0.008701143 0.09011372\n",
       "TRAP     0.23252546 0.016311070 0.045031802 0.09580892\n",
       "Unk      0.06409285 0.047335113 0.014103827 0.11497996"
      ]
     },
     "metadata": {},
     "output_type": "display_data"
    }
   ],
   "source": [
    "# print the calculated probailities from the model\n",
    "fit.eff <- Effect.mblogit(model_lead_state_extended, 'state_full')\n",
    "prediction <- data.frame(fit.eff$prob, fit.eff$lower.prob, fit.eff$upper.prob)\n",
    "row.names(prediction) <- fit.eff$predictors\n",
    "prediction\n",
    "\n",
    "# and write to csv file\n",
    "write.csv(prediction, \"../data/results/mblogit_leading-polysome-translocon_extended.csv\", row.names=TRUE)"
   ]
  },
  {
   "cell_type": "code",
   "execution_count": 32,
   "id": "da663453",
   "metadata": {},
   "outputs": [
    {
     "name": "stdout",
     "output_type": "stream",
     "text": [
      "\n",
      "Iteration 1 - deviance = 293800.8 - criterion = 0.7832841\n",
      "Iteration 2 - deviance = 276338.5 - criterion = 0.165574\n",
      "Iteration 3 - deviance = 274527 - criterion = 0.01570048\n",
      "Iteration 4 - deviance = 274326.1 - criterion = 0.004602206\n",
      "Iteration 5 - deviance = 274618 - criterion = 0.0007112536\n",
      "Iteration 6 - deviance = 274941.5 - criterion = 0.0001902867\n",
      "Iteration 7 - deviance = 275197.2 - criterion = 4.05049e-05\n",
      "Iteration 8 - deviance = 275358.3 - criterion = 8.618248e-06\n",
      "Iteration 9 - deviance = 275445.9 - criterion = 7.534617e-06\n",
      "Iteration 10 - deviance = 275492 - criterion = 3.818506e-06\n",
      "Iteration 11 - deviance = 275517.8 - criterion = 1.477356e-06\n",
      "Iteration 12 - deviance = 275532.6 - criterion = 5.276391e-07\n",
      "Iteration 13 - deviance = 275541 - criterion = 1.8304e-07\n",
      "Iteration 14 - deviance = 275545.9 - criterion = 6.272607e-08\n",
      "Iteration 15 - deviance = 275548.7 - criterion = 2.137976e-08\n",
      "Iteration 16 - deviance = 275550.4 - criterion = 7.271116e-09\n",
      "converged\n"
     ]
    },
    {
     "data": {
      "text/plain": [
       "\n",
       "Call:\n",
       "mblogit(formula = tr_state_full ~ state_full, data = temp, random = ~1 | \n",
       "    tomogram, control = mmclogit.control(epsilon = 1e-08, maxit = 100))\n",
       "\n",
       "Equation for NCLNTRAP vs NCLN:\n",
       "                   Estimate Std. Error z value Pr(>|z|)    \n",
       "(Intercept)        -0.92253    0.05838 -15.803  < 2e-16 ***\n",
       "state_fullNCLNTRAP  0.12703    0.07982   1.591 0.111523    \n",
       "state_fullOST       0.75144    0.08550   8.789  < 2e-16 ***\n",
       "state_fullSol       0.56179    0.21176   2.653 0.007978 ** \n",
       "state_fullTRAP      0.27529    0.13220   2.082 0.037303 *  \n",
       "state_fullUnk       0.27533    0.07974   3.453 0.000555 ***\n",
       "\n",
       "Equation for non vs NCLN:\n",
       "                   Estimate Std. Error z value Pr(>|z|)    \n",
       "(Intercept)         1.01598    0.02926   34.72   <2e-16 ***\n",
       "state_fullNCLNTRAP  0.80550    0.05162   15.60   <2e-16 ***\n",
       "state_fullOST       3.18381    0.05847   54.45   <2e-16 ***\n",
       "state_fullSol       4.90497    0.14060   34.89   <2e-16 ***\n",
       "state_fullTRAP      2.19989    0.08284   26.55   <2e-16 ***\n",
       "state_fullUnk       2.83561    0.04947   57.31   <2e-16 ***\n",
       "\n",
       "Equation for OST vs NCLN:\n",
       "                   Estimate Std. Error z value Pr(>|z|)    \n",
       "(Intercept)        -1.30659    0.05811  -22.48   <2e-16 ***\n",
       "state_fullNCLNTRAP  1.05556    0.07871   13.41   <2e-16 ***\n",
       "state_fullOST       4.85984    0.07318   66.41   <2e-16 ***\n",
       "state_fullSol       2.46861    0.16473   14.99   <2e-16 ***\n",
       "state_fullTRAP      3.05859    0.09727   31.44   <2e-16 ***\n",
       "state_fullUnk       2.40738    0.06942   34.68   <2e-16 ***\n",
       "\n",
       "Equation for Sol vs NCLN:\n",
       "                   Estimate Std. Error z value Pr(>|z|)    \n",
       "(Intercept)         -2.9776     0.1128 -26.391  < 2e-16 ***\n",
       "state_fullNCLNTRAP   0.6511     0.1690   3.853 0.000117 ***\n",
       "state_fullOST        3.0791     0.1294  23.791  < 2e-16 ***\n",
       "state_fullSol        6.7546     0.1771  38.150  < 2e-16 ***\n",
       "state_fullTRAP       3.0131     0.1520  19.821  < 2e-16 ***\n",
       "state_fullUnk        4.1457     0.1188  34.906  < 2e-16 ***\n",
       "\n",
       "Equation for TRAP vs NCLN:\n",
       "                       Estimate Std. Error z value Pr(>|z|)    \n",
       "NCLN(Intercept)        -0.92253    0.05838 -15.803  < 2e-16 ***\n",
       "(Intercept)            -1.81442    0.07121 -25.481  < 2e-16 ***\n",
       "NCLNstate_fullNCLNTRAP  0.12703    0.07982   1.591 0.111523    \n",
       "state_fullNCLNTRAP      0.61540    0.10217   6.024 1.71e-09 ***\n",
       "NCLNstate_fullOST       0.75144    0.08550   8.789  < 2e-16 ***\n",
       "state_fullOST           3.08004    0.08575  35.918  < 2e-16 ***\n",
       "NCLNstate_fullSol       0.56179    0.21176   2.653 0.007978 ** \n",
       "state_fullSol           2.30658    0.18361  12.562  < 2e-16 ***\n",
       "NCLNstate_fullTRAP      0.27529    0.13220   2.082 0.037303 *  \n",
       "state_fullTRAP          2.18882    0.11498  19.037  < 2e-16 ***\n",
       "NCLNstate_fullUnk       0.27533    0.07974   3.453 0.000555 ***\n",
       "state_fullUnk           1.68110    0.08606  19.534  < 2e-16 ***\n",
       "\n",
       "Equation for Unk vs NCLN:\n",
       "                   Estimate Std. Error z value Pr(>|z|)    \n",
       "(Intercept)        -0.70717    0.04623 -15.297  < 2e-16 ***\n",
       "state_fullNCLNTRAP  0.23887    0.07623   3.133  0.00173 ** \n",
       "state_fullOST       2.52237    0.06922  36.439  < 2e-16 ***\n",
       "state_fullSol       4.23654    0.14582  29.053  < 2e-16 ***\n",
       "state_fullTRAP      1.79791    0.09739  18.461  < 2e-16 ***\n",
       "state_fullUnk       2.63517    0.06038  43.646  < 2e-16 ***\n",
       "---\n",
       "Signif. codes:  0 ‘***’ 0.001 ‘**’ 0.01 ‘*’ 0.05 ‘.’ 0.1 ‘ ’ 1\n",
       "\n",
       "(Co-)Variances:\n",
       "Grouping level: tomogram \n",
       "           Estimate                                                      Std.Err.                                                   \n",
       "NCLNTRAP~1  0.990867                                                     0.0831037                                                  \n",
       "non~1      -0.020971  0.005961                                           0.0027754 0.0001079                                        \n",
       "OST~1       0.115518 -0.016554  0.512850                                 0.0273223 0.0011003 0.0127922                              \n",
       "Sol~1       0.060913 -0.012485  0.082597  0.537685                       0.0230671 0.0009162 0.0095857 0.0106940                    \n",
       "TRAP~1      0.130881 -0.018361  0.116103  0.055073  0.716141             0.0402173 0.0016290 0.0165462 0.0137324 0.0294228          \n",
       "Unk~1       0.060992 -0.019950  0.075429  0.059172  0.062804  0.224947   0.0117255 0.0004765 0.0049126 0.0041674 0.0070807 0.0022275\n",
       "\n",
       "Null Deviance:     522900 \n",
       "Residual Deviance: 275600 \n",
       "Number of Fisher Scoring iterations:  16\n",
       "Number of observations\n",
       "  Groups by tomogram: 866\n",
       "  Individual observations:  134350"
      ]
     },
     "metadata": {},
     "output_type": "display_data"
    }
   ],
   "source": [
    "temp <- data.frame(df_wt)\n",
    "temp$state_full <- factor(ifelse(temp$state_full %in% c('NCLN', 'NCLNCCDC47'), \n",
    "                                   'NCLN', as.character(temp$state_full)))\n",
    "temp$state_full <- factor(ifelse(temp$state_full %in% c('NCLNTRAP', 'NCLNTRAPCCDC47'), \n",
    "                                   'NCLNTRAP', as.character(temp$state_full)))\n",
    "temp$tr_state_full <- factor(ifelse(temp$tr_state_full %in% c('NCLN', 'NCLNCCDC47'), \n",
    "                                   'NCLN', as.character(temp$tr_state_full)))\n",
    "temp$tr_state_full <- factor(ifelse(temp$tr_state_full %in% c('NCLNTRAP', 'NCLNTRAPCCDC47'), \n",
    "                                   'NCLNTRAP', as.character(temp$tr_state_full)))\n",
    "\n",
    "model_trail_state_extended <- mblogit(tr_state_full ~ state_full, data = temp, random = ~1|tomogram,\n",
    "                       control=mmclogit.control(epsilon = 1e-08, maxit = 100))\n",
    "summary(model_trail_state_extended)"
   ]
  },
  {
   "cell_type": "code",
   "execution_count": 33,
   "id": "e13f3acf",
   "metadata": {},
   "outputs": [
    {
     "data": {
      "text/html": [
       "<table>\n",
       "<thead><tr><th></th><th scope=col>prob.NCLN</th><th scope=col>prob.NCLNTRAP</th><th scope=col>prob.non</th><th scope=col>prob.OST</th><th scope=col>prob.Sol</th><th scope=col>prob.TRAP</th><th scope=col>prob.Unk</th><th scope=col>L.prob.NCLN</th><th scope=col>L.prob.NCLNTRAP</th><th scope=col>L.prob.non</th><th scope=col>...</th><th scope=col>L.prob.Sol</th><th scope=col>L.prob.TRAP</th><th scope=col>L.prob.Unk</th><th scope=col>U.prob.NCLN</th><th scope=col>U.prob.NCLNTRAP</th><th scope=col>U.prob.non</th><th scope=col>U.prob.OST</th><th scope=col>U.prob.Sol</th><th scope=col>U.prob.TRAP</th><th scope=col>U.prob.Unk</th></tr></thead>\n",
       "<tbody>\n",
       "\t<tr><th scope=row>NCLN</th><td>0.194658271</td><td>0.077379311</td><td>0.5376594  </td><td>0.052702130</td><td>0.009910904</td><td>0.031716049</td><td>0.09597391 </td><td>0.186159852</td><td>0.070161327</td><td>0.5256660  </td><td>...        </td><td>0.007995849</td><td>0.027897100</td><td>0.08926147 </td><td>0.203447668</td><td>0.085271761</td><td>0.5496094  </td><td>0.058189631</td><td>0.01227895 </td><td>0.036038408</td><td>0.10313396 </td></tr>\n",
       "\t<tr><th scope=row>NCLNTRAP</th><td>0.105982108</td><td>0.047835682</td><td>0.6550758  </td><td>0.082454048</td><td>0.010347931</td><td>0.031952512</td><td>0.06635188 </td><td>0.098444061</td><td>0.042266589</td><td>0.6419005  </td><td>...        </td><td>0.008105354</td><td>0.027619033</td><td>0.06012502 </td><td>0.114024355</td><td>0.054097118</td><td>0.6680171  </td><td>0.090486774</td><td>0.01320272 </td><td>0.036940092</td><td>0.07317341 </td></tr>\n",
       "\t<tr><th scope=row>OST</th><td>0.008753796</td><td>0.007377272</td><td>0.5836359  </td><td>0.305741461</td><td>0.009688665</td><td>0.031034541</td><td>0.05376836 </td><td>0.007925342</td><td>0.006520413</td><td>0.5726081  </td><td>...        </td><td>0.008731224</td><td>0.028748328</td><td>0.05112272 </td><td>0.009668008</td><td>0.008345786</td><td>0.5945807  </td><td>0.317180510</td><td>0.01074996 </td><td>0.033496294</td><td>0.05654277 </td></tr>\n",
       "\t<tr><th scope=row>Sol</th><td>0.002187795</td><td>0.001525252</td><td>0.8155368  </td><td>0.006993035</td><td>0.095568922</td><td>0.003578897</td><td>0.07460933 </td><td>0.001671682</td><td>0.001117421</td><td>0.8082923  </td><td>...        </td><td>0.089936413</td><td>0.002897925</td><td>0.07065114 </td><td>0.002862796</td><td>0.002081622</td><td>0.8225675  </td><td>0.008149008</td><td>0.10151483 </td><td>0.004419179</td><td>0.07877049 </td></tr>\n",
       "\t<tr><th scope=row>TRAP</th><td>0.026538402</td><td>0.013892616</td><td>0.6614681  </td><td>0.153023942</td><td>0.027496124</td><td>0.038589814</td><td>0.07899101 </td><td>0.022898336</td><td>0.011330710</td><td>0.6479935  </td><td>...        </td><td>0.023685157</td><td>0.034040120</td><td>0.07240412 </td><td>0.030738912</td><td>0.017023802</td><td>0.6746858  </td><td>0.163904343</td><td>0.03190024 </td><td>0.043720083</td><td>0.08612150 </td></tr>\n",
       "\t<tr><th scope=row>Unk</th><td>0.015983469</td><td>0.008367536</td><td>0.7523053  </td><td>0.048054795</td><td>0.051401848</td><td>0.013988398</td><td>0.10989864 </td><td>0.014796814</td><td>0.007392599</td><td>0.7454701  </td><td>...        </td><td>0.048209220</td><td>0.012665509</td><td>0.10543345 </td><td>0.017263622</td><td>0.009469821</td><td>0.7590163  </td><td>0.051187792</td><td>0.05479373 </td><td>0.015447300</td><td>0.11452873 </td></tr>\n",
       "</tbody>\n",
       "</table>\n"
      ],
      "text/latex": [
       "\\begin{tabular}{r|lllllllllllllllllllll}\n",
       "  & prob.NCLN & prob.NCLNTRAP & prob.non & prob.OST & prob.Sol & prob.TRAP & prob.Unk & L.prob.NCLN & L.prob.NCLNTRAP & L.prob.non & ... & L.prob.Sol & L.prob.TRAP & L.prob.Unk & U.prob.NCLN & U.prob.NCLNTRAP & U.prob.non & U.prob.OST & U.prob.Sol & U.prob.TRAP & U.prob.Unk\\\\\n",
       "\\hline\n",
       "\tNCLN & 0.194658271 & 0.077379311 & 0.5376594   & 0.052702130 & 0.009910904 & 0.031716049 & 0.09597391  & 0.186159852 & 0.070161327 & 0.5256660   & ...         & 0.007995849 & 0.027897100 & 0.08926147  & 0.203447668 & 0.085271761 & 0.5496094   & 0.058189631 & 0.01227895  & 0.036038408 & 0.10313396 \\\\\n",
       "\tNCLNTRAP & 0.105982108 & 0.047835682 & 0.6550758   & 0.082454048 & 0.010347931 & 0.031952512 & 0.06635188  & 0.098444061 & 0.042266589 & 0.6419005   & ...         & 0.008105354 & 0.027619033 & 0.06012502  & 0.114024355 & 0.054097118 & 0.6680171   & 0.090486774 & 0.01320272  & 0.036940092 & 0.07317341 \\\\\n",
       "\tOST & 0.008753796 & 0.007377272 & 0.5836359   & 0.305741461 & 0.009688665 & 0.031034541 & 0.05376836  & 0.007925342 & 0.006520413 & 0.5726081   & ...         & 0.008731224 & 0.028748328 & 0.05112272  & 0.009668008 & 0.008345786 & 0.5945807   & 0.317180510 & 0.01074996  & 0.033496294 & 0.05654277 \\\\\n",
       "\tSol & 0.002187795 & 0.001525252 & 0.8155368   & 0.006993035 & 0.095568922 & 0.003578897 & 0.07460933  & 0.001671682 & 0.001117421 & 0.8082923   & ...         & 0.089936413 & 0.002897925 & 0.07065114  & 0.002862796 & 0.002081622 & 0.8225675   & 0.008149008 & 0.10151483  & 0.004419179 & 0.07877049 \\\\\n",
       "\tTRAP & 0.026538402 & 0.013892616 & 0.6614681   & 0.153023942 & 0.027496124 & 0.038589814 & 0.07899101  & 0.022898336 & 0.011330710 & 0.6479935   & ...         & 0.023685157 & 0.034040120 & 0.07240412  & 0.030738912 & 0.017023802 & 0.6746858   & 0.163904343 & 0.03190024  & 0.043720083 & 0.08612150 \\\\\n",
       "\tUnk & 0.015983469 & 0.008367536 & 0.7523053   & 0.048054795 & 0.051401848 & 0.013988398 & 0.10989864  & 0.014796814 & 0.007392599 & 0.7454701   & ...         & 0.048209220 & 0.012665509 & 0.10543345  & 0.017263622 & 0.009469821 & 0.7590163   & 0.051187792 & 0.05479373  & 0.015447300 & 0.11452873 \\\\\n",
       "\\end{tabular}\n"
      ],
      "text/markdown": [
       "\n",
       "| <!--/--> | prob.NCLN | prob.NCLNTRAP | prob.non | prob.OST | prob.Sol | prob.TRAP | prob.Unk | L.prob.NCLN | L.prob.NCLNTRAP | L.prob.non | ... | L.prob.Sol | L.prob.TRAP | L.prob.Unk | U.prob.NCLN | U.prob.NCLNTRAP | U.prob.non | U.prob.OST | U.prob.Sol | U.prob.TRAP | U.prob.Unk |\n",
       "|---|---|---|---|---|---|---|---|---|---|---|---|---|---|---|---|---|---|---|---|---|---|\n",
       "| NCLN | 0.194658271 | 0.077379311 | 0.5376594   | 0.052702130 | 0.009910904 | 0.031716049 | 0.09597391  | 0.186159852 | 0.070161327 | 0.5256660   | ...         | 0.007995849 | 0.027897100 | 0.08926147  | 0.203447668 | 0.085271761 | 0.5496094   | 0.058189631 | 0.01227895  | 0.036038408 | 0.10313396  |\n",
       "| NCLNTRAP | 0.105982108 | 0.047835682 | 0.6550758   | 0.082454048 | 0.010347931 | 0.031952512 | 0.06635188  | 0.098444061 | 0.042266589 | 0.6419005   | ...         | 0.008105354 | 0.027619033 | 0.06012502  | 0.114024355 | 0.054097118 | 0.6680171   | 0.090486774 | 0.01320272  | 0.036940092 | 0.07317341  |\n",
       "| OST | 0.008753796 | 0.007377272 | 0.5836359   | 0.305741461 | 0.009688665 | 0.031034541 | 0.05376836  | 0.007925342 | 0.006520413 | 0.5726081   | ...         | 0.008731224 | 0.028748328 | 0.05112272  | 0.009668008 | 0.008345786 | 0.5945807   | 0.317180510 | 0.01074996  | 0.033496294 | 0.05654277  |\n",
       "| Sol | 0.002187795 | 0.001525252 | 0.8155368   | 0.006993035 | 0.095568922 | 0.003578897 | 0.07460933  | 0.001671682 | 0.001117421 | 0.8082923   | ...         | 0.089936413 | 0.002897925 | 0.07065114  | 0.002862796 | 0.002081622 | 0.8225675   | 0.008149008 | 0.10151483  | 0.004419179 | 0.07877049  |\n",
       "| TRAP | 0.026538402 | 0.013892616 | 0.6614681   | 0.153023942 | 0.027496124 | 0.038589814 | 0.07899101  | 0.022898336 | 0.011330710 | 0.6479935   | ...         | 0.023685157 | 0.034040120 | 0.07240412  | 0.030738912 | 0.017023802 | 0.6746858   | 0.163904343 | 0.03190024  | 0.043720083 | 0.08612150  |\n",
       "| Unk | 0.015983469 | 0.008367536 | 0.7523053   | 0.048054795 | 0.051401848 | 0.013988398 | 0.10989864  | 0.014796814 | 0.007392599 | 0.7454701   | ...         | 0.048209220 | 0.012665509 | 0.10543345  | 0.017263622 | 0.009469821 | 0.7590163   | 0.051187792 | 0.05479373  | 0.015447300 | 0.11452873  |\n",
       "\n"
      ],
      "text/plain": [
       "         prob.NCLN   prob.NCLNTRAP prob.non  prob.OST    prob.Sol   \n",
       "NCLN     0.194658271 0.077379311   0.5376594 0.052702130 0.009910904\n",
       "NCLNTRAP 0.105982108 0.047835682   0.6550758 0.082454048 0.010347931\n",
       "OST      0.008753796 0.007377272   0.5836359 0.305741461 0.009688665\n",
       "Sol      0.002187795 0.001525252   0.8155368 0.006993035 0.095568922\n",
       "TRAP     0.026538402 0.013892616   0.6614681 0.153023942 0.027496124\n",
       "Unk      0.015983469 0.008367536   0.7523053 0.048054795 0.051401848\n",
       "         prob.TRAP   prob.Unk   L.prob.NCLN L.prob.NCLNTRAP L.prob.non ...\n",
       "NCLN     0.031716049 0.09597391 0.186159852 0.070161327     0.5256660  ...\n",
       "NCLNTRAP 0.031952512 0.06635188 0.098444061 0.042266589     0.6419005  ...\n",
       "OST      0.031034541 0.05376836 0.007925342 0.006520413     0.5726081  ...\n",
       "Sol      0.003578897 0.07460933 0.001671682 0.001117421     0.8082923  ...\n",
       "TRAP     0.038589814 0.07899101 0.022898336 0.011330710     0.6479935  ...\n",
       "Unk      0.013988398 0.10989864 0.014796814 0.007392599     0.7454701  ...\n",
       "         L.prob.Sol  L.prob.TRAP L.prob.Unk U.prob.NCLN U.prob.NCLNTRAP\n",
       "NCLN     0.007995849 0.027897100 0.08926147 0.203447668 0.085271761    \n",
       "NCLNTRAP 0.008105354 0.027619033 0.06012502 0.114024355 0.054097118    \n",
       "OST      0.008731224 0.028748328 0.05112272 0.009668008 0.008345786    \n",
       "Sol      0.089936413 0.002897925 0.07065114 0.002862796 0.002081622    \n",
       "TRAP     0.023685157 0.034040120 0.07240412 0.030738912 0.017023802    \n",
       "Unk      0.048209220 0.012665509 0.10543345 0.017263622 0.009469821    \n",
       "         U.prob.non U.prob.OST  U.prob.Sol U.prob.TRAP U.prob.Unk\n",
       "NCLN     0.5496094  0.058189631 0.01227895 0.036038408 0.10313396\n",
       "NCLNTRAP 0.6680171  0.090486774 0.01320272 0.036940092 0.07317341\n",
       "OST      0.5945807  0.317180510 0.01074996 0.033496294 0.05654277\n",
       "Sol      0.8225675  0.008149008 0.10151483 0.004419179 0.07877049\n",
       "TRAP     0.6746858  0.163904343 0.03190024 0.043720083 0.08612150\n",
       "Unk      0.7590163  0.051187792 0.05479373 0.015447300 0.11452873"
      ]
     },
     "metadata": {},
     "output_type": "display_data"
    }
   ],
   "source": [
    "# print the calculated probailities from the model\n",
    "fit.eff <- Effect.mblogit(model_trail_state_extended, 'state_full')\n",
    "prediction <- data.frame(fit.eff$prob, fit.eff$lower.prob, fit.eff$upper.prob)\n",
    "row.names(prediction) <- fit.eff$predictors\n",
    "prediction\n",
    "\n",
    "# and write to csv file\n",
    "write.csv(prediction, \"../data/results/mblogit_trailing-polysome-translocon_extended.csv\", row.names=TRUE)"
   ]
  },
  {
   "cell_type": "code",
   "execution_count": null,
   "id": "17f7d007",
   "metadata": {},
   "outputs": [],
   "source": []
  }
 ],
 "metadata": {
  "kernelspec": {
   "display_name": "R",
   "language": "R",
   "name": "ir"
  },
  "language_info": {
   "codemirror_mode": "r",
   "file_extension": ".r",
   "mimetype": "text/x-r-source",
   "name": "R",
   "pygments_lexer": "r",
   "version": "3.6.1"
  }
 },
 "nbformat": 4,
 "nbformat_minor": 5
}
