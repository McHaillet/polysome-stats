{
 "cells": [
  {
   "cell_type": "markdown",
   "id": "b9509f3f",
   "metadata": {},
   "source": [
    "## mclogit installation\n",
    "\n",
    "We first install mclogit. Its not included in the env.yaml because it can only be installed from within R. Only run the cell below once in the environment to install it."
   ]
  },
  {
   "cell_type": "code",
   "execution_count": 1,
   "id": "94b71af2",
   "metadata": {},
   "outputs": [
    {
     "name": "stderr",
     "output_type": "stream",
     "text": [
      "also installing the dependencies ‘lattice’, ‘MASS’, ‘data.table’, ‘yaml’, ‘Matrix’, ‘memisc’\n",
      "\n",
      "\n",
      "Updating HTML index of packages in '.Library'\n",
      "\n",
      "Making 'packages.html' ...\n",
      " done\n",
      "\n"
     ]
    }
   ],
   "source": [
    "# only run this cell once in the R version of the conda environment\n",
    "install.packages(\"mclogit\")"
   ]
  },
  {
   "cell_type": "markdown",
   "id": "ad74750e",
   "metadata": {},
   "source": [
    "Now we still need to load the packages, same as import of python modules. This needs to be done each time for the notebook.\n",
    "\n",
    "We also need to import some functions for the analysis of the statistical models."
   ]
  },
  {
   "cell_type": "code",
   "execution_count": 3,
   "id": "eebd9d42",
   "metadata": {},
   "outputs": [],
   "source": [
    "library(\"mclogit\")\n",
    "source(\"mclogit-effects.r\")"
   ]
  },
  {
   "cell_type": "markdown",
   "id": "86de617c",
   "metadata": {},
   "source": [
    "## Importing the dataframe to R"
   ]
  },
  {
   "cell_type": "code",
   "execution_count": 4,
   "id": "c1145801",
   "metadata": {},
   "outputs": [],
   "source": [
    "# we can directly read the stored pandas dataframe to R\n",
    "df_wt <- read.csv(\"../data/results/dataframe.csv\")"
   ]
  },
  {
   "cell_type": "code",
   "execution_count": 6,
   "id": "c6a1eb26",
   "metadata": {},
   "outputs": [
    {
     "data": {
      "text/html": [
       "<table class=\"dataframe\">\n",
       "<caption>A data.frame: 10 × 40</caption>\n",
       "<thead>\n",
       "\t<tr><th></th><th scope=col>X</th><th scope=col>rlnCoordinateX</th><th scope=col>rlnCoordinateY</th><th scope=col>rlnCoordinateZ</th><th scope=col>rlnAngleRot</th><th scope=col>rlnAngleTilt</th><th scope=col>rlnAnglePsi</th><th scope=col>rlnImageName</th><th scope=col>rlnCtfImage</th><th scope=col>rlnRandomSubset</th><th scope=col>⋯</th><th scope=col>state</th><th scope=col>elongation</th><th scope=col>trapccdc</th><th scope=col>state_full</th><th scope=col>trailing_id</th><th scope=col>leading_id</th><th scope=col>tr_state_full</th><th scope=col>ld_state_full</th><th scope=col>tr_elongation</th><th scope=col>ld_elongation</th></tr>\n",
       "\t<tr><th></th><th scope=col>&lt;int&gt;</th><th scope=col>&lt;dbl&gt;</th><th scope=col>&lt;dbl&gt;</th><th scope=col>&lt;dbl&gt;</th><th scope=col>&lt;dbl&gt;</th><th scope=col>&lt;dbl&gt;</th><th scope=col>&lt;dbl&gt;</th><th scope=col>&lt;chr&gt;</th><th scope=col>&lt;chr&gt;</th><th scope=col>&lt;int&gt;</th><th scope=col>⋯</th><th scope=col>&lt;chr&gt;</th><th scope=col>&lt;chr&gt;</th><th scope=col>&lt;chr&gt;</th><th scope=col>&lt;chr&gt;</th><th scope=col>&lt;int&gt;</th><th scope=col>&lt;int&gt;</th><th scope=col>&lt;chr&gt;</th><th scope=col>&lt;chr&gt;</th><th scope=col>&lt;chr&gt;</th><th scope=col>&lt;chr&gt;</th></tr>\n",
       "</thead>\n",
       "<tbody>\n",
       "\t<tr><th scope=row>1</th><td>0</td><td>872.7986</td><td>529.7619</td><td>286.2439</td><td>  11.28056</td><td> 82.88946</td><td> 181.65190</td><td>/data2/mgemmer/WARPM/HEKFWT/000_Subtomograms/001_TM_bin4/tomo1.mrc/tomo1.mrc_Particles_TM_0000082_6.90A.mrc  </td><td>/data2/mgemmer/WARPM/HEKFWT/000_Subtomograms/001_TM_bin4/tomo1.mrc/tomo1.mrc_Particles_TM_0000082_ctf_6.90A.mrc  </td><td>1</td><td>⋯</td><td>NCLN</td><td>Dec</td><td>ap </td><td>NCLNCCDC47    </td><td>   -1</td><td>   -1</td><td>non </td><td>non</td><td>non </td><td>non </td></tr>\n",
       "\t<tr><th scope=row>2</th><td>1</td><td>401.9046</td><td>214.0999</td><td>138.9087</td><td> -61.55985</td><td>136.25310</td><td>-135.14440</td><td>/data2/mgemmer/WARPM/HEKFWT/000_Subtomograms/001_TM_bin4/tomo1.mrc/tomo1.mrc_Particles_TM_0000074_6.90A.mrc  </td><td>/data2/mgemmer/WARPM/HEKFWT/000_Subtomograms/001_TM_bin4/tomo1.mrc/tomo1.mrc_Particles_TM_0000074_ctf_6.90A.mrc  </td><td>1</td><td>⋯</td><td>OST </td><td>Dec</td><td>Unk</td><td>OST           </td><td>43744</td><td>   -1</td><td>OST </td><td>non</td><td>Rot1</td><td>non </td></tr>\n",
       "\t<tr><th scope=row>3</th><td>2</td><td>824.8273</td><td>699.2300</td><td>245.7589</td><td> -54.52035</td><td> 85.32531</td><td> 102.23010</td><td>/data2/mgemmer/WARPM/HEKFWT/000_Subtomograms/001_TM_bin4/tomo1.mrc/tomo1.mrc_Particles_TM_0000066_6.90A.mrc  </td><td>/data2/mgemmer/WARPM/HEKFWT/000_Subtomograms/001_TM_bin4/tomo1.mrc/tomo1.mrc_Particles_TM_0000066_ctf_6.90A.mrc  </td><td>1</td><td>⋯</td><td>OST </td><td>Dec</td><td>Unk</td><td>OST           </td><td>22540</td><td>   -1</td><td>TRAP</td><td>non</td><td>Pre+</td><td>non </td></tr>\n",
       "\t<tr><th scope=row>4</th><td>3</td><td>854.6401</td><td>663.1552</td><td>180.3849</td><td> 135.56340</td><td>108.82990</td><td> 170.21040</td><td>/data2/mgemmer/WARPM/HEKFWT/000_Subtomograms/001_TM_bin4/tomo1.mrc/tomo1.mrc_Particles_TM_0000131_6.90A.mrc  </td><td>/data2/mgemmer/WARPM/HEKFWT/000_Subtomograms/001_TM_bin4/tomo1.mrc/tomo1.mrc_Particles_TM_0000131_ctf_6.90A.mrc  </td><td>2</td><td>⋯</td><td>OST </td><td>Dec</td><td>Unk</td><td>OST           </td><td>   -1</td><td>   -1</td><td>non </td><td>non</td><td>non </td><td>non </td></tr>\n",
       "\t<tr><th scope=row>5</th><td>4</td><td>365.4104</td><td>783.4767</td><td>171.0251</td><td>-170.52960</td><td> 96.45240</td><td>  78.46428</td><td>/data2/mgemmer/WARPM/HEKFWT/000_Subtomograms/001_TM_bin4/tomo1.mrc/tomo1.mrc_Particles_TM_0000084_6.90A.mrc  </td><td>/data2/mgemmer/WARPM/HEKFWT/000_Subtomograms/001_TM_bin4/tomo1.mrc/tomo1.mrc_Particles_TM_0000084_ctf_6.90A.mrc  </td><td>1</td><td>⋯</td><td>TRAP</td><td>Dec</td><td>Unk</td><td>TRAP          </td><td>93748</td><td>77732</td><td>Unk </td><td>Sol</td><td>Rot2</td><td>Rot2</td></tr>\n",
       "\t<tr><th scope=row>6</th><td>5</td><td>552.4885</td><td>393.1882</td><td>290.5255</td><td> -95.76124</td><td> 54.98696</td><td> 138.87160</td><td>/data2/mgemmer/WARPM/HEKFWT/000_Subtomograms/001_TM_bin4/tomo10.mrc/tomo10.mrc_Particles_TM_0000083_6.90A.mrc</td><td>/data2/mgemmer/WARPM/HEKFWT/000_Subtomograms/001_TM_bin4/tomo10.mrc/tomo10.mrc_Particles_TM_0000083_ctf_6.90A.mrc</td><td>1</td><td>⋯</td><td>NCLN</td><td>Dec</td><td>aa </td><td>NCLN          </td><td>   -1</td><td>   -1</td><td>non </td><td>non</td><td>non </td><td>non </td></tr>\n",
       "\t<tr><th scope=row>7</th><td>6</td><td>527.4935</td><td>331.1865</td><td>344.3186</td><td>  11.60153</td><td> 66.91779</td><td> 159.45720</td><td>/data2/mgemmer/WARPM/HEKFWT/000_Subtomograms/001_TM_bin4/tomo10.mrc/tomo10.mrc_Particles_TM_0000045_6.90A.mrc</td><td>/data2/mgemmer/WARPM/HEKFWT/000_Subtomograms/001_TM_bin4/tomo10.mrc/tomo10.mrc_Particles_TM_0000045_ctf_6.90A.mrc</td><td>2</td><td>⋯</td><td>NCLN</td><td>Dec</td><td>pp </td><td>NCLNTRAPCCDC47</td><td>   -1</td><td>   -1</td><td>non </td><td>non</td><td>non </td><td>non </td></tr>\n",
       "\t<tr><th scope=row>8</th><td>7</td><td>613.7941</td><td>483.3066</td><td>281.5603</td><td>  27.30225</td><td>102.68160</td><td> -77.22680</td><td>/data2/mgemmer/WARPM/HEKFWT/000_Subtomograms/001_TM_bin4/tomo10.mrc/tomo10.mrc_Particles_TM_0000127_6.90A.mrc</td><td>/data2/mgemmer/WARPM/HEKFWT/000_Subtomograms/001_TM_bin4/tomo10.mrc/tomo10.mrc_Particles_TM_0000127_ctf_6.90A.mrc</td><td>2</td><td>⋯</td><td>OST </td><td>Dec</td><td>Unk</td><td>OST           </td><td>   -1</td><td>   -1</td><td>non </td><td>non</td><td>non </td><td>non </td></tr>\n",
       "\t<tr><th scope=row>9</th><td>8</td><td>456.7881</td><td>126.3801</td><td>263.8271</td><td>-137.81460</td><td> 91.16395</td><td> -96.72511</td><td>/data2/mgemmer/WARPM/HEKFWT/000_Subtomograms/001_TM_bin4/tomo10.mrc/tomo10.mrc_Particles_TM_0000163_6.90A.mrc</td><td>/data2/mgemmer/WARPM/HEKFWT/000_Subtomograms/001_TM_bin4/tomo10.mrc/tomo10.mrc_Particles_TM_0000163_ctf_6.90A.mrc</td><td>2</td><td>⋯</td><td>OST </td><td>Dec</td><td>Unk</td><td>OST           </td><td>53810</td><td>   -1</td><td>OST </td><td>non</td><td>Rot2</td><td>non </td></tr>\n",
       "\t<tr><th scope=row>10</th><td>9</td><td>358.8124</td><td>137.2493</td><td>229.1788</td><td> 149.49130</td><td>137.45240</td><td> -51.54502</td><td>/data2/mgemmer/WARPM/HEKFWT/000_Subtomograms/001_TM_bin4/tomo10.mrc/tomo10.mrc_Particles_TM_0000201_6.90A.mrc</td><td>/data2/mgemmer/WARPM/HEKFWT/000_Subtomograms/001_TM_bin4/tomo10.mrc/tomo10.mrc_Particles_TM_0000201_ctf_6.90A.mrc</td><td>2</td><td>⋯</td><td>OST </td><td>Dec</td><td>Unk</td><td>OST           </td><td>   -1</td><td>43749</td><td>non </td><td>OST</td><td>non </td><td>Rot1</td></tr>\n",
       "</tbody>\n",
       "</table>\n"
      ],
      "text/latex": [
       "A data.frame: 10 × 40\n",
       "\\begin{tabular}{r|lllllllllllllllllllll}\n",
       "  & X & rlnCoordinateX & rlnCoordinateY & rlnCoordinateZ & rlnAngleRot & rlnAngleTilt & rlnAnglePsi & rlnImageName & rlnCtfImage & rlnRandomSubset & ⋯ & state & elongation & trapccdc & state\\_full & trailing\\_id & leading\\_id & tr\\_state\\_full & ld\\_state\\_full & tr\\_elongation & ld\\_elongation\\\\\n",
       "  & <int> & <dbl> & <dbl> & <dbl> & <dbl> & <dbl> & <dbl> & <chr> & <chr> & <int> & ⋯ & <chr> & <chr> & <chr> & <chr> & <int> & <int> & <chr> & <chr> & <chr> & <chr>\\\\\n",
       "\\hline\n",
       "\t1 & 0 & 872.7986 & 529.7619 & 286.2439 &   11.28056 &  82.88946 &  181.65190 & /data2/mgemmer/WARPM/HEKFWT/000\\_Subtomograms/001\\_TM\\_bin4/tomo1.mrc/tomo1.mrc\\_Particles\\_TM\\_0000082\\_6.90A.mrc   & /data2/mgemmer/WARPM/HEKFWT/000\\_Subtomograms/001\\_TM\\_bin4/tomo1.mrc/tomo1.mrc\\_Particles\\_TM\\_0000082\\_ctf\\_6.90A.mrc   & 1 & ⋯ & NCLN & Dec & ap  & NCLNCCDC47     &    -1 &    -1 & non  & non & non  & non \\\\\n",
       "\t2 & 1 & 401.9046 & 214.0999 & 138.9087 &  -61.55985 & 136.25310 & -135.14440 & /data2/mgemmer/WARPM/HEKFWT/000\\_Subtomograms/001\\_TM\\_bin4/tomo1.mrc/tomo1.mrc\\_Particles\\_TM\\_0000074\\_6.90A.mrc   & /data2/mgemmer/WARPM/HEKFWT/000\\_Subtomograms/001\\_TM\\_bin4/tomo1.mrc/tomo1.mrc\\_Particles\\_TM\\_0000074\\_ctf\\_6.90A.mrc   & 1 & ⋯ & OST  & Dec & Unk & OST            & 43744 &    -1 & OST  & non & Rot1 & non \\\\\n",
       "\t3 & 2 & 824.8273 & 699.2300 & 245.7589 &  -54.52035 &  85.32531 &  102.23010 & /data2/mgemmer/WARPM/HEKFWT/000\\_Subtomograms/001\\_TM\\_bin4/tomo1.mrc/tomo1.mrc\\_Particles\\_TM\\_0000066\\_6.90A.mrc   & /data2/mgemmer/WARPM/HEKFWT/000\\_Subtomograms/001\\_TM\\_bin4/tomo1.mrc/tomo1.mrc\\_Particles\\_TM\\_0000066\\_ctf\\_6.90A.mrc   & 1 & ⋯ & OST  & Dec & Unk & OST            & 22540 &    -1 & TRAP & non & Pre+ & non \\\\\n",
       "\t4 & 3 & 854.6401 & 663.1552 & 180.3849 &  135.56340 & 108.82990 &  170.21040 & /data2/mgemmer/WARPM/HEKFWT/000\\_Subtomograms/001\\_TM\\_bin4/tomo1.mrc/tomo1.mrc\\_Particles\\_TM\\_0000131\\_6.90A.mrc   & /data2/mgemmer/WARPM/HEKFWT/000\\_Subtomograms/001\\_TM\\_bin4/tomo1.mrc/tomo1.mrc\\_Particles\\_TM\\_0000131\\_ctf\\_6.90A.mrc   & 2 & ⋯ & OST  & Dec & Unk & OST            &    -1 &    -1 & non  & non & non  & non \\\\\n",
       "\t5 & 4 & 365.4104 & 783.4767 & 171.0251 & -170.52960 &  96.45240 &   78.46428 & /data2/mgemmer/WARPM/HEKFWT/000\\_Subtomograms/001\\_TM\\_bin4/tomo1.mrc/tomo1.mrc\\_Particles\\_TM\\_0000084\\_6.90A.mrc   & /data2/mgemmer/WARPM/HEKFWT/000\\_Subtomograms/001\\_TM\\_bin4/tomo1.mrc/tomo1.mrc\\_Particles\\_TM\\_0000084\\_ctf\\_6.90A.mrc   & 1 & ⋯ & TRAP & Dec & Unk & TRAP           & 93748 & 77732 & Unk  & Sol & Rot2 & Rot2\\\\\n",
       "\t6 & 5 & 552.4885 & 393.1882 & 290.5255 &  -95.76124 &  54.98696 &  138.87160 & /data2/mgemmer/WARPM/HEKFWT/000\\_Subtomograms/001\\_TM\\_bin4/tomo10.mrc/tomo10.mrc\\_Particles\\_TM\\_0000083\\_6.90A.mrc & /data2/mgemmer/WARPM/HEKFWT/000\\_Subtomograms/001\\_TM\\_bin4/tomo10.mrc/tomo10.mrc\\_Particles\\_TM\\_0000083\\_ctf\\_6.90A.mrc & 1 & ⋯ & NCLN & Dec & aa  & NCLN           &    -1 &    -1 & non  & non & non  & non \\\\\n",
       "\t7 & 6 & 527.4935 & 331.1865 & 344.3186 &   11.60153 &  66.91779 &  159.45720 & /data2/mgemmer/WARPM/HEKFWT/000\\_Subtomograms/001\\_TM\\_bin4/tomo10.mrc/tomo10.mrc\\_Particles\\_TM\\_0000045\\_6.90A.mrc & /data2/mgemmer/WARPM/HEKFWT/000\\_Subtomograms/001\\_TM\\_bin4/tomo10.mrc/tomo10.mrc\\_Particles\\_TM\\_0000045\\_ctf\\_6.90A.mrc & 2 & ⋯ & NCLN & Dec & pp  & NCLNTRAPCCDC47 &    -1 &    -1 & non  & non & non  & non \\\\\n",
       "\t8 & 7 & 613.7941 & 483.3066 & 281.5603 &   27.30225 & 102.68160 &  -77.22680 & /data2/mgemmer/WARPM/HEKFWT/000\\_Subtomograms/001\\_TM\\_bin4/tomo10.mrc/tomo10.mrc\\_Particles\\_TM\\_0000127\\_6.90A.mrc & /data2/mgemmer/WARPM/HEKFWT/000\\_Subtomograms/001\\_TM\\_bin4/tomo10.mrc/tomo10.mrc\\_Particles\\_TM\\_0000127\\_ctf\\_6.90A.mrc & 2 & ⋯ & OST  & Dec & Unk & OST            &    -1 &    -1 & non  & non & non  & non \\\\\n",
       "\t9 & 8 & 456.7881 & 126.3801 & 263.8271 & -137.81460 &  91.16395 &  -96.72511 & /data2/mgemmer/WARPM/HEKFWT/000\\_Subtomograms/001\\_TM\\_bin4/tomo10.mrc/tomo10.mrc\\_Particles\\_TM\\_0000163\\_6.90A.mrc & /data2/mgemmer/WARPM/HEKFWT/000\\_Subtomograms/001\\_TM\\_bin4/tomo10.mrc/tomo10.mrc\\_Particles\\_TM\\_0000163\\_ctf\\_6.90A.mrc & 2 & ⋯ & OST  & Dec & Unk & OST            & 53810 &    -1 & OST  & non & Rot2 & non \\\\\n",
       "\t10 & 9 & 358.8124 & 137.2493 & 229.1788 &  149.49130 & 137.45240 &  -51.54502 & /data2/mgemmer/WARPM/HEKFWT/000\\_Subtomograms/001\\_TM\\_bin4/tomo10.mrc/tomo10.mrc\\_Particles\\_TM\\_0000201\\_6.90A.mrc & /data2/mgemmer/WARPM/HEKFWT/000\\_Subtomograms/001\\_TM\\_bin4/tomo10.mrc/tomo10.mrc\\_Particles\\_TM\\_0000201\\_ctf\\_6.90A.mrc & 2 & ⋯ & OST  & Dec & Unk & OST            &    -1 & 43749 & non  & OST & non  & Rot1\\\\\n",
       "\\end{tabular}\n"
      ],
      "text/markdown": [
       "\n",
       "A data.frame: 10 × 40\n",
       "\n",
       "| <!--/--> | X &lt;int&gt; | rlnCoordinateX &lt;dbl&gt; | rlnCoordinateY &lt;dbl&gt; | rlnCoordinateZ &lt;dbl&gt; | rlnAngleRot &lt;dbl&gt; | rlnAngleTilt &lt;dbl&gt; | rlnAnglePsi &lt;dbl&gt; | rlnImageName &lt;chr&gt; | rlnCtfImage &lt;chr&gt; | rlnRandomSubset &lt;int&gt; | ⋯ ⋯ | state &lt;chr&gt; | elongation &lt;chr&gt; | trapccdc &lt;chr&gt; | state_full &lt;chr&gt; | trailing_id &lt;int&gt; | leading_id &lt;int&gt; | tr_state_full &lt;chr&gt; | ld_state_full &lt;chr&gt; | tr_elongation &lt;chr&gt; | ld_elongation &lt;chr&gt; |\n",
       "|---|---|---|---|---|---|---|---|---|---|---|---|---|---|---|---|---|---|---|---|---|---|\n",
       "| 1 | 0 | 872.7986 | 529.7619 | 286.2439 |   11.28056 |  82.88946 |  181.65190 | /data2/mgemmer/WARPM/HEKFWT/000_Subtomograms/001_TM_bin4/tomo1.mrc/tomo1.mrc_Particles_TM_0000082_6.90A.mrc   | /data2/mgemmer/WARPM/HEKFWT/000_Subtomograms/001_TM_bin4/tomo1.mrc/tomo1.mrc_Particles_TM_0000082_ctf_6.90A.mrc   | 1 | ⋯ | NCLN | Dec | ap  | NCLNCCDC47     |    -1 |    -1 | non  | non | non  | non  |\n",
       "| 2 | 1 | 401.9046 | 214.0999 | 138.9087 |  -61.55985 | 136.25310 | -135.14440 | /data2/mgemmer/WARPM/HEKFWT/000_Subtomograms/001_TM_bin4/tomo1.mrc/tomo1.mrc_Particles_TM_0000074_6.90A.mrc   | /data2/mgemmer/WARPM/HEKFWT/000_Subtomograms/001_TM_bin4/tomo1.mrc/tomo1.mrc_Particles_TM_0000074_ctf_6.90A.mrc   | 1 | ⋯ | OST  | Dec | Unk | OST            | 43744 |    -1 | OST  | non | Rot1 | non  |\n",
       "| 3 | 2 | 824.8273 | 699.2300 | 245.7589 |  -54.52035 |  85.32531 |  102.23010 | /data2/mgemmer/WARPM/HEKFWT/000_Subtomograms/001_TM_bin4/tomo1.mrc/tomo1.mrc_Particles_TM_0000066_6.90A.mrc   | /data2/mgemmer/WARPM/HEKFWT/000_Subtomograms/001_TM_bin4/tomo1.mrc/tomo1.mrc_Particles_TM_0000066_ctf_6.90A.mrc   | 1 | ⋯ | OST  | Dec | Unk | OST            | 22540 |    -1 | TRAP | non | Pre+ | non  |\n",
       "| 4 | 3 | 854.6401 | 663.1552 | 180.3849 |  135.56340 | 108.82990 |  170.21040 | /data2/mgemmer/WARPM/HEKFWT/000_Subtomograms/001_TM_bin4/tomo1.mrc/tomo1.mrc_Particles_TM_0000131_6.90A.mrc   | /data2/mgemmer/WARPM/HEKFWT/000_Subtomograms/001_TM_bin4/tomo1.mrc/tomo1.mrc_Particles_TM_0000131_ctf_6.90A.mrc   | 2 | ⋯ | OST  | Dec | Unk | OST            |    -1 |    -1 | non  | non | non  | non  |\n",
       "| 5 | 4 | 365.4104 | 783.4767 | 171.0251 | -170.52960 |  96.45240 |   78.46428 | /data2/mgemmer/WARPM/HEKFWT/000_Subtomograms/001_TM_bin4/tomo1.mrc/tomo1.mrc_Particles_TM_0000084_6.90A.mrc   | /data2/mgemmer/WARPM/HEKFWT/000_Subtomograms/001_TM_bin4/tomo1.mrc/tomo1.mrc_Particles_TM_0000084_ctf_6.90A.mrc   | 1 | ⋯ | TRAP | Dec | Unk | TRAP           | 93748 | 77732 | Unk  | Sol | Rot2 | Rot2 |\n",
       "| 6 | 5 | 552.4885 | 393.1882 | 290.5255 |  -95.76124 |  54.98696 |  138.87160 | /data2/mgemmer/WARPM/HEKFWT/000_Subtomograms/001_TM_bin4/tomo10.mrc/tomo10.mrc_Particles_TM_0000083_6.90A.mrc | /data2/mgemmer/WARPM/HEKFWT/000_Subtomograms/001_TM_bin4/tomo10.mrc/tomo10.mrc_Particles_TM_0000083_ctf_6.90A.mrc | 1 | ⋯ | NCLN | Dec | aa  | NCLN           |    -1 |    -1 | non  | non | non  | non  |\n",
       "| 7 | 6 | 527.4935 | 331.1865 | 344.3186 |   11.60153 |  66.91779 |  159.45720 | /data2/mgemmer/WARPM/HEKFWT/000_Subtomograms/001_TM_bin4/tomo10.mrc/tomo10.mrc_Particles_TM_0000045_6.90A.mrc | /data2/mgemmer/WARPM/HEKFWT/000_Subtomograms/001_TM_bin4/tomo10.mrc/tomo10.mrc_Particles_TM_0000045_ctf_6.90A.mrc | 2 | ⋯ | NCLN | Dec | pp  | NCLNTRAPCCDC47 |    -1 |    -1 | non  | non | non  | non  |\n",
       "| 8 | 7 | 613.7941 | 483.3066 | 281.5603 |   27.30225 | 102.68160 |  -77.22680 | /data2/mgemmer/WARPM/HEKFWT/000_Subtomograms/001_TM_bin4/tomo10.mrc/tomo10.mrc_Particles_TM_0000127_6.90A.mrc | /data2/mgemmer/WARPM/HEKFWT/000_Subtomograms/001_TM_bin4/tomo10.mrc/tomo10.mrc_Particles_TM_0000127_ctf_6.90A.mrc | 2 | ⋯ | OST  | Dec | Unk | OST            |    -1 |    -1 | non  | non | non  | non  |\n",
       "| 9 | 8 | 456.7881 | 126.3801 | 263.8271 | -137.81460 |  91.16395 |  -96.72511 | /data2/mgemmer/WARPM/HEKFWT/000_Subtomograms/001_TM_bin4/tomo10.mrc/tomo10.mrc_Particles_TM_0000163_6.90A.mrc | /data2/mgemmer/WARPM/HEKFWT/000_Subtomograms/001_TM_bin4/tomo10.mrc/tomo10.mrc_Particles_TM_0000163_ctf_6.90A.mrc | 2 | ⋯ | OST  | Dec | Unk | OST            | 53810 |    -1 | OST  | non | Rot2 | non  |\n",
       "| 10 | 9 | 358.8124 | 137.2493 | 229.1788 |  149.49130 | 137.45240 |  -51.54502 | /data2/mgemmer/WARPM/HEKFWT/000_Subtomograms/001_TM_bin4/tomo10.mrc/tomo10.mrc_Particles_TM_0000201_6.90A.mrc | /data2/mgemmer/WARPM/HEKFWT/000_Subtomograms/001_TM_bin4/tomo10.mrc/tomo10.mrc_Particles_TM_0000201_ctf_6.90A.mrc | 2 | ⋯ | OST  | Dec | Unk | OST            |    -1 | 43749 | non  | OST | non  | Rot1 |\n",
       "\n"
      ],
      "text/plain": [
       "   X rlnCoordinateX rlnCoordinateY rlnCoordinateZ rlnAngleRot rlnAngleTilt\n",
       "1  0 872.7986       529.7619       286.2439         11.28056   82.88946   \n",
       "2  1 401.9046       214.0999       138.9087        -61.55985  136.25310   \n",
       "3  2 824.8273       699.2300       245.7589        -54.52035   85.32531   \n",
       "4  3 854.6401       663.1552       180.3849        135.56340  108.82990   \n",
       "5  4 365.4104       783.4767       171.0251       -170.52960   96.45240   \n",
       "6  5 552.4885       393.1882       290.5255        -95.76124   54.98696   \n",
       "7  6 527.4935       331.1865       344.3186         11.60153   66.91779   \n",
       "8  7 613.7941       483.3066       281.5603         27.30225  102.68160   \n",
       "9  8 456.7881       126.3801       263.8271       -137.81460   91.16395   \n",
       "10 9 358.8124       137.2493       229.1788        149.49130  137.45240   \n",
       "   rlnAnglePsi\n",
       "1   181.65190 \n",
       "2  -135.14440 \n",
       "3   102.23010 \n",
       "4   170.21040 \n",
       "5    78.46428 \n",
       "6   138.87160 \n",
       "7   159.45720 \n",
       "8   -77.22680 \n",
       "9   -96.72511 \n",
       "10  -51.54502 \n",
       "   rlnImageName                                                                                                 \n",
       "1  /data2/mgemmer/WARPM/HEKFWT/000_Subtomograms/001_TM_bin4/tomo1.mrc/tomo1.mrc_Particles_TM_0000082_6.90A.mrc  \n",
       "2  /data2/mgemmer/WARPM/HEKFWT/000_Subtomograms/001_TM_bin4/tomo1.mrc/tomo1.mrc_Particles_TM_0000074_6.90A.mrc  \n",
       "3  /data2/mgemmer/WARPM/HEKFWT/000_Subtomograms/001_TM_bin4/tomo1.mrc/tomo1.mrc_Particles_TM_0000066_6.90A.mrc  \n",
       "4  /data2/mgemmer/WARPM/HEKFWT/000_Subtomograms/001_TM_bin4/tomo1.mrc/tomo1.mrc_Particles_TM_0000131_6.90A.mrc  \n",
       "5  /data2/mgemmer/WARPM/HEKFWT/000_Subtomograms/001_TM_bin4/tomo1.mrc/tomo1.mrc_Particles_TM_0000084_6.90A.mrc  \n",
       "6  /data2/mgemmer/WARPM/HEKFWT/000_Subtomograms/001_TM_bin4/tomo10.mrc/tomo10.mrc_Particles_TM_0000083_6.90A.mrc\n",
       "7  /data2/mgemmer/WARPM/HEKFWT/000_Subtomograms/001_TM_bin4/tomo10.mrc/tomo10.mrc_Particles_TM_0000045_6.90A.mrc\n",
       "8  /data2/mgemmer/WARPM/HEKFWT/000_Subtomograms/001_TM_bin4/tomo10.mrc/tomo10.mrc_Particles_TM_0000127_6.90A.mrc\n",
       "9  /data2/mgemmer/WARPM/HEKFWT/000_Subtomograms/001_TM_bin4/tomo10.mrc/tomo10.mrc_Particles_TM_0000163_6.90A.mrc\n",
       "10 /data2/mgemmer/WARPM/HEKFWT/000_Subtomograms/001_TM_bin4/tomo10.mrc/tomo10.mrc_Particles_TM_0000201_6.90A.mrc\n",
       "   rlnCtfImage                                                                                                      \n",
       "1  /data2/mgemmer/WARPM/HEKFWT/000_Subtomograms/001_TM_bin4/tomo1.mrc/tomo1.mrc_Particles_TM_0000082_ctf_6.90A.mrc  \n",
       "2  /data2/mgemmer/WARPM/HEKFWT/000_Subtomograms/001_TM_bin4/tomo1.mrc/tomo1.mrc_Particles_TM_0000074_ctf_6.90A.mrc  \n",
       "3  /data2/mgemmer/WARPM/HEKFWT/000_Subtomograms/001_TM_bin4/tomo1.mrc/tomo1.mrc_Particles_TM_0000066_ctf_6.90A.mrc  \n",
       "4  /data2/mgemmer/WARPM/HEKFWT/000_Subtomograms/001_TM_bin4/tomo1.mrc/tomo1.mrc_Particles_TM_0000131_ctf_6.90A.mrc  \n",
       "5  /data2/mgemmer/WARPM/HEKFWT/000_Subtomograms/001_TM_bin4/tomo1.mrc/tomo1.mrc_Particles_TM_0000084_ctf_6.90A.mrc  \n",
       "6  /data2/mgemmer/WARPM/HEKFWT/000_Subtomograms/001_TM_bin4/tomo10.mrc/tomo10.mrc_Particles_TM_0000083_ctf_6.90A.mrc\n",
       "7  /data2/mgemmer/WARPM/HEKFWT/000_Subtomograms/001_TM_bin4/tomo10.mrc/tomo10.mrc_Particles_TM_0000045_ctf_6.90A.mrc\n",
       "8  /data2/mgemmer/WARPM/HEKFWT/000_Subtomograms/001_TM_bin4/tomo10.mrc/tomo10.mrc_Particles_TM_0000127_ctf_6.90A.mrc\n",
       "9  /data2/mgemmer/WARPM/HEKFWT/000_Subtomograms/001_TM_bin4/tomo10.mrc/tomo10.mrc_Particles_TM_0000163_ctf_6.90A.mrc\n",
       "10 /data2/mgemmer/WARPM/HEKFWT/000_Subtomograms/001_TM_bin4/tomo10.mrc/tomo10.mrc_Particles_TM_0000201_ctf_6.90A.mrc\n",
       "   rlnRandomSubset ⋯ state elongation trapccdc state_full     trailing_id\n",
       "1  1               ⋯ NCLN  Dec        ap       NCLNCCDC47        -1      \n",
       "2  1               ⋯ OST   Dec        Unk      OST            43744      \n",
       "3  1               ⋯ OST   Dec        Unk      OST            22540      \n",
       "4  2               ⋯ OST   Dec        Unk      OST               -1      \n",
       "5  1               ⋯ TRAP  Dec        Unk      TRAP           93748      \n",
       "6  1               ⋯ NCLN  Dec        aa       NCLN              -1      \n",
       "7  2               ⋯ NCLN  Dec        pp       NCLNTRAPCCDC47    -1      \n",
       "8  2               ⋯ OST   Dec        Unk      OST               -1      \n",
       "9  2               ⋯ OST   Dec        Unk      OST            53810      \n",
       "10 2               ⋯ OST   Dec        Unk      OST               -1      \n",
       "   leading_id tr_state_full ld_state_full tr_elongation ld_elongation\n",
       "1     -1      non           non           non           non          \n",
       "2     -1      OST           non           Rot1          non          \n",
       "3     -1      TRAP          non           Pre+          non          \n",
       "4     -1      non           non           non           non          \n",
       "5  77732      Unk           Sol           Rot2          Rot2         \n",
       "6     -1      non           non           non           non          \n",
       "7     -1      non           non           non           non          \n",
       "8     -1      non           non           non           non          \n",
       "9     -1      OST           non           Rot2          non          \n",
       "10 43749      non           OST           non           Rot1         "
      ]
     },
     "metadata": {},
     "output_type": "display_data"
    }
   ],
   "source": [
    "head(df_wt, n=10)"
   ]
  }
 ],
 "metadata": {
  "kernelspec": {
   "display_name": "R",
   "language": "R",
   "name": "ir"
  },
  "language_info": {
   "codemirror_mode": "r",
   "file_extension": ".r",
   "mimetype": "text/x-r-source",
   "name": "R",
   "pygments_lexer": "r",
   "version": "4.2.0"
  }
 },
 "nbformat": 4,
 "nbformat_minor": 5
}
